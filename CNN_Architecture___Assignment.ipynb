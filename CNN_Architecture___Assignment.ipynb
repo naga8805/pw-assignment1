{
  "cells": [
    {
      "cell_type": "markdown",
      "metadata": {
        "id": "dwfSgXwA0dge"
      },
      "source": [
        "**Question 1: What is the role of filters and feature maps in Convolutional Neural Network (CNN)?**\n",
        "\n",
        "**Answer:**"
      ]
    },
    {
      "cell_type": "markdown",
      "metadata": {
        "id": "iK8J--fmv5T4"
      },
      "source": [
        "In CNNs, filters act as feature detectors, sliding over an input image to extract specific patterns like edges or textures, while feature maps are the output of these filters, highlighting the presence and location of these features. Together, they enable the network to build a hierarchical representation of the input, with early layers detecting simple features and deeper layers combining them to recognize more complex objects and patterns.\n",
        "\n",
        "**Role of Filters:**\n",
        "\n",
        "* **Feature Detection:** Filters, also known as kernels, are small matrices that are trained to detect specific patterns in the input data.\n",
        "* **Convolution Operation:** They work by sliding across the image in a process called convolution, looking for these patterns in small, local patches of the image.\n",
        "* **Feature Extraction:** The result is a feature map that signals where the specific feature (e.g., an edge, a curve, a texture) has been found.\n",
        "* **Learned Patterns:** Through training, the weights within these filters are adjusted to become highly effective at detecting the features most relevant to the task at hand.\n",
        "\n",
        "**Role of Feature Maps:**\n",
        "\n",
        "* **Feature Representation:** Each feature map is a visual representation of a particular feature detected by a corresponding filter.\n",
        "* **Hierarchical Learning:** Initial layers produce feature maps that highlight basic features, while deeper layers' filters use these initial feature maps to learn and detect increasingly complex features, creating a deeper understanding of the image's content.\n",
        "* **Dimensionality Reduction:** Feature maps are then processed by other layers, often including pooling layers, to reduce spatial dimensions and make the network more efficient.\n",
        "* **Input for Next Layers:** The feature maps serve as the input for subsequent layers, allowing the network to build up a comprehensive understanding of the image, ultimately leading to a final prediction or classification."
      ]
    },
    {
      "cell_type": "markdown",
      "metadata": {
        "id": "RcAjlYM20oJs"
      },
      "source": [
        "**Question 2: Explain the concepts of padding and stride in CNNs(Convolutional Neural Network). How do they affect the output dimensions of feature maps?**\n",
        "\n",
        "**Answer:**"
      ]
    },
    {
      "cell_type": "markdown",
      "metadata": {
        "id": "cY3M1awxDEql"
      },
      "source": [
        "Padding and stride are hyperparameters in Convolutional Neural Networks (CNNs) that control the spatial dimensions of the output feature maps after a convolution operation.\n",
        "\n",
        "**Padding:**\n",
        "\n",
        "Padding involves adding extra pixels (typically zeros) around the borders of the input feature map before applying the convolutional filter. This serves several purposes:\n",
        "\n",
        "* **Preserving spatial information:** Without padding, pixels at the edges of the input are convolved fewer times than central pixels, potentially leading to information loss. Padding ensures that edge features are also adequately processed.\n",
        "* **Maintaining output dimensions:** Padding can help maintain the spatial dimensions of the output feature map similar to or even larger than the input, preventing excessive reduction in size, especially in deep networks.\n",
        "* **Controlling output size:** By adjusting the amount of padding, the output dimensions can be precisely controlled.\n",
        "\n",
        "**Stride:**\n",
        "\n",
        "Stride refers to the number of pixels the convolutional filter shifts across the input feature map at each step.\n",
        "\n",
        "* **Downsampling:** A stride greater than 1 reduces the spatial dimensions of the output feature map, effectively downsampling the image. This helps reduce computational cost and makes the network more robust to small shifts in the input (translation invariance).\n",
        "* **Controlling information density:** A smaller stride (e.g., 1) results in a denser sampling of features, preserving more spatial detail, while a larger stride reduces resolution but captures broader patterns.\n",
        "\n",
        "**Effect on Output Dimensions:**\n",
        "\n",
        "TThe size of the output feature map (O) can be calculated using the following formula, where:\n",
        "\n",
        "I = Input dimension (height or width)\n",
        "\n",
        "K = Filter size (kernel size)\n",
        "\n",
        "P = Padding amount (number of zeros added to one side)\n",
        "\n",
        "S = Stride\n",
        "\n",
        "![Screenshot Capture - 2025-09-28 - 12-20-43.png](data:image/png;base64,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)"
      ]
    },
    {
      "cell_type": "markdown",
      "metadata": {
        "id": "g04fNdfwGGfF"
      },
      "source": [
        "**In summary:**     \n",
        "\n",
        "* **Padding increases the output dimensions** by effectively enlarging the input, allowing the filter to operate on a larger area.\n",
        "* **Stride reduces the output dimensions** by skipping pixels during the convolution, leading to a smaller, downsampled feature map.\n",
        "\n",
        "These hyperparameters are crucial for designing CNN architectures, balancing the need for feature extraction, spatial information preservation, and computational efficiency."
      ]
    },
    {
      "cell_type": "markdown",
      "metadata": {
        "id": "gfLg33cI00Ht"
      },
      "source": [
        "**Question 3: Define receptive field in the context of CNNs. Why is it important for deep architectures?**\n",
        "\n",
        "**Answer:**"
      ]
    },
    {
      "cell_type": "markdown",
      "metadata": {
        "id": "nDzGLj-AU7xO"
      },
      "source": [
        "**Definition of Receptive Field**\n",
        "\n",
        "The receptive field (RF) of a neuron in a specific layer of a CNN is the size of the region in the original input image that influences that neuron's activation.\n",
        "\n",
        "* **Visual Analogy:** Imagine a single pixel in a feature map of an intermediate layer. Its value is the result of a calculation involving a specific patch of pixels from the layer before it. If you trace this back layer by layer, the receptive field is the total area of the original input image that eventually contributed to that final pixel's value.\n",
        "* **Growth:** In a deep CNN, the receptive field of a neuron grows larger as you move deeper into the network.\n",
        "\n",
        "**Importance for Deep Architectures**\n",
        "\n",
        "The growing receptive field is crucial for deep architectures because it allows the network to learn increasingly complex and abstract features.\n",
        "\n",
        "* **Hierarchical Feature Extraction:** Shallow layers have small receptive fields, allowing them to capture local features like edges and corners. Deep layers have large receptive fields, meaning a single neuron there can \"see\" a large portion or even the entire input image. This allows deep layers to combine the local features into\n",
        "global, high-level features, such as the shape of an eye or the structure of a wheel.\n",
        "* **Contextual Understanding:** A large receptive field provides the deep layers with contextual information. For example, classifying an object as a 'car' requires understanding the relationship between the tires, windows, and body, which a neuron with a large receptive field is capable of processing simultaneously.\n",
        "* **Performance:** Architectures that are designed to effectively increase the receptive field depth-wise, often using small filters (like 3×3 in VGG) and pooling layers, tend to achieve better performance on complex visual tasks."
      ]
    },
    {
      "cell_type": "markdown",
      "metadata": {
        "id": "RdK0Gy4007FD"
      },
      "source": [
        "**Question 4: Discuss how filter size and stride influence the number of parameters in a CNN.**\n",
        "\n",
        "**Answer:**"
      ]
    },
    {
      "cell_type": "markdown",
      "metadata": {
        "id": "oLl1PxSaW8Cg"
      },
      "source": [
        "Both filter size and stride are hyperparameters that affect the architecture and computation of a CNN, but they influence the number of trainable parameters in distinct ways.\n",
        "\n",
        "**1. Filter Size (Kernel Size) Influence**\n",
        "\n",
        "The filter size (K×K) has a direct and quadratic influence on the number of trainable parameters in a convolutional layer.\n",
        "* **Calculation:** The number of parameters in a single convolutional layer is determined by the filter dimensions, the depth of the input, and the number of filters (output channels).\n",
        "For a layer with:\n",
        "\n",
        "![c in c out formula.png](data:image/png;base64,iVBORw0KGgoAAAANSUhEUgAAAn8AAAEuCAYAAAD/dHQ0AAAAAXNSR0IArs4c6QAAAARnQU1BAACxjwv8YQUAAAAJcEhZcwAADsQAAA7EAZUrDhsAAOEdSURBVHhe7N0HWBTXGoDhj947iAgiIl1AsWHvvXeNJbFrTExM0eSm915s0cTeNcZoisYaYy+AIioiVYr0tuzSlnpnYVVUNFhIjJz3ebg3zs6ePW3O/DNzZkbD3qFhOYIgCIIgCEKdoKn+f0EQBEEQBKEOEMGfIAiCIAhCHSKCP0EQBEEQhDpEBH+CIAiCIAh1iAj+BEEQBEEQ6hAR/AmCIAiCINQhIvgTBEEQBEGoQ0TwJwiCIAiCUIeI4E8QBEEQBKEOEcGfIAiCIAhCHSKCP0EQBEEQhDrkCX+3ryc9R7XF2VIfbfWSqrKiN7PrRA65Bap/udB1eEfcrA3Q1qj4uFJOFJt2HSencqV/0ZNUFkEQBEEQ/i1PdvDXeCKffTKRDg7GGOrpVJ7nLC2hpLic8rJsgjZM470tyWTkqlYezycbp9LVzQQ99fnQEmUJBWE/Mv5/q0lMl1cu/Lc8SWURBEEQBOFfo2Vqavae+r+fPKUykiPPceKwIT69fWhsZ4FOymE++HoFv+zax7GzsSRll1BaEf7mYNGiM11bOKKdGsTBbctY9eNu9h4JIPpaJiWlZRVJ/mv+qbI4dGD40AH07NSG1q7WZFxNwqHLUzw13A+b9Giu5RRRbOWCj7crjhblZMryKa380ceXVw8mjRuGn1WaVH45RSVP8MluQRAEQfgbT/hlX7WOH/PrghE0t9Ul9udxPPVBEElZJeoPVezpOW0Wk4Y0oyR4J5v/OEVYRDTJsmJK/uWY7w61WBarrjOZ+8xAunjUx1hXQ4ohg1k6YR9OH82kl58J8T+P5PnF10j1n8fSGZ2on7iD2R/8REpmnjqFx1PX/63i7aF+mMRtZ/ic77iWmqP+RBAEQRDqnjpxw4dLu4bYGOpIhc0g9vA1ivOrBEvWHZj01nu8OMSV5B2LWLTqZ/4KDCch6zEM/CS1VxZL+g8ZyoD2HhimHGHb6rVsOnCWtMJEsgpK0NIoQZFVTlmptKpFA5xdPfBwskVXR6vy63Rh1odLWb3+K+bYWmGqXvo4SJcpKdbSpkSRRWUBBEEQBKHuqhPBX1cXO0x1tdHIiudEaDH5ysrlVn7DmPfuXIZ7ZbF38bf8sOMoF+LlFN/3ZcwuTJv/JlM6WWKip150F55DX+LtFwdhZW6oXnJ/aq8srfBpYotxWRxHF21g6+ZNrFuzg2PyEH5c+AbPPzuXL3ZmILvrvSJ2eLZqT+cu/ngZ6KOrXvo4iPplIf97fhYvfPmLFAiKm10EQRCEuq0OBH99adrACj1tDQqSr3AqV0lBuSV+g1/krVefoUXZIb5bvIIth88Sk1PEg00HiyDDrCkjXnqHaR2tML1LAOg5Zh7zZ/TEqeQaWqVF6qX3o3bKYu/lR5v27lib6KBZVkihuT3OTT1oaCInXyOfwrISVOcXtbWg6s3D11m5+NCqnQ0m+qqzgNoYtmxBy47taO3dAD3d62cGJQ6qO5YnM2PGs8yeOYkhLRphWPVzSWVe/Giir4dT676MmzKDZ6cOp62pEXeNq6umO3UMvVs4YlAlXWVxKSWqM37aUndXFUBa369tW9pJebzzrzXeDnrc/LolLm0HMEGVj5nPMn1sLzyNDaq941oQBEEQ/gue/Dl/HT9k5zejaGF3fY5cHi2feoZJw7ribZXExmdfYlHQVXIe8hqvuXNXnnr5BYY7xLNn8YesPJ6JXH1WTqUi8JvcDZ1ji1my6S/OJhQixST3p5bKMumTNQxt7oKziz3mOoWkxiWTU1TCtaOTmb8kCb8Z3zG9c30Stz/HBz+lkDnwW/a+MQDH2FX0nbkMz6c/lT73wc3NAXP9UmQxCaQXFaMI28KsijmBevgNn8L4oe3xc26AmZ4WGhql5KcnE3VhP2s+38iZLAWq6qrMC0Qfz8PO3xOn+iboacTzx/Dn+eZaCtmVWb7Bc+DzTBzVjTZNpLyr0i1XIs9M4vLx7Sz8bhfRqhtSet82R3HIG6wd3JwGhtWFcPmEbX62spwWPZg2dTR9/N1oaGWEjpYGZUo5qTFhnPl9EYt3RyPLE5eRBUEQhP+WWj/zN3z4cBYvXsTKFSuYNWsmJiYm6k/+GS7tGmFrrJ4jd9qdZ16dxwwpWPBrYo2RmQNu3kp09R5+cp8s5hTbvl3MzmuO9Jvz9i1nAB9J4CeprbIo5XJyMrNQFJVSVpKPLFuGLDObbEUZqhuDLewb4+bujpOtrhQAqb9URb4iW/p+ZuX3KUIuq/x+piyXsrJyrAbP4IWZYxjcygFl5Al+3rSeLX+cI9PMlY4DpQDz1cG4WBiiStrWsQnuHu3pN7YHPqZyrhz/i9PhiShKSrnzKGUQT40fzeC2jSkK3cWa975m5c/B5Fr50GPUdGYNNMNMdXX99jmKeTnIs7Ir8njjL98IO2dXPF3tMC3VRrO8DdNeeJ5JIzvjaZRByJ4tbNi0nb8iwb5ND0Y/N4+p7SzuepZXEARBEB5XtfqoF1Xgpwr42vr74+LigqeHBxqamly+fJmioge57Hn/hj8zmy6uNhgUF0A9F+ppXGT7zmzqNXPE2tQEWwM5Bw6Gkp5XVE1wcT9KKchOJiY8Ga2mvRnUqzmmKYGUdXqeF5/uhlHAJhZt2CsFfgUPFPip1FZZUuMiCTqlgVvX5jQyTOLAu1+yctceDgcnkZ5dilef8XRyNUN2bhO7gnLIde3LhE5umMmC2bgriLjwMEICtHFXfd9SQcibH7Po9z84EHiZ5Awvnpn3LENa6BO78V0+W/0bB06cJfj8OQKu6OHRzg9vXxuK/jpAcHoerYZNpnlDG3SS9/LVx9+x9Y9DHDsVxMXkVDKlSPSW0LbjM8wd35pGygu88dFS9h0P5GL4RYJk+SguHGH/8YvEZRRT6nVrfnNiIog8e5pjR49w+IjqrwCXLv642xsgC1rDZ+tPkd1xOv+b2Bmn3JN89eEitu45zOlzIQQHnSbdvhXtfHxoYpDCryeiUOQXqzMkCIIgCI+/Wj3zN3LECFyloE9XVxctLS1sbW0ZO2Y0pqb/1L2gN+fIoVGOLHorC5et4Zdfv+FQWDr5RRoY+/RjuI8xJo/kDgUlmdEn+fHbxexLcWbAi0v4YHqvisBv4fo/OBv/4IFfbZYlPSGa8PBM8opKKS8vQh4dSfiVMGKSimqUX3lyLBHXv08J+dFRRErfj4jLoLhtD7p61cM4/QLrdgYQGBZPWmYWGUkxXDq8nL/CkikyaIxPa1309dUJoiD6z/X8GXiO8PgEroZHE19UXDHv8BaRychySyg1bcSwvp1o18wapSyei79sYO2W3zkTmY/yji9J0q8RFXGFy1IeL19JpV7XjjR3sUIzdi+LFv7C2dg8enVtgYN5sZSPVRwMDJZ+KpPMzDQSIoPZufoCcXIt6rv7oa17I9OCIAiC8J9Qq8GftY11RdBXlY2NzR3Lak3HDjjZGqKrVULs0Y/4Zs0Ojl6IJ0cRzY8HQ0nML6LM0JluQzpiZGKg/tLDUgWAV4hJK8a0iT9edgbkxYUTkayg6GEehvyvlOURcLDCxEALTYumTHhnMSvXrmfjBvXfik8Y4VsfQ20zbDw10bpxCVVO4t5EcqXA7p41lrqDlbsCiFZa033ENF77aAGrly3h8+l9aWapibYUJP8dzzGzmTW+LQ7F59nw6Ur2BCWQX2yOk5UJOlqGNOg2ly+WrmLD9TxLf0te6YiTmS46Vg3opqXNg923LQiCIAj/jloN/oKCgigsLFT/q1J1y2rLjTlyZSlcWhPEpYicG293SPzjNy7EKlCW6mHfbiB9DYwxqvjkYVni99QMRrczJmLLqyw5nErDIVOZ2sUZs4q7YR/Mv1OWR0AdfxWkX+FiZCihFWfbbv79uXMDK5av4McjcnJvdIsSijKk//vbs45JBGz6nPkz32X13jBkOg3w7dCDIRNm88YXHzOrvRWm9zgLqnqo9QtTBtPCIpUDSxew5WQomUpVwJlHabnqArOChDORhIXemufL539n89rlLFu/myhF/t9nUxAEQRAeI7Ua/C2Xduq7du9GJpNVBHzHT5xgwcKFZGfffs9mbbCkq6tD5TPxsq8RGFdCQdWpWenH+TEoCnlhCTrWrek30h5jk4c9I6kK/ObwyqR2lB5ewOKNf7D68w/YFGtNz1kvMbXDg94g8G+U5RHJK6GkrByd8jzOb9vG+pWrWFnN30+H5OQ9wDGBMjmc4FO/s2bJp7z56hymT3+XDReLsfPtzegxvTExuct5Oeu+TJnyFJ1cTEj880tW7w8iLr9YHcgpySsup6xcj5Ls7WzbWn2eV67fxTkp+PtnZq8KgiAIwqNRq8FfbGwsixYtZsaMmUyeMoX333+fc+eCKS7+JybId6eZoyX6Ohoo4oI4U1zArY/3lROy9gThqfkUaxrj03cY3sYmD/Fw4puBn8bRhSxW39WbHnmBnQs+rAgA+zz/1j2fA3h3/3RZHqHTF4hPK6Ssni9dm+tSkJtJWmqa+s+KrhNf5eVpA/HSMkT7Pm9UbtRrKu8uXMY3L7amXB7PpfOBnDz2KyuPXCFFqY2FQ0O0dKp7nIsno2dPYVhLOwrOb+STNae5lKa85bmIRyOSyCnSwaV9PxzylOTcyHMapZ7DmDNvLuPaWaOjq3FfN9cIgiAIwr+tVu/2VVGd9Uu4do34+HgyMjIoK7v/R5HcF9UDfL1caNxpGGP6uFPPCFJC9nMpSxtDzTSyFSUVjy9RvQPXzcUa3y7taWxlgKGZDSZ56SgMpMgsJavi0SL3k1PPMa8wf3IHNKsEftdvlijMTiU2PJxSr4EM7eWHWUogoUkFKP/ueuE/WhZv+k3oiJuZjOBNuwjMyat47l7FJ/3ufbdvTq5qzUz8Bw7Hu4ENhgZ5pJs3pXMzU6LCgkk286K9nxtuTd1wtbfHwlgfO5/ujJw0mXFDu+JjfJV9ewNJkNJpN1x1t68Gseu285dMQX5lFqpV6jiAqc8MpFNLDxqZaqOjY4K1V3sG9u1B28Zm5FxYz7aDkSice96SX+eRr/DK+I44GxeTnVOCiX0LOnXpQa+ePSv+mtkEc+JIIQ1btMLLrSnubk441jND27QJ7QY+xdRJI+nbyp78szs5HJaNuNlXEARB+C+p9eDvn9WFWe+/zPRR/ejVuSmNbQzR0dRAx9QB75YdaVkvncNBCeQWlMCoV/h89gBauzTARE8LTR0jbJ09aObfDLv0vwiKz0O1Ws30YNpLAzANXsb3mw9X+xy/GwFgkz50bqzkr6BYKR/3ihr+6bI8bPCXS4JdC7o0dcHRww2v5i3xtU7nt79OERUaQpqBE96+rWjW1Asfv9a0a98e/5ZuGGedYcuXa9gXkYRCimQ73EfwV5SdQKaulG4zP/yaetO8VVs6dupIe496lMbsZ9GC7QTH5lDs2eeW/HoPn8Eg3wYY62qjZ1YfF1d3PD09bvxZF/7Ir3+EcT62GHOXZrRp4YWnty8t/dvSoX1rfOqXEP3HMhb/HEhMRjFl4tSfIAiC8B/yhL3hww7Pls7YqG6MqOY9ZMXZUZwNS6awSIrMGvvib2+OgeqVX7coQhZ9jstJhahWq5kGeDa3pSzlMjHpyns+HsW8kTeNjeWERSZJ+bhXRPZPl0X9ewb5XAu6THyh8sajVew8W+JsY0BBQhChUmCrtPagVRMb9AsSCQqNp/D681Tqu9KidQfat/XFRTON6NO/su5AJPL8Eozs3XF39MCvtSvuXp4Y5sQTF32Gsxeucjk4hnRl5Xw7Z19/pKKQFRhCRIEURFemfFd69VzxcPaiVZvr6cYQdSmA4NAozl9KQC7VcXn9W/Nr4dxMKo9xRTBdnYL0M4REFlCoaYWTaxMcfFrQ2s0NnwYaxMdfJfJMMJcjLhCaKL9x040gCIIg/Fc8+a93E/5Z+qZYWllgolFAriyT7LzSKmfG9DC1NMHM3Bzt4jxy5WlkKUrVl64fRtV0FcizM2773YdkZI6VqRmWhpCbqyAnQ0aBlGmx4QiCIAj/RSL4EwRBEARBqENq9W5fQRAEQRAE4fEigj9BEARBEIQ6RAR/giAIgiAIdYgI/gRBEARBEOoQEfwJgiAIgiDUISL4EwRBEARBqENE8CcIgiAIglCHiOBPEARBEAShDhHBnyAIgiAIQh0igj9BEARBEIQ6RAR/giAIgiAIdYgI/gRBEARBEOoQEfwJgiAIgiDUISL4EwRBEARBqENE8CcIgiAIglCHiOBPEARBEAShDhHBnyAIgiAIQh0igj9BEARBEIQ6RAR/giAIgiAIdYgI/gRBEARBEOoQEfwJgiAIgiDUISL4EwRBEARBqENE8CcIgiAIglCHiOBPEARBEAShDtGwd2hYrv7vJ56VSxe69/anpXsTrA210VItLCskNXQ/m9cd4HJOPq5j5jHRKZpvl+8lPTu/4nuCIAiCIAhPiroR/Dl0YPzEYfRt5YtzQ1M0cjKIi75E2LUctC098PWwoTRiH5sjrBkyoj/2l2fz9HtnScwsUScgCIIgCILwZHjigz+rrlOZPXEofVo7Y55xlt82b+HAhSRSsrKQ5RWhoWdBPa/hzHupN3bm9WhkoyT4o8E8tyWB1Dx1Ig/Js9fT9G6mSfSvP3MoRkF+qfqDJ5YlLs2csdIv5FpIBCmFRTwxRbZ2wcfZCr38BC5GpKIseuIbUxAEQXjCPNFz/qy6zuTNuZMY3cUF7dAtvPH+lyzddpCjgSGERSWQnJxKUuwVzh9aw9LzMszN9Ct26oFniikoUCfy0Low5KmJjBs/i2fGmGFirF78RGvFiJnzefu1qfS2MMFAvfSJ0GIYz85/kzem98bCRF+9UBAEQRD+O57c4M9rFLNnjaePT0PKrmzi/YUb2HfyMtfkxZTefq6zMJmggDjSCkooSo3mYGYReWXqzx5aBjIpXS2NEhRZ5ZQ9bieKxszj6+VrWPHuaOpZGKoXPixLGjR2w8Pdifo62k9WJ7NogLOrBx5OtujqVMwaFQRBEIT/lCc0+GvDtBmTGezXEFNlOH988zOnz11DWXz3yEv5VzqyvBISw38mpUjxCC9TRvHrwjd4/tm5fLFTFQiqFz8unH3x79SZTi0ao6+nrV4oCIIgCMKTSsvU1Ow99X8/MVzGzGX+U+1oZK5L8skv+XzDGRIURdzzZJ5nb8YNsSPn95XsDs4mr1i9/KGVomdhg5mRNmWKNLJySym1csHH2xVHi3IyZfo07tSfIT060b6NDw3Ks0nIzKX4+ulJ1Ryzquu27kb/3t3o0MYPF4t8YpNlFJVUKZmDJ35eLjQ0L5PWz6e0ymlOKxcfmro3wdYgg2yFLW5+nri06Mlgz/royiO5lKjEsp45emnZKEpK71Fflri07a7ORxu8HbUoTJACWym4rvyON/0mdMTNTEbwpl3E2LSi16BedGnrj7dDObJrmSikdW85ASuV079HP/p16UDb1q1pWt166rLZqfPfqs8g+nWT1vdrgoUyjiRZETeq4n7WveHWcvm5WlAQm4ysqORmXXj3ZUInN8xkwWzcFUROrrJisZVLG3r07Uu39m3x93ZEqziedFkxpXevREEQBEH4VzyBN3y04eV1XzG9YyNMyuPYPmUSH5y6Slbx3xTT2p0WbmaUxFzgSlohRY9wp91n/ndM71yfxO3P8cFPKWR2mMfSGZ2on3iGi5ruUkDWGEdzfbQ0S8lPj+fcvqV8sPoUmXIpsOh9c93g0ib4ejSmoZUROlrlKOWpxISeYMeS79kblVN5I8mUj1k7uDnmcT8x64OfSMm8eddKZT6cyT09lflLejN3wRCaN3XDw8YYrYIUribLpUDyGkcmvcZ3SWnI1N+ryspvGFPGDaGdtxMNLA2lfGhQWpBJWmwYhzcuZcWRGHIKR7Fwz+sMcLzK3p/iMfNyp7GjJQba0rr56cSf3cuSj9ZyKlOOKnSquClnXB/auTlgY6SDpoYUMkvrJV0JZvemr9l6OguFakV12QjdT4Z1a7zcGmNjrItmuRJ58mWOb/2ab36LIjtPqoj7WVfFoQfTpo6mj7+bun41KFPKSY0J48zvi1i8OxqZat0x37L3jQE4xq6i78xlxKdo02Hiczw9sC0eDa0x0tFEo7SAzNQoQvau5bONZ8isyLwgCIIgPB5q/bLv8OHDWbx4EStXrGDWrJmYmJioP6klLbvT2tUafR0NShLPs00KiuR/F/ipZIRz7mQAF1IebeCnYmHfGDd3d5xsdaWgQrWgct6YX8+RDG1Xn6KQX1m6YgO/nknDyNmPfk8/y8xW5pjp3rru6D4+WGYH89va5azfFUSqvjNtez/FnFem0trCFNXq2Dri4l79nLTKfHji0lDKh3YhOTIZspxCysrKKc+XIc/KRpaZTV7ZXc76WQ9ixpyZjB3cHnejdEIO7uaXnXs4laiHg38fxkufDXIxw/D6zxq40ml4FxoWXeaPdao8B5Bm4Ixfv2eYPbMF5qoCNh7GjGkTGNHJA5O0C+zavJClGw9wPteKpl0GM+PZGbQ0M7ulbB0GPU0vHwPiD21k8ZrN7I8sxcarK8OnP8cwM3OM7ndd1TSBF55n0sjOeBplELJnCxs2beevSLBv04PRz81jajsLTPUqVr5Vy7FMmDCE7t7GJJ/czpJ3vmPNgVj0GrdjwDMzmOxrhqmOel1BEARBeAzUavCnCvxUAd+A/v3p1asn06dNY/LkybUbALZ1ob4UVGhrQHrcNuKL5dz30/qspQBs5FA6NTZGvxbn9GvpKTi77HO+XbqO7ds2svyrN/kxMJFSMz+6dtPHsMr9F1qmGlzb9j4ff7GQVVu2sfGHr3jrxZWcTNSmYafRTBhiimllJFNDf7J58Wd8EBhLlhTtFqUGseDbL3jv/SX8lCWnusdbd50wkgFtXNG/+itvvv8ZXyxdzoqV3/Pt+6+w8FA08nIdjAw0Ks7cVdAypSRqC58uXnYjz//bFkhimRl+nXugrypgRjC/SwHkjk0f8ebnX7N8/U62bfiOz19fyJ/RpVg078VgXyOMK6K/SgblKWz/6FsWrdjCji3r+e7DDzl4RYFuow5062ZwS73VZF2roUMZ0c0TO9lJFnz0JV//sJ4N69ew+ONXWXQkDuw6MGJkP6nfVnNDTJsWeNibU550mmUbtrH9wM9sWvYxH32/kg0rVnL4qpyCRzeBVBAEQRAeWq0GfyNHjMDVxQVdXV20tLSwtbVl7JjRmJqaqtd49Lo2ssFMRwsNCsiIiae0uCaT9+zxbOaBnb6UT+lfHcZNZ/bsucx/tj8WZtXs8B8R1ZnJ1X+d53xsOrk5WaRcvcj6qBRyirUxtJGCqKr3X0jrrvv5DKcuxZEqk5OZfJXQwE18HxhJjqYNrTp3xqBq1PO30kmIDueKPJ+i8nLKpCA5KjqCy1diSCwqriZgloKl9u7Y6KcRvG4zJ06eJzoxmZTUJGLDzrFTClxfemsJu8KrBDvKWAIW/0ZQcPSNPF/cEElKTjE6RlZoaEq1rYjl0t51/Hw4F/tm/Zgy9w1enjacrq7pRGfIUWpb4+SphU6Vs26ZUb/zy9nzhKfIyM3O5NqVY4Rcy0JZro+pvSZaVeqtJuv279ECB/Niov9cxcHAYCKTM8nMTCMhMpidqy8QJ9eivrsf2rrVPNolJgN5cQna9XwZ3L0TzdzKyE8P5+iP61n90zHOpxRSLOb9CYIgCI+RWg3+rG2sK4K+qmxsbO5Y9ihZ6+igLYV+qhstigqgvCY73l7jefGFCbQzN664vBiVLSevpIzioizKy2vvtE2RPJX4/BKqXpVOVkqBlxSMVRShioLMGM5lFFF4S3bSORuWRHZRGeb1PaVgscrpsUfOHnNjfbSKM4g6m0zxrRlBFnWBcyGRJFZ9lE5JNonR2ZRUvY6eoqSopJzyG+WzpOuY56T6f5HnZjzDU0MGMXz0M8yc+wpDfOthqKONlqEGGlXqIy/rJFml+VXuyFZSIAWsZdXU29+va4mTlQk6WoY06DaXL5auYsOG9WxU/y15pSNOZrroWDWgmxQp3hFen17B1v2hZGg702/8s7z3xUpWfPcVr49phw1SxCoCP0EQBOExU6vBX1BQEIWFhep/Vapu2aN0LFNO/n3dYmnJ8D6daWqSz1VVwCgtSd37Ax++9irvrAogS6FaUjvKylTn16pEfvdQWqKkUFr39rWVBaq7VlXBlCqgvi3yeaSkrqJKXsqzsrBcCp4ql96TFHmr7tW956q9JjN5wmB6NNUm6tfveP3lF5nz0it8tvYUV2Wl0u/cWaayMrnqfyv/8Tf+ft08KVhVfa4g4UwkYaFhXL5S5e/872xeu5xl63cTpagaRKrlRLNn6bs8/8bn/HgqgVIzd/w7D2D0lFf4/JtXGGljfmfAKAiCIAj/oloN/pYvX8Gu3buRyWQVAd/xEydYsHAh2dnZ6jUevdR9kSTmSQERBpjWt0JT+95nGa26TmBUsyLO/Lyb+JxcSt26MLx/Dzq36UCPDi0xNNDDpeswJk+dyeznJzHEzINu/cYx57U3eHXGOLo71+68wOsMTG2x1tSuuCxdlUsjK0x1tCiQJ0uxVm2+i1hOSUkZ5fpW2Ltro/OITjJ26Niepg3MkF36kh9+2s6+Q4c5evQIu39aTsi1HGr/7WlK8opVwaweJdnb2bZ1FStXVvO3fhfnpOCvukMBWdwlAvZtZ/k37/Pa3NlM/d8PHEw1xbXzSMY8Y4JJ7c1yEARBEIT7VqvBX2xsLIsWLWbGjJlMnjKF999/n3Pngimu0Ty8B3TxFwLCsygo1sSh1UR6Gpjd9cyLVbuneWn2IAwvbmXz8UhyVJcyTe1wad1H2mlPZEwfX4wNdDCzc6FlvzFMfHock999mVH+tlCoT7PBk3n55Qm4WJjcEZQ9alr2bXi6lz1mRlV+yboLI1o3wcKggLjg4xQX5kvRr5wCKUjTM3fATVOn8i5ZFa9R+LvbYqDzoGcHzxAUk0ZBmS2thvfA3sSwSpkt6TrrAxYveJ/ne1tieh9vPTPV10Fb6oXF+SUk5Kjmx1WeJ1Q6dMPFzgjdf+C500cjksgp0sGlfT8c8pTkpKaRpv4r9RzGnHlzGdfOWgp4Ne44i+k36iW++v473hliR2FaBCFnT3N8zwa+PR9DdrkJNi5a1OrVeEEQBEG4T7Ua/KmoAsCTp05x7NhxwsKu1G7gp1J4ic3Ld3I2PhetBr2Z+vZsBjaXAsBbHrdhT4en3uCDl57CPXETC1YfJDS1gBLVnj3yCNuXhZKhYYyJFMVoamoQeXg7y67K0TZrRAOHMHb+8Ts/b1tNQLoWTq070MHAoPbfX6tTj95T3+SDV6cxpqfqfcHP8f5H8xjetD6asQdZvysOWa4UvO4JIylTSbmdP7PnTmXcoK4MHSet+9osOjQ0Qe/2Fk+UgsViKVhs6M/EPj0Z+9wzDDU3VT8CpapM9m/dS0hSCVYdZ/D+x28zd+JAug4Zx/Pvfsz8ScPp37UZNmW6aN7HVfeAC/GkFRZj5TOLuRNG0qNbRwZOfJUv35pJ6wamPHCseh8ub/yZE5EytF1H8tIn7zJ/+mi6dx3MuOff45P5kxjRrwOe5qXoVFOweENnmrXvzujZ7/DGtNEV+e/RfwSTfBww1ckn62oZpbU3c0AQBEEQ7lutB3//PCUJZzby8adrORBeiF2XEbzwyQ98t+ArvvrsMz7/fBHLVi1g/kh3FH8t5JtlOzlxJRtlReQnyUkmJjSa1Co3LshVd9ZmKVCWFZMVfoBLETEkJceSLi+kTNcQSw2NWq/IgphThJQ2odOQKbz4xlu8Omcyo3q6o5d6grUfrebQFXnlzSDJO1i5K4DoQnN8B4xl1qtv8crzkxnmkseJ0FRyb7tRg317OHklnSJTL0bPfJEXpgyno4mR6laFO2QG/8gnn6zlUII+TbsOYuJzr/L2K88zZXRP3PVSOfXjInZczCb3PuL7zP2LWbf3EtkGPvQf/xxvvvUO82dPoI/9NS7G50iB6e3n2h49ZfwBli5Yxe/hJTTu0JcxM17grbdeYc6UUfR00SJ27wrWHU8hp/DOvGTu+451uy8gt2pJ/4nPV+T/zZemMdrdBNnpTSzclUPWzedsC4IgCMK/7gl8w4eavi0u7k40bdmZTm19aWxXH/NyGcmJcVwMO8/ZcxeJCgvjWnZ1r/kaW/GGii6FWxj8rOotDnL43waOP+1L5tpBzFwWj2rR2IV/8EbnArYMmc138amobi2ojp1nS5xtDChICCI0oRCltQetmtigX5BIUGg8hcoqc/VU79ptYA7ZgYREFlA47PobJTYwa/EJLBy9aObTnIYkEHnlFAHBcVwJiSFdKQWr6iT07NzxatWeDp4e+DjrkHQ1jFOnzhKRoYm9lSElWeq0K85ImeLo7U67jr1o42GJLOk8fyz/hQuyXKqN4W7Ua2vc3LzxNM4mOuoSgcHhxIVfJCZdSXGpHZ4tnbExyOda0GXiC5VVHh3TGF9/eyzIIiAkkoLCYswbeePWvA3+zb3xti4kPjqUM4EhJOQZY2OqTf71enO8rW6qnFG7o47vZ11V5vStcHJtgoNPC1q7ueHTQIP4+KtEngnmcsQFQhNVbz+RNpX6d7adudQmrg19adnWHQ8ve7gWxeWTZ7kUF8rZ6PR7vlNaEARBEP5pT27wp6ZnaoOtjSWmxiYYaBaRn6cgIzONjOx8Su96y+qjDf4eym2vE0vN18bCwhJj8siRpZGlKK3+/bH6pliamGFhqkm+QkZapoLSe9wFbWRui5WZHkX5OaRn3XtdFT1TqU5NLTDXUSKXZ/9NfdaAKr8WFljol5L7KNJ7UEbmWJmaYWkIubkKcjJkFEh18fc5McTc2gwzc+mLeXJkaVkoSu/1fmRBEARB+Hc8gZd9b6WUpxMfHc6lkCACgy8QGnGV1My8fyeweASU8ixS4qKIiksmPecugZ9KoZys9ASio+NITsv522AuT5ZKfJwU1Kb//boqqnykX4sm8uq1R1OfqvwmxxH9qNJ7UHkyMqV8RKrqLTWr4rFBNctJPrKMZOKioolLTidHBH6CIAjCY0rL1NTsPfV/Cyodp/LGSyPo1cIBC3NbvOprU+Y7nGd7tqWZrSkWNp40trHGe+Bk+rdrjoOVJfU8nLHlDCFx+RQ+6vtZvPsyoZMbZrJgNu4KIidXqf5AEARBEATh/j3xl33vm607zRtbY6anek9IOWX5acQXmmBnaoCejqbqqcEoc9LI17PEpOIxJRqUlSqRJwRz+VohRY/6UXveA5ncywPzzNOs2RmITCGCP0EQBEEQHpwI/h53FXP39NEqySUrp+A/e7laEARBEITHgwj+BEEQBEEQ6pAn/oYPQRAEQRAE4SYR/AmCIAiCINQhIvgTBEEQBEGoQ0TwJwiCIAiCUIeI4E8QBEEQBKEOEcGfIAiCIAhCHSKCP0EQBEEQhDpEBH+CIAiCIAh1iAj+BEEQBEEQ6hAR/AmCIAiCINQhIvgTBEEQBEGoQ0TwJwiCIAiCUIeI4E8QBEEQBKEOEcGfIAiCIAhCHSKCP0EQBEEQhDpEBH+CIAiCIAh1iAj+BEEQBEEQ6hAR/AmCIAiCINQhIvgTBEEQBEGoQ0TwJwiCIAiCUIdo2Ds0LFf/9xPPyqUL3Xv709K9CdaG2mipFpYVkhq6n83rDnA5Jx/XMfOY6BTNt8v3kp6dX/E9QRAEQRCEJ4WWqanZe+r/fnI5dGD8cy/y/DOj6NelOU6m2uRnxhKZkEyudgOatu1MZ18zip0HMm3iMDyVW/ntyDUUBWXqBAThv8ySrlNm0N8+j8hrWRQWi34tPCLWfgyaMoaOGhFEpxeiLFUvFwThsfbEB39WXafy6ovTGNunDY3LI9m/dgkrtvzK7j+PcvJMEGfPBhF41Qj/wQPp3q41Pg5lXP1pObvOy8grViciPHbsvfzwdLVDPz0bRUkpT1I488jL1nk6b88ZR7/mFqTtDyQmt4DHt2tb4tKsKa5OlpApI18q/3/u0oR0sDl86AB6dmpDa1drMq4moSgqvms57DsOY0S/nnRp3Qo36wyuJurQevAkRvVshEZEHGmFxZRau+Dj7YqjRblULfmUlj4eteIy/CXmTRpM5ya6hB0NJSlfiYj/BOHx90QHf1ZdZ/Lm3KcZ3MaB0vObee/r1fz2ZwCh0mCcliUnNzcPhSyDlIQoUr16MryZPWbKKHYu+JVTSbko68wF8f+eES99yvTR/lgeOEaIIo9C9fInwaMtWxum/e85hrWwIef0EjYfiiS54HEOljsx/d05TOzrQtGhM0RIgWqR+pP/AtWY88ZLUxjbrzP+rVrQwsuCzN3HCFfkV1MOS7rO+B/zpo6hb2d/Wrb0w8sik93HvJnyv3EM7t4cq4w9nIxWkO8/lfdemEA/1yIOnY4gt+DxCN9LFFb4de1Icx9PrAuOcjQsk/wiMXAKwuPuyb3hw2sUs2eNp49PQ8qubOL9hRvYd/Iy1+TSUfTtY1NhMkEB0hF2QQlFqdEczCwi74m7MjaK+V8tZ+3ydxhTzwJD9dLa14VZHy5l9fqvmGNrhal66cOydWyCu4cLDro6aKuXPSkeZdlcxoxidCsHjJOPs3JDMOHyIkrUnz2eLGnQ2A0Pdyfq62j/xwYoS/oPGcqA9h4Yphxh2+q1bDpwlrTCouqDbev+DBnWn3YeRqQd28aKdZvZezZNCp4yUBRroVWmJCernFLVqTSLBji7euDhZIuuTsVsZcm/tU3fJL+6jyWbA4gptqDN6Mn0MzX7V/IhCML9eUKDvzZMmzGZwX4NMVWG88c3P3P63DWUxXe/IKH8Kx1ZXgmJ4T+TUqR4Ai9dOOPr35Eunfxw1tf9BwMmOzxbtadzF3+8DPTRVS8V/gltGNzfn4YW+Vz6eTXHI3KQjm+EWtMKnya2GJfFcXTRBrZu3sS6NTs4Js+t/uxtC2+a2JpQGneUb9f/yOZN61nz83EUuYdY+/Fcnn3uTZafykRx11Of/9Y2XZWMmL3f8ueldDTq92LQqIaYmFwPTgVBeFw9kZd9XcbMZf5T7WhkrkvyyS/5fMMZEqQR9J4n8zx7M26IHTm/r2R3cPa/O9/P2gX/Hv3o16UDbVs3p4mVdISdlEnuLfOf7PFs6YmLowXlt8+NUs8PamKrT0aWAlv3Zni6tqLHIA/q6+YQEZZIobU15noZZCtKqO9RZY5ZfTe69xlEz47t8PduQJk8gUxF1bOlNf9ds8ZNaerelI59WtPIooSUi1FkWllhaVr2t/OW7L160G9ATzr7++PnagG5yVI+Sm7ko+PwyTRvqEHsuu38ZexJlwF96dGhLS2kdQtik5EVldzR3lXTbNO8CRbKOJJkRZTcWPHW+WYGTh3pP6gXXdr64+1QjuyatCOWDiAqs3A/61bh4EnP6/XbypsG5dkkZOZSXKUubimbTEHlPedSvffoy+AenWjX2u8ufeI2nSfz8lNtaZR/lm+++ZHgZAXFqpVvmT+mT+NO/Rkipdu+jc+d+ZHy6+flQkPzO9vMysVHat8m2BpU9qNSy6rpmuPWtU9lfn3sb+lH9q37Mqhvdzq2aVNNXXnTb0JH3MxkBG/aRYyN1H/69qVb+3u3bUV7tO1O/97d6CClq+ozd6xbtdzaDegktUNvqR08bTK5mqigqORm2W53S9/xdkSrOJ50mVQedeKV8zRb0LlfG5wMMwk5GU62kTG6xVIfyymu0sdU1NuQX2cGtGmEYdYFjoXLMDTRpTg2iZziXAys62FsqEFhQgY5UhuXefdlQic3zGTBbNwVhLGj1z236ev5qkl/qzrH1MyvF/1VbdOiEdrRUhmVUhmrpqHabjQUJElplFxPozCLOJM2dPd3w8Vcwf59IaTnKu/eLwVB+Nc9gY96acPL675iesdGmJTHsX3KJD44dZWsir3ePVi708LNjJKYC1xJK6Tozr3LP8Jz4PNMHN4Fvyb2WBvqoKlRhlKRSVpkMLs3fc3W01kolKo1J/HJ2iE0N4/lp2c/4qdkKRCoSEHSex5LZ3SiSd5pJs9bSu+53zK0eVPc3W0w1iogRdop5kg7xWtHJzN/SRL956+RPodLu1KwbOuOu3MDzPS00CjNJz3xCsF7NvLl1gCypAH9fn7XZ9LHTO/sg5ubA+b6pchiEkgvKkYRtoVZH/xESmae+otVOPRg2tQh9GzhRcP6puhraVCmlJOZEkXAzqV8uzOU7LwSXtt4lEntNQhYdIbCFu64udTDREeT8iI5qZePs/GbBfwWkU1+xSlcT4bPncyILn44NTCrSFNKFHnaVS4f3cHCH/YRnSMFNvTmtaXT6FQ/kTPntXD3cadxQwv0tTUozU8n/uxelny0llOZcpT3ta6KJX7DpzB+aHv8rtevRin56clEXdjPms83ckYKmFXrXi/b4e5jeTs2kQyvQcyZMIrurZ2xN9NDS7OyTyRePsn2xUv4PVIKwqs5Ve33xha+n+iPdsBkxrx6kuh09U0H6naqn3iGi5ruUgDXGEdzfSldVX7iObdvKR+sPkWmXMrNlI9ZO7g55nE/3dFmfeZ/J7WvM7mnp1b0o7Q2VdNtio+HIw6q/JZJ/ehaMHu+206Gn3RQ060tTeqZoCu1g6quYo6s5/1vfiMiW9UGY1m453UGOF5lx+Z4bH1dcGpojdH1to0J4/jPi/h+XzSyAnWhK/rMaPpIwUdDKyN01H1Gte6Z3xexeLe0bp607vVyp10gysAd3yYNsTbQQnH+eya8sZXE9Gr6o3UHJs2S0m7VFEe7yv5ISQGZ6bFEHNvJInXfmfiJahtywdnFHnOdQlLjbt3G0mTq9CqotyGXxrjam6NTmEpsslwKPq9xZNJrfJeUxtCK9CBwWuW/ZWO+Ze8bA3CMXUXfmcvo/sLCe27TabKa97dJ6t+KPp6Hnb8nTvVN0NOI54/hz/NH85EMGtWNNtJ4ZK5Ko1zabjKTuHx8Owu/20W06oBAVSSbGSz/cQ49bKNZ1m8Wy+NTkKuWC4LwWKr1y77Dhw9n8eJFrFyxglmzZmJiYqL+pJa07F5xh52+jgYliefZFpWD/O8CP5WMcM6dDOBCyr8X+Kkmi78wazzDOnlgIe2g9v3xKz/vPMoVpRVNuwxmxsuvMMTVAsOKqyq2ODZxx7O6uVHq+UGeTRwq5gcp5XJyMmUUlpVRXpKPLFuGLDObbEVZxRmCyjlm7Rk8eQhdXDSIOrSN5Wu3cCCsGFufrgyZMY9XB1tgUTGZp+a/m6/Iln5XddlKdYNBEXJZ5e9mynIpK6uuTdow7YXnmTSyP352SiJO/sEvv+7gyJUCrDy6MHzGXKa2t8BUT7069fAb35sW5tc4+vNK1m47SGSxDZ5dh/Pss0MxNzeqWMt/0nSmjR1IywaqNHewfOEadh69hraTP73GzWHOcHMqV1XPN2vei5HDOlJfGcKvP/zA+t8DSDNwxq/fM8ye2QJzM9XF6/tZV2rbwTN4YeYYBrdyQBl5gp83rWfLH+fINHOl40Bph/3qYFykCq7ugtmgsRMYM6gtTsWh/L7+Pb5a+TPBuTb4dh/FjGkDpd+ofpZVW6d6GOvkk3jxKrnKKnebqtvJr+dIhrarT1HIryxdsYFfz6Rh5OxHv6efZWYrcyqybuuIi/vtc80qWdg3xs3dE5eGukhd4bZ0rSk8/wtrNvzKmXRDnJv35ZnX3uD5iX1xLY5g948b2XIwnEILV9oMm8Vzw663gZquKz1G9aCplYxzu1fzw+ZdBKYZ4dy2F+NemMfUDtf7wfU+0xlPowxC9mxhw6bt/BUJ9m16MPo5ad126nWv56/bYIa0cUQj4Rx/nDhPVGopxaVSUHcHT0bPni2l3Y82jqVS39lT0R/3BKRg2LgtvaW+M396OyykxCu3MenATNXXq9nGblVIjmpbyMqlVPqwPF+GPCu7Yv28ssqbcf5u3uffbdP309+ub//9xvbAx1TOleN/cTo8EUVJP8aOH83gto0pCt3Fmve+ZuXPweRa+UhtM51ZA8240fXSfycqWUGRfiNadtZBX0z8E4THWq0Gf6rATxXwDejfn169ejJ92jQmT55cuwFgWxfqS3stbWksT4/bRnyx/DGf4H5dG8aOHU0HD3NSDnzLu59/zbLvV7Jy5SI+fe1d1p3NwdhjEBOf6YGZmYH6OzVzcNMiPvkokKtZRZSWpBK06Fs+f/99Fv+UhfzGyQ4DTJVnWPDB53z9/Xp+3LyeJZ/M461fLpNn5sGQMZPxMzW7rzl7Ib+s5PNPDhKWWkhpuZzoxQv5Svrdz1cflnZSd86CshozihHdvbDLO8VX737M5wt+YMWKVSz69H+88/NZUku00JUa9uZu2gCD3KN8+M1Svl+3jU1rv+MD6fcuK3RxbNeVbgaGFZPPY07s5o/dm1n6+od8vWA1W3duYcWi95m7LZhMvYZ07TMYQyPjyiRVtAxRnPuOzxYsZc32n9iw/Cv+ty2QxDIz/Dr3kHZsVfZsNVpXatuh/WjtokX0lvf57OuFrNqwibXff8VbH+zgvNwE98EjGO5kgvEd0V8H2jVtQj1jGWHfruLHTfv4desavnpjCctXf8+KHYHk5FU3KcyPhlYm6GgpSD9cSkk1J7W09BScXfY53y5dx/ZtG1n+1Zv8GJhIqZkfXbvpU7WY96Nquls2rZTyuovzyWVYeHhhmLiDD75exIr1G1m75EO+Ox5JrtQG/u39MTDQV6cg0TFF+9qPvP/xFyxY+SM/rl/OV2/PYeVxKWh36MiYsYMxNTHCauhQRnTzxE52kgUffcnXP6xnw/o1LP74VRYdiQO7DoyQgjcTk5uF0TIsI2LrB3zyxVd8/+3nfLFyn9QfC9Sf3mQ1dCzj+/nhUBzCurc/lvpOZX9c+s17zF2wl8gyOzqMmcgEZ1MCtqq2sf2Vfb34btvYdX+yefFnfLAvjOTCUpSpQSz49gvee38JP2XJ1Zf57+3e2/SD9DcDdDL/ZMHHn/LFwiV89dEitnpJgb1rPUzkYXy7ahub9/3GljXf8MbSFaxavpKfA+Xc7HrJpEgHdSVluhg6aKD570xAFAShhmo1+Bs5YgSuLi7o6uqipaWFra0tY8eMxtT0Ud3zeaeujWww09GSAoQCMmLipYG4JpP37PFs5oGdvpRP9ZJHxb9fX7oaG0tD699o2Z2OvnaYyEJYueYAx85HkZicQlpqApEhf7Fq2REu5+jSuFNfuhka3dcddekJ0YSHSzsV1SMYyouQR0cSfiWMmKQibt4DoyDi4AoOnD5LZFIGOdkZXIsM5uCSg1yS1jPw7EJ3vcpgqqbkybFEhGdKOwjVfK4S8qOjiJR+NyIug+JbJ0FV6N/FFwfzYqL3/8CBU4GEx0k7lJQ04qMucmj5h7z66mdsCqj6/MUsruxcR8BZaSeakUN2+jWuHL1AQpaSMkNTHDQ1K86apEceZ8vKPUSZuNFl1LO8Nu9ZJvRrjvW5ZDLzSzGy80RL+8bpRFAmcH71IYJD4khXyMlKvsrFDZGk5BSjY2SFhmaVXlKTdTv2pqtXPYzTL7BuZwCBYfGkZWaRkRTDpcPL+SssmSKDxvi01kW/SvxTKYrknHxpp2qG05A+dG7fDGtlDvEXf2X9uq38HhBJvrK6w5vGGEj9WUOzhKIM6Z/VXBZWnRlf/dd5zsemk5uTRcrVi6yPSiGnWBtDmwffgVdNV5aVQszFVYQl51BULiNi428EnYsgNUMq/7Vw9gTFkVFYhqFlYzS1dNQpSMoTCVqwg1MnLhGXKkOemUzMpUA2rAggUq6BTbMudNE3ZGSPFpV95s9VHAwMJjI5k8zMNBKkvrtz9QXi5FrUd/dDW7dKxSYFsXDnGU5diiEpTuqTsckUV3MzWLdu/jS21iT+yHdsP3WKsLikiv6YFHuZoO3f8su5a5Sat6b3QAPys1XbmLqv33Ubuy6dhOhwrmTkoiwtp0w6QI2KjuDylRgSi4prdLB6z2263YP0N4VUh+v5M/Ac4fEJXA2PJj40nozcEkpNGzGsbyfaNbNGKYvn4i8bWLvld85E5lO16xWVlEjbuT6m9UXwJwiPu1oN/qxtrCuCvqpsbGzuWPYoWeuoLpOozg2VUiQdzJffGWPcqdd4XnxhAu3MjR/x3aiWtB84iM41Cf4a18PMSIuitCsEXlNQcMvkcyXJgRFSQFGEpk1jWmpJg7b6k0dHTsLuOHIVtz6MVhm/g9g0OcU61ji30qLqPvTRssRJqn8dTQUJv1+9Mx/XrhB87jJxmVVv0Mgj5UgSJXlV9kCFhdKOvKziuzc6t1d/nnlpLs/NncWUiaMYPHgkE6c+x+vPtcfZTA8dVdBR9apfiYyUhAJKqk4XSFFW3BBQfvvVwZqs62CFiYEWmhZNmfDOYlauXc/GDeq/FZ8wwrc+htpm2HhqolUlBq2Uyo61vxEQU4h1jxFMn/chi1Ys5btPptHPxxwNbY1b6ummQsrKpIqq/sMKRfJU4vNLKm8CUUtWSsFHubTg9nLehzvTvSYFKcWUleeRfT6L0sKb0ZA8VzXNohyNijao8qOFGcRFZFIsBVNVpZ8LJ1FWpA7urXGpOLtpSINuc/li6So2XK9X6W/JKx1xMtNFx6oB3bSkgFadRkFWHJEZxdyW9G0scbNWzUuUEbc9inTVI6LUn1SQXeWX+AwUpQY4NO2ItnRg9Nh4oP4mJ3FvIrlSsHej2VJ3sHJXANFKa7qPmMZrHy1g9bIlfD69L80spQMrjeo6VxGFcqnv12TcFQThX1OrwV9QUJC0L7718l51yx6lY5nS0fCdk2zuwZLhfTrT1CSfq6qAUb30kbDujYt7Qyx1pYFYveiutKSjZWmPW1pcQKE0ct4xrBYqKVFFPZqatdRoJRSlS/93xw4xmcLiEmnHLe2gVTuKhwgK7i2P0oo9xt3yUZ0ySnIq/u8eXBj/zCRGD/SnXs4p1r/9qhToz2XuvKXsDU+noMpdjzdI+VCdq6xu13aHmqyr/rAg/QoXI0MJvRLG5Sp/f+7cwIrlK/jxiBwpFrpDYsAmPp0/i3dX7SEsRxc7n870HDqB2W98wScz22JlWt0hyxlkigJKywwwayn1rWqC9rIyVdBco1Lel7unK9WVqnw1+UkpDVX4f8eq14N7TR2MyKe8os9IBwxnIgkLvbVeL5//nc1rl7Ns/W6iFOobEySlJUXVpXwb1bVaVdrFFKZIa1dzOi5d2i5Kpe1CU1N1JaNWh9L7oy7a/fW36s4QJxGw6XPmz3yX1XvDkOk0wLdDD4ZMmM0bX3zMrPZWVO16tsYGaGsWkZ9Wrmo+QRAeY7U6Yi2XBphdu3cjk8kqAr7jJ06wYOFCsrOz1Ws8eqn7IknMUz3I1gDT+lZoat/7LKNV1wmMalbEmZ93E5+Te3Pss/aj39RX+eCjT/n4zVkMb+2EoRTEqfj3G8e06c8y+5VpjDA3lXZCbej31FRmznyWF58ZjLmJYcWjIaa9Mo5W9vVoOH48z0ifje1phjQ+Vi+vhJKycvQtnXDT0rnzDKSbPZZmOmjlyYgrL73367lUrXrfQZopVp01VVPYbtOX+ubGaEs7w4xL0s678tbV6j3Q716nJK9Y2mmUW1K/pxZaVSf/P5QudGnRGButeI4t2sCOvQf469hRDh/5hdXHokgrrO6xIY+Yum11yvM4v20b61euYmU1fz8dkpNX3XFRYTLhwaf4bd13Ul+cx5xZ03hn0wVK7JrRZ8Q4+piYVHM5PpPLqTKUJWbYtrVBu/Iuof8OA1Pq2Whxx+br1kjaDnTRKlGSUV5YcTNXWbkeJdnb2ba1+npduX4X56p9w8a9VOmPfaT+WGVK6HU9rS0x0tJClh5IWemdcwb/NQ/b36pQJocTfOp31iz5lDdfncP06e+y4WIxdr69GT2md5W5lH1xqmeGTmkGCaek8ekxqg5BEO5Uq8FfbGwsixYtZsaMmUyeMoX333+fc+eCpSP3WnyI3sVfCAjPoqBYE4dWE+lpcPcnzlu1e5qXZg/C8OJWNh+PJOf65SivUcx/70VGeukQ8+cZruQ5M3jum8wf7oqFkRY2Db3pPHQCz4wfQnsTI/Soh4NvZ4ZPeJpnRnTExEgf9+Z+eLjYYK6rg1ETF1w9PXFuoMttN0zedPovwq/lUVqvNZPGt8D85i2tEnsGPdURN0sDCq6e40hRIfmkIi+QAhc9K+zdtdG5ES16MrqNO7b6OvcZh5niPWICzUzNpPLc5PnUYJrZm6CXGs2hijefPOrfvWnnlSSyivTwGDKB5ia35WPMPL5d9Bnzx7XE3KjK3LC/ZYSuriYaUqCQG52qvvNYRZ+mnlJArfsPvEXi9AXi0wopq+dL1+a6FORmkpaapv6zouvEV3l52kC8pMhb+/ZItJF0EPHuIn74ai6tyhXEXwom4NRRfl15nCspSrStGtBQS7vaO0IPB10ltbAcB88+2OoaPdh81lQ5BSVl6Jk74KZZ5aBE2kb83W0x0KmlU8FaDvhP7IGDWdU7oC3pOqwVLhb6FCSc51hJIXsjksgp0sGlfT8c8pTk3KjXNEo9hzFn3lzGtbOW+undLo/f3c6QOLKUuniMfpY+ja/fZV/Jyu9pRvrZY6KVzOU/U1CqHiXzuHiY/lZFo15TeXfhMr55sTXl8ngunQ/k5LFfWXnkCilKbSwcGqJVcZu3pFdXXOwM0U2P4GepXyoeo+oQBOFOtb7fUwWAJ0+d4tix44SFXandwE+l8BKbl+/kbHwuWg16M/Xt2QxsLgWAt8QL9nR46g0+eOkp3BM3sWD1QUJTC6icZlf5dpBRnuX8teM3dh/fz+8/ruRCiRN9Jz3LMDNzQves41x6MSaqVxlpqS7DnmHv2m8JzdbE2NQYLS0NLh7byYpI1QNb80jdsol13y9j68Eccu92RJxxnGX7zxGvNKX12Jf58I25TB/ZjWHjZ/D6p58wd5AntmVXObjwN+JVj4hgH2GJMpTl9Wk7Q1p33EC6DhnH8+++xrPtHTHRu71pE5HnFUtBmxNtxvWj19hnmTTMDNMbZ9jKMXQbxcvvvcGciVJafYczdd4XvDOrPY2MZQTuXMNZRQ7K+/7dI2RVPBy4Hk1njaT7yCk8+1QXzE3uvA4Zv/lnTkXK0HYdyfwvPuS1GaPp3m+ElI+PeefZsQzs3R5Xg1wp0LmfPctRIpLkFGk3psv8aYwY0o1OvYcy652PmNfXFUuDBwqJ7k/GXjbuO09qqRWdZrzFx6+/wMRBXekzYgqvff42s8cNpl/rBmhJdXdHgJJZjJ17Kzr3f5p57z7POFX+Ow1gxMSONLGS6jA7iUulJRXPa7td5n4pQEwsQMu5G6ObG1V5RM592BNGUqaScjt/Zs+dyjgp30PHPcf7r82iQ0PpoKC2RpAyA+x7zeTt915l+ujudBn8lNTHPmb+MC/ql0vbwQZpO8jJ5eLGnzmh7jMvffIu86dLfabrYMY9/x6fzJ/EiH4d8DQvRUfz/s/vxm/7iVPhUtqOA5n19gfMmzWegf1HMumF9/nkrRl0aGSE7OxW1p6Vk3OvM+K15i7bdMFD9LcqMovt8GzTmf7PvML7c56qeBB4hwEjeLqDC1ZSX8pKvkRpsargqqkzfjQ01SYhaDMxBfJ7X5kQBOFfV+vB3z9PScKZjXz86VoOhBdi12UEL3zyA98t+IqvPvuMzz9fxLJVC5g/0h3FXwv5ZtlOTlzJRnn9BouW3enRxgnjgqsERF8jozgfWXIEW65mQsOu9B9hRL4snBTVHZiqifEV0kkIlwZbuZLrU8gq7sZTXWoqv3mXa/V3/l0nJ+qnL/ls3Z9cLW9M10FPMXPum7zy/DTGD+uIQ9kVfv3qQ5afukJOxUz1ZHasUd0IUIB5s/6MnfUqb7/yPFOGuJJ3LIyUXCkvlQmrHWDP6QjSi0xoOmY6c+dMZXhHU4xuxGAZhBxLxqxVb56aLaX12lxmTRhCW9tiQn9byNc/nyNZ2tGU3/fvJrPhRDAJck3sB05gztyZjO/XHGODas7exR9g2VtL2Bksp37bnoya/gJvVeRjOG3rlxG2ezlrDieQU3g/O/IwNv6wk9OxJdj1GMmMV97k3ddfZtrwFmgFR5CWf3t+a0M6Z7d8ypfbTpFm1Izuwyby3Ktv8b+XpLoY6o+NIpAfF//G5ey8O3eauefZtGI7J+I0ce0xilmq/L8zj+cmtMG+LJo9P6wnWCYFt+rVb5F+gM1Sm2dqOtJ73HAcTU3u/+xfsnrSf6E5vgPGMkvK9yvPT2aYSx4nQlPJrXLzxiNVGMWx86U4dxjK1Bfe4O1XpT42uifueimc2PAxqw5J20FBKUqpzyxdsIrfw0to3KEvY2ZIfeatV5gzZRQ9XbSI3buCdcdTpD5zrzDnLhIPs+yd79gZlIlZ8x6MnPIc8+a/yLOTRtLT14iME2t566sdnEuW2u0Bkn94d9umH6K/VZEbvIkftp0kFlfpoG0mr77xNu/Nn83Etg0ojdrLsrXnyZZLPa/1WAZLwaRpURSHtkaRJxehnyA87p7AN3yo6dvi4u5E05ad6dTWl8Z29TEvl5GcGMfFsPOcPXeRqLAwrmVXvXtUMvwb/nhnAE5xqyuepB+fon5O/f82cPzp9pQf6sHYd2Ixf/Fn1o62Iqjv+Mq3MEirVLyZwf4S/Sa8TWyiFCxWfKcR0S8+xauHE6VBujKpe9Gr1wSPxnY0bdEaN3cPrAoTiY8J4FzoNaIvRXBN9WL+6y2mb4e7Zws6dPLEw8sVnZRowk6e5mx4JhoOFhiVZBEQEklBYeVgbOrojUf7DvRq445VThLBu1ay86KM51ZXvlHi2MR32FZeD5d2zWnuZUxObBQXT53jUuQFLieq3kCg/uH7/F3qu9KidQfaS+3goplG9OlfWXcgEnl+dbPCzXH0dMbBrzX+bu74NNAgPvoyp4Mukxh1iXB1Ppx9/bE3h6zAECIKCqvsxOzwbOmMjUE+16TvxKtulKnIrxMt2ralma9HxSXssJNnCI6SWs3OAsMb+bW+87vqVFWPTvH1t8eCB1m3MndG9u64O3rg19oVdy9PDHPiiYs+w9kLV7kcHFP5Ki1pvTvKJvVlV3dnqS+3xNXNG0/jbKKluggMvkJUyEXic6r0idvoOY7i2+/fpJdTHvsWzOLdzZfJNHalVRMb9AsSCQqNp7Dq8zqcffFvIP14diAhkQUUSn1Wz84dr1bt6eDpgY+zDklXwzh16iwRGVJAb2VISZZ6XUuPu6Z71/aqf/t3bG7Ua6qUvqV7M1o196a5vQYJUj84eSaEuCshxKQrbx5I6Vvh5NoEB58WtHZzq+wz8VeJPBPM5YgLhF7vu3f8VnX973bq/ujRnJau7niryn8tlqiA80TERnDhanqVd4ZX0/fUn1TrHvm5o77usu7dtulcqd0euL9VpFxJr54rHs5etGpzPY0Yoi4FEBwaxflLCciLXHnm2wW8MMCRnL3v8dL7v3Eps+De5RYE4V/35AZ/anqmNtjaWGJqbIKB6k60PAUZmWlkqF4lVVZN0Tt/wI5vR+N2bQ39qwR/Lu9uZfNTPmRu7ceUBfFkzd7EoYl2XOg3UR38ufD+1o2MrX+OPuOrBn9epC0dyrNr2/LMs6asWvUTmZl//+IjI3MrTM3M0SvNJ0+RRpaitJo3BajoYWppgpm5GZoFcmRpWShKr89rq4aRObbWZugV5ZOjXnfeLa8Ty6bE2hIrcx2UuXKy01WvSKvm7uP7/V19UyytLDDRKCBXlkl2nrTuvXqelE8rUzMsDSFXISMtU1HxNoSHoapTC0tztGqS31pzvd7M0S7OI1d+r7a9lZ6p1I9NLTDXUSKXZ9+9D9/CHNfpX/H9i52pn7qLjyZ+xK9JWTV6kPAtVO1nYoaFqSb5j6g9akT1uxYWFf0g7+9+t2qfyVWQkyGjoNq++wCqlv9Rp/2wqtmmb9bQg/e3m6qmoUCenXFj+2301Bd8//IQ3AqP8s5L77HzfBL5dzsSEQThsaFlamr2nvq/n0ilSmlAzFZNeE4iKSWV9EwZeQXF3LhieztZLvVbdaRFQ02Sj/xFZHo+xeWeTJg0jjbGUfy8aBen4/PIbz+MKc1MSdu0s/Ll+27DGP9UJ5roZXDqp4Nck0s75g7DpXXsKLy8hV3yPkwcZsnhQwEoqnmbwO2KC6UgKScbmTyXfGX53fMrHbsrC/KlATmbnNx8lNKK9xx6iwvJy8m5Zd2OwyfTvKEGseu2S2XJIitfCvqyZMhzC6Sy3y21+/zdEiUFCul35XkUFP3NuipSPgtyc8jKziE3TymV/2+/8bdUdVrj/Naa6/WWVYO2vVWpsoB8KejLksnv3YdvUUhWQjillpYUXznCnlPhpBYW33/Qq2o/Vb94hO1RI6rfrWk/uKXP3KvvPoBbyv+I035Y1WzTNz14f7upahq3br+lBTo4OBoTte17tp6IIVtZS9MABEF4pJ744O++KTOJv6LEslk7erZtTnP/LnQbNIjujfM4sWohG4/GkKGUjviLXOneqSUuziYYu/vTv583TRxdqGdpjZuXA8bHA7mSbYV/+xY0qW+Ho68nxjGr2Xs8ltz7mrNW+24N/qRAVr1ceELkZ5IQeYXzZy8Sk62aq6peLggPqSg7kejwCwSGRJCa/wAHFYIg/Cue+Mu+D8YcRy8XHJp44NXIAk35ZaKiUokJrTLnTt+Bpj5+tGpui05ZAenhEWi5tcdRL53LETEknAwmqtwSl6ataNvaAa3cy4ScOUPI1UKKHrMJMZ3GzqJ1Y4j6fjMHs2v2blFBEARBEP6bRPB3LxXzfPTRUGYiy61unkzlXBh9rVJys3LQNLFAT6MAWY7qzQrXq7VyHe0S1eXG+51r889QzYUz1ANlhozcf2UenCAIgiAI/xQR/AmCIAiCINQhT+Bz/gRBEARBEIS7EcGfIAiCIAhCHSKCP0EQBEEQhDpEBH+CIAiCIAh1iAj+BEEQBEEQ6hAR/AmCIAiCINQhIvgTBEEQBEGoQ0TwJwiCIAiCUIeI4E8QBEEQBKEOEcGfIAiCIAhCHSKCP0EQBEEQhDpEBH+CIAiCIAh1iAj+BEEQBEEQ6hAR/AmCIAiCINQhIvgTBEEQBEGoQ0TwJwiCIAiCUIeI4E8QBEEQBKEOEcGfIAiCIAhCHSKCP0EQBEEQhDpEBH+CIAiCIAh1iAj+BEEQBEEQ6hAR/AmCIAiCINQhIvgTBOE/y6rrVObOHoCPuSHa6mWC8Fhy6MCkubMYYmmGoXqRIPxbtExNzd5T/3ctscSlWVNcnSwhU0Z+SSnl6k/qAnsvPzxd7dBPz0Yhlb1Mvfw/w8ETPy8X7AwyyFaUUPqfK4Alfn2HMKBXVzq3akZDnSji0pUUl6o/Fv7DujDzjecZ168Zlhn7CYjJpaBY/VFtsu7A8Ckj6emkSURsGoX33Znq4phYgzJbu+Dj7YqjRbm0Sj6lpX9TKw/dDv+srlPfZs5T/WhlK2NvcBSKwnt1Vks6DJ/MqJ6N0IiII01aVwxZwqP0YMFf55l89NqzTBo7khHDhzH8Ln8dGp7kbFgLJrw+h4l9XSg6dIaI3AKK1MnUBSNe+pTpo/2xPHCMEEUeherl/xkjX+KzqWNoa3mQY+cV5P2nCuDJ6Fdf57mJg+nRvjUtWvjRUPMXDgbJyf3PNYRwO/8pr/P8MD9sss+weMshIpIL/pmDk1Ev8tEzg+jWzJKsPSeJUhRwfzFnJ6a/W9fGxBqUueNU3nthAv1cizh0OoLcv4vkH7od/llKbVfadfXHu1kjDOP3cS42l8IS9Yd3GMHcDycxuHtzrDL2cDJaQf7jXDjhP+fBLvua2tKwsSuuLm6Vfx6t6NipC11b++Lp5n5jeUMbHbS1LGnQ2A0Pdyfq62jX/nXmMfP4evkaVrw7mnoWD3dyveusD1m2ah1fv2CLlal64X2ydWyCu4cLDrpSXaiX/afYOuLi7oFLQ12k5vtv6TyYoUO74GevJPT31Xy/aTcnrhSgFINojTyK/l9r3EYxcmQrHAyTOb56A+fC5RTddUf6iGUqKEGL8gI56WVlD3BG5n7HxFHM/2o5a5e/w5h6Fv/RS4Y1KLNFA5xdPfBwskVXR0u98B4euh3+WclBW1i27wJZOo0ZMnY8LUxN0VV/dqcsFMVaaJUpyckqp1Sc9hMesQeLxU5v4Is3XuaFF+YwR/W3LYiEvCLyEw7x3juvVS6T/j5co7pUqP7OP8XZF/9OnenUojH6eg8XrdT3bEmHzl3wb2qA/t23UuFx5eeOvYU+8tBVLN/6I1vXL2fjnhwUBerPhXt6nPu//6ABtGtkQd7l7aw6EUFOwT8V+UmOr+PDl2Yz+80VnMpS/ANn7Zzx9e9Il05+OEsNIeY2qv3j7fCQCpMJWreFM9EFGHgPZGgnY0wM1J/d4SRrP57Ls8+9yfJTmSjq0uUy4R/xYJd982WkpySTlJREouqvYWfGdHDFJP0YX6/8ncsRVyuWp2Wr5oh5029CR9zMZARv2kWMTSt6DepFl7b+eDuUI7smdeziauZ/OHjSs88genZsh38rbxqUZ5OQmUvxXeeB2OPZ0hOXFj0Z7FkfXXkklxKVWNYzRy/t1vl29l496DegJ539/Wnj7YhWcTzpsuKbl4zUc0+aduxLG2kHU5IYQlS2BVZW5pRXma9i5dKGHn370q1927vmsePwyTRvqEHsuu38JVOQr15+061zYQycOtL/rvWjXtfFtpo5hOryO1rcyGODKvMNdZ1a0q0iry1xtcgnNllGUYn0bamsXfsPpreqnps3wUIZR5KsCNVHFToNZ0qzhhC3nu2HjHBo15fBPTrRrrXPvdukBu1XdT6kmV8v+vftTscWjdCOltpDeY85LlKe/Xv0o1+XDrRt3ZwmViBPyiT3+jwidfs1adObIV71Kbl6kMBEHYwMNVEkZJFbTX+7ZW5mfTe6X8+7dwPK5AlkKqT83P6lW/LRmqbV9eeqcybNWtC7X196dGiJk24U8eq5hzXpR1Xz98BteYPUV3pcb8c2d+ZbXX9/1///Nh2Vvy2/1Kfbdqd/7250aNMGb0ctChMykElp3JHtG7ow9eWx+DfM5+zCb9l6Lln6zQZ39P/rebBy8aGpexNs75i3qt5m7PTJkIKHkooPbs2Pn6sFBbHJyIpKbuan0AgrOxP0NQtJTM9Rf69S1bZscf279Vxpdsu82ZqPiZXt3ooegzyor5tDRFgihdbWmOtVKUvVbU3V7hoKkqT+U1LddllFTfrdLe2nsKWV9Dv9ukn93e/e/cu/3+3rudHzqZtlDszJQ6le+wbvvkzo5IaZLJiNu2Kw8e6gbgc/XKr28+vu2g639svm1bVhhZr3vVvq6h7b1i3rVbNvKZUnk+nakZ4+LtTXimLHsaso8qs7cCnEyLoexoYaFXnKuTHWVy2b351jn8TKxRNHfYWUbil/0wWEOkzD3qHhw3ePMd+y940BOMauou/MZcSnyNUfqIxl4Z7XGeB4lb0/xWPm5U5jR0sMtDUozU8n/uxelny0llOZcvVgYInf8CmMH9oeP+cGmOlpoaFRSn56MlEX9rPm842ckQbqOwYOJvHJ2iE0b+qGh40xWgUpXE1WXQq6xpFJr/FdUhoy6w5MmjWaPq2a4mhnir6WBpQUkJkeS8SxnSz6YR/ROfmU9p7H0hmd8HV1x8Fcn1JZDPEZRRQrLrPl2Y/4KbmcVlOeY1zftrg7WGOko3kjj1fO7WbD1z/eyONrG48yqb0Gh7uP5e3YRDIqM1tFb15bOo1O9RM5c14Ldx+pfhpaoF9t/ajXbZLHqcnqMqlTuVF+81h+qshjJiM/WcPQ5nDpQAYN/T1xcrSR8gpFilQiTmxm4SkLBg/pSgevRljqS/VcrkSeeJZfF3/A6hOZyFUF+N8Gjj/dHgK/5bi8De7uztib6aGlWX1576f9JqnzF308DztV/uqboKcRzx/Dn+ebaylkV6R3K8+BzzNxeBf8mthjbaiDpkYZSkUmaZHB7N70NVtPZ6HoUtl+TRo1wVXqC+U5t7efNFiq07vuel4u7UrBsq077tfzXppPeuIVgvds5MutAWTlVpZSdZfp7HF9aOfmgI1UqZpSV1K1V9KVKvlQrTrlY9YOlhKOOUZ+/bZ4NLLDVFeKpfeN4Lmv8/EYVrN+dCN/D9OWEiu/YUwZN5z2fo2xN1W1ozrf0ZfYv+4zNpy6WX937/+Z6NUknb8r/7pG9B0zkQHt3WloZYSOtD2WFkhtGXWBP6qmcbuWb/Ljd+Px1whk0vhXORGdTnF5R15dPIcujWUcnPEWa5LSqRyFLJn40TcMb2FHccgiXvjyT1Ky1BM+O7/Ekue74pD6G8++/yPJ+v5MmyqND/5uN/JTppSTGhPGmd8XsXh3NLI81SGJeluTfn/avKUkpam2Qku63jYmlBepvnuRAzH6dPFriDxgOvOXSAfFspqPiU9VtHtTabuzwVirgBQpiMmRgphrRydXpGXVUdoeRnWjjbQ9mKv6q6rdM5O4fHw7C7/bRbTqxomKwlZ1Z17v1u9utF/ofjKsW+Pl1hgbY100Vb+TfJnjW7/mm9+iyK6oF6l/tXua2WOl7cLX6eZ6aVcJOXQF6xFjaWsexap+s/guPlXdPlXc2I/sZOtVW3zcGqnboRylPJWY0BPsWPI9e6NykOIaSTXt4DWMlycNr7jyc71fXm/D4z8v4vt9UhsWSF+u2BfUpO/Z03PaVMb08cfNXl1X6jJdPvkbC5fuVtexJR0mPsfTA6U+3lC9Xqm0b0mNImTvWj7beEY6gKzszHot32fL96PxKT7C/FFvsScxo9q54Ne3+cBp6rHeaxBzJoyie+vrY3Dl2Jd4+STbFy/h90gZDYbP4+UR7WmocZnfX/iaLalSOdTpCUJVj+Zu31uO2ILIUe8gK6mPcuvbYNfEEd2kAPb+vpegpDLqe7XEp6kXDjoX+etCEnnKUqwGv8jbz46il6cp6ReOs/fAEUKulWDj1YJWvt54WMk4dy6arMLim2cXKnjQqqsD5mZWNDA3QFORSLx0pJibm0bM3iOcy3ViyKuvMH1EF7xMszh3/DCnzl/kqswE1xat8G3qKeXjKicuJZFv7Ul713qYmNlhY6JLUUacdGSpIE92jfMHTqPsNZOXZ46irXSUHhu0jz07/iQ4R4dG3q3x82lKQ91Q/rpYWZ6/P/PXmtHPD6G9tyuuje3RTD7FHz/t41yqVD9Nb6+fFpXrehqTsWEnR25Jrw+TX+lBC8dSwjf/QZB0ZN118iv09PPE1bUhZvLL7P1tN4EZRrj7+eHr6Y63jz/+zhrEH/+dfafjUNbzopn0e5522lz86yJJeUpK1Wf+bK1U+bMiK2Q/f+w5ycUsPZybtaSZtxfuVdrE8j7ar7c6fy6qHUpZIhfOnCW2sIC0fUc4m5t/x4Bo1XUm/3vhafq1aIBGdBAHTgZyITSVMntPWjX3pqmrFbLzwUTpu9DapR4GhpbYSX2hODP+lvaLyCu8Y2J4n+t15e5GY/NMzv+5h10nLpGt24RmrZrRtKk7ltkHORedS6HDMOa+Op1RbR3hahB79/zEnxcUaDdsShs/KR8Ouly6Xn99J/NqDz88m0jpWkLSxdMExSkpSN3H1YZTef6ZmvWjG/l7mLa0HsTct55ldC9PTDLOc2LfAQ5fSqDE2ocWLb3xdrG8pf7u1v8jDHrxXE3SyZTquc/dy5/jPYeZw7vjphnJn79sYeWRyxRbNqOtf3N86sP5I6EkS/m+/SwMQ5/huY5N0IvbxeIdgWRXjDd5uAwax4A2nhhlbmN/uJw81aUy6yFMf3EUHTwb4mABl385TqyiANW5Fr/xLzKzlw86V5bz89H6jHnlJSYNaUnD0lgCD+zhz8BwMnWa0LxtM3y8GqIZc4LQxHyUpeptzTKLjTsOI5PS8xzzCq9OH0HHJgYknPmDXTsOcj5TF8dW7Wjn7Yarkz3a6RvYcViGIr/mY6KjbxcaGptgZW+BQbmCxLhUchR5UjCzhyPB3Zj2xgyGtrYlK/BXtv2wm7OZUv9p2U7a1lwxy9hDQNSdd0A3Gvoir9Vw/OJ6/3Vxx9Eij9ADv/DzyTDkRu74NffBS2rr7D/OEKG62cJtFK/Om8HIbp5YycM4/NcJzl6Ko7RBK9q2bSKNIZYYl6cStPHeZ/7qWzTApUk9ymPPSP1cVS/l2Lj70VLKm4eDFldPhpKUL/Xn62PejXbwYdLrUhsObIpZpqpf/saO0/Eordxp1doHb3dpfNh7hkgpr97P/I+Xx/1932s95S1emTSEVg3KpE1dqqtDQYRl6NKkuT/NfTxpqK3eZ3g/zRsvPUUPFw0i/vqFzasPc7nYAt+20npNG0DIES6lSGWWOnNpthUdBnfAzVEfxcbfOJOjqDb4q9zmpTF3Y+VY32POh8wc0pp62QH8uv0HdgVloOvUmnYtfXE1yWBPYBRNR77M092b4eJkSd6ZXzhyTdpH3Bn9C8I/GPzZmlMQupr3v9nAnsMBnA85T4CWO52au+BqnsfmP1Tf82XKa7MZ0kKf2I3v8tnq3zhw4izB588RcEUPj3Z+ePvaUPTXAYLTpQ3plugvlfjIs5yq35K+bvXRubaft75Yxa49UuCXlI7moNm8OakHLlxk/btfsfq3AxwPOEtQYAAn0szxlXbwzbysKD5+lNDISMKCA9D26IpfIwvkF97kw0W7+ONgAKHJmeTkZaE0kH7x9zWs2XGAIwHnCbkglSetPq3bNZV2uOUE7jpDojTItPvb4O96/RiTdeJrPlqyjb3HznL+YnX141K5rk0RMWtvT68jw6c0x9Ewk7PqwbV1xW/bUBqzkXe/WsuuQ6c5L+2UM6UBo62bM05mWZxY8DGLt+3ncEAwZ8+Y4N2lKU2amJC+ZY+0Q8hFqQ7+bPSzObbgIxZu3c2hM8GEhJzjzGUDvNpLgZG3HeVSUHgu0Ytxr9a8/VoNq8yfTvJevvr4O7b+cYhjp4K4mJxKZmnZbTv9Nkx5/UWGtbEh/YCqnrbyx19SIHE2iMDToZQ4+0s7PF+cDBLYu/8EIadPcMK2si8UXnrrlvZTlJXdduBw/fK8DcayY3z54UK27P6LM8EhhJw9w2UjLzo086rYKQQfuEhijozMYj1I/o3Va3dw4EggwRcucj4gBbuW7WnqaQdnd3FaGngL2qvrTzuFPd9+zJKtf/DnsVOcvZBMUmImBVIyNe9HD9eWzae8xuzBLTCI2cA7n6/ht4MnCQo+z9mAMPQ9OuDn7Y1N8Z8c+CtECsRP37X/e02ax7M1SSc4g7zWQ+9a/nYjXqSbuwlJ+9/ly7WHOH32srTdRZGbn8Hp3w8RGJ2IQuoHt7eV35CnGenTgIKIL9m6P0EKplRrFJDUoBMDWrlIwVImPx68glwV/Q2czty+TmgoyjGy1KdYCpJOqtql1IXxU5+mnb2c05+v5lyzCbwyoTNOuSf56sNFbN1zmNPnQggOOk26fSva+fjQxCCFX09ESb/nX7mtacSybvtfUtDRnmffmk4vD12ubHiHL9bs4s/TUlteOk9guBY+bX2wN9dDEbWG7YeqBH81GBPDQy8SdMqWln3dsNW9xv53vmTlrj0cDk4ivekEXniqNY2UF3jjo6XsOx7IxXBpfVk+igtH2H/8InEZVaazqJUWyCiq4fh1/eDPRgqIN7z7JWt3S+0kHTRfPBtB/Rad8XR1RCd2O4ei5bSf8i4zenthFLuTNz79np17jxIQdFbaPk+Q3rgD7ZxsMCpPIfBvgj9bizKiVePHqt+kMkljoapeTubTyL8V3k1dMc38laMRcvKL1WPejXbIIa9cD13ZWVav3syev05xLkTKa9ApdNy70dzTFeNM6UBNOjDoPellenr+Td+zGMJzr0+ki2MuJ75RjX17OXxaGvuCpf1MpgOt2nnj62xAym/Hiez+NC/28MAk+QDvSNvnn6fPERp2nqjcXDICpDEzMJprihLKVF21JI1Wg0bi3VCPzN1SflKlcfz2Ti659cSBr3TgP47WjQq48ObHfLfvOIGXrnAhKJt8RQiHpTHvQlwGmXlGWBqVkxV2iFVSoHs1SwqSq0lbEB7sho8HoYwlYPFv0k4imlSZnMzkq1zcEElKTjE6RlZoaGpJvb03Xb3qYZx+gXU7AwgMiyctM4uMpBguHV7OX2HJ0qDVGJ/Wuujrq9O9IZ2E6HCuyPMpKi+nrFhOVHQEl6/EkFhUTOdu/jS21iT+yHdsP3WKsLgkUlLSSIq9TND2b/nl3DVKzVvTe6ABxqXJxEaGk5FXWLHhlBREExUVxuWIeDKKS8iJu8TeNTv4K68BfgMm8ZJ0tDl9WFdc02NIUyjRsnaiqZYO0n695pQJnF99iOCQONIVcrKqq58HksXVPb8SFBJBanYOmdfC2RMUR0ZhGYXxp1h16BznY9PJzEgm5uIqwpJzKNI1wU5T85aJ5YrIfSzfL+3kI5PJyMkm41oEwX9+x8HQJKlNPGjbVQ+D3g/Sfgqi/1zPn4HnCI9P4Gp4NPFSe90xC6Zldzr62mEiC2HlmgMcOx9FYnIKaakJRIb8xaplR7ico0vjTn3pViInTWq/MHVfuL397jiTdIOCiIMrOHD6LJFJGeRkZ3AtMpiDSw5yKakIA88udNczxFARy6W96/j5cC72zfoxZe4bvDxtOF1d04nOkKPUtsbJUwudKh1AEXmQ9X8GcjY8noSr4UQlFJEVfb/96GHasgN9OnpRzyCdkI07CQi8QlxqJlnp0rqXDvPD4UskFxvg7O2PrjL7Hv3fn141TafKRlpd+a+kKygq1cbGWzVfzRfXsnxSw4+xdd1qfjpxnhRlcbVt5Wykj45UppKSTOlfN09rpP9+jui0IgxdOkjtZFBxV2y/Ns7YamUQdDiK7GIbmvbyQM9IF9z64uNsgV52GD/GKenUuQUO5sVSX1zFwcBgIqUgNzMzjQSp/XeuvkCcXIv67n5o694x8EjjVmdaNLHCMP0si3aeISBC2kZyFRXbcOjhtWw5dxVFUTWnX2owJqYnRBMuBSv5RVJDlBchj44k/EoYMVJ/LL6SjCy3hFLTRgzr24l2zaxRyuK5+MsG1m75nTOR+SirmU6W+wDjV2bU7/xy9jzhKTJyszO5duUYIdekg+ByfUztNdHS7kAXv8ZY6adybt1mTpyS6iwxmdTUJKIvBfLzqgDCZYV3btfVSQrim59Pc/xS3I16CQ3cxPeBkeRo2NCic2cMDKu75zmdyGNbWbknCiPXLoyaOZ/XZ4+nfwsrgpMyyS81ws5b2hakgkVn16Dv9e1JC0cLiq8eYuUh6QAvSmrXrEzSVGPfjpVciJWjZeuGn5SgfkwGcmls0a7ny+DunWjmVkZ+ejhHf1zP6p+OcT6lkOIbnTmTItUcvXIjzFpIdVdNl7pTFMk5+ZSUmeE0pA+dpYNua2UO8Rd/Zf26rfweEEm+1NipQTv44euP+eibzQTE5VF098FOqOP+ueCvJJvE6GxKqvbGFKW0EZRTrqH+t4MVJgZaaFo0ZcI7i1m5dj0bN6j/VnzCCN/6GGqbYeMpbTD3FVlZ4mZtgq6WjLjtUaTLb7uZQHaVX+IzUJQa4NC0ozQ4/M3DFKy78NSzL/DCC7OZ/vRTDBk4jNFPT2fuy4PxtTFER1sLI6lM14tVIyUyUhIKKCmucph2e/08kDzST2RRWuXcvzy3UBoUpKAoL4uEglJu/uQ1aSej2uFK9SvlvurP5iTvJU46iq2aPSni4Oe4NGnQ08bU1gotp3oP0H5yEvcmkivtxKomfYfG9TAz0qIo7QqBqjM3Ur3cpCQ5MELaaRahadOYllpScKn+5P7ISdgdR67i1ikFyvgdxKbJKdaxxrmVlhTUWNJ1zHO8+MKLPDfjGZ4aMojho59h5txXGOJbD0MdbbQMpfqrUoE5Kfu4JtXfLdm+7370MG1pj5WpAdraFnhPeJclK9bcbJsNK/h0mC/1DbQxs/FA854b14OlU135T6/YysGLGeg36cf42e/y5fLl/PDVfMa2swFdjbsG6QUlqrOBVStSLeU3LidkU2TShM5tdDHUlw4EXOzQTQ9l09YAwtLBrlk3bPUNqdfVFydLPdJCt3BVqY29lQk6WoY06DaXL5auYsONMq1nySsdcTLTRceqAd20tO981IoU+Kn6vTIrjsiMYimoUC9XKUzmSHoOeXfeFVGzMfFeUnewclcA0Upruo+YxmsfLWD1siV8Pr0vzSylIEejmjpSeYDxKy/rJFmlVecPKilQ9S/p4KpyRXtMpaBaqyiDqLPJFBfeMsIiOy8FllJQW1013K4gM46I2+tRCuzOhiWRLdWVvpkDGlI7VMez79O8/OJsXn52MhNHDmLoiAlMe+51nuvYGDN9HbSkfqXaLmvS96wcrTDV1cLQvhsvf7aUNetv9omNi1+mk5MZurrW2HeRDvQurGDr/lAytJ3pN/5Z3vtiJSu++4rXx7TDRhVGV1vuYgqTpLauUUScyo61vxEQU4h1jxFMn/chi1Ys5btPptHPxxwNbY3KLaIwk4SYiIqHXhdLAaYg3M0/F/yVq57DVO2QfZP6w4L0K1yMDCVUOsK9XOXvz50bWLF8BT8eud+H9OZJf6qtT9rYUqrf2NKlo7ZSaSDT1FQ90Oze1dLzmcmMH9odX+0ofln2P+bOfZGXXv2ctaeuki0d3j1QsFaT+nkgZZTkVPzfQ7n9LMt1ydIRcomq3nTtpH9VDsj3134lSPuL6pK+lZaG1CoalBYXUCjV1R31VKiU8igVUlPzITq1lBcpQLgzL8kUqs4YSuXUUMUzvSczecJgejTVJurX73j95ReZ89IrfLb2FFdlpdJ6d3aA6urv/vvRw7SlVCuq9ArTCAsNJzTs1ra5/NcO1q/6geXb/qoIKO/uwdKprvzyqL18994LzP9iG6cSSzFzb0PXgaOZ+spnfDNvJDbm1R+EncnJo6C0HENDPzQ0q4b5yfwUcpWsEgtcOnug268brvbGZEVs42rcOs7FZ0kHmC0ZaGfAYL9GWOqkc3lvNMpcmbTtqypVQcKZSKlct5Xp/O9sXrucZet3E6Wo5gYK1d2hUocsKSmqdguW3zGFQe2ht/kkAjZ9zvyZ77J6bxgynQb4dujBkAmzeeOLj5nVXhW8qFet4kHGr7Iy1e0Z9+p4ZhhU3HBSgrKwvPLyZlXXt88aKL1LPSoLVHfXlksBnJEUwFWzlbuNY/KUUQz0t0VxYj3vzJ/Lc3Nf4tWle4lIvfUB4DXpe7lS66hGGnncKcLDL97aJ66c57cf1/DDD2vZFasgPyuaPUvf5fk3PufHUwmUmrnj33kAo6e8wuffvMJIG/MqBw0dsDIyRKtcQWaktE3X8DEuiQGb+HT+LN5dtYewHF3sfDrTc+gEZr/xBZ/MbCsdlD1mz2MSHmsPvp+sDXklFRu3Tnke57dtY/3KVays5u+nQ/L7fNOEkrxi1YBkSf0+WmgZqxdX0dPaEiMtLWTpgZSV3utBcB3o0taLBmYyQr5czk8/7ufQkaMcPfoH2364wDVZ0b8zx8Ja9UBt9X/XAlOLLmhq3bkz7lfPEmPphwvlCZTJC2qp/STqvqFv6YSbls6dD0d1s8fSTDqyz5MRV176gE/6N8WqsyZ3FrMv9c2NpdA2j4xLZbRt3Z6mDcyQXfqSH37azr5Dh6X2P8Lun5YTci3ntjMWd/NP9yN5xc63XEeT/PM/8eP66ttm5U9HkN+zcR5VOioyYi8FsHf7Cr5693XmPjedV7//k2QjVzqPGM0kExOpRe6UGZ5W8dgOMzt/6mkbULXbJ2y7TEJ2ObaeXenZryUORhmEbr6KMieOH89fJVPDkTY9BtPV0wYDWSS7LhShUF4fH/Qoyd7Otq3VlEf1t34X56Tg7459tbxIanOpb5o74KZ5Z9/samGKoeq201qgTA4n+NTvrFnyKW++Oofp099lw8Vi7Hx7M3pMb0xMbu/MtdXv0sgvLKFcz5R6Nlp3jkXW9TA11q64K/7vGJjaYq2pfUu7qrg0koJZHS2K8zOkuLmajaxTF1o2tkEr/hgLNu5kz4HK7fLwzjX8FZlWccb4pr/ve3r5UhAqjTl6JVls3/Zj9X1i5UZ+P6uouLlIFneJgH3bWf7N+7w2dzZT//cDB1NNce08kjHPmGByvTO7tceungE68jQu5JfeNnf9HgqTCQ8+xW/rvuPjN+cxZ9Y03tl0gRK7ZvQZMY4+Up6rP1wShDs9XsHf6QvEpxVSVs+Xrs11KcjNJC01Tf1nRdeJr/LytIF4SXtn7ZodRN6wMySOLKUuHqOfpU9jC2kwVn8gsfJ7mpF+9phoJXP5zxSU6scWVE/awPRUg1gJBaUJyApVlz5Uy5XYd3XFwUQX7RoMcA/mIgrV3Y9lUhDbUwpijdSLVY9umOBDIzO9WnsArJnHCJ5ubor0Ezd5jWOwd4OKeos6nEnxofO11n6c/ovwa3mU1mvNpPEtMDetmhF7Bj3VETdLAwqunuNIUWE1N9bUhCneIybQzNTslvlOnk8Nppm9tDNIjeZQZhFaqre1SFtOcX4JCTmquTyVo7fSoRsudkbo1qgR/ul+dIYQ1ftPy2zw7dxc2rHlknmjbdKw6voM816axiAvLQzv2TiPKh0/Rr/8JSuWvM1Q+0JSIy5w9sxx/tiwgODYbMpNbHDW0q7+DQiHg7iaUkB5Ay/61NfDuGqUcG0fYfG5aNi1ZZS3AxY50eyNKSJXOhqoDAw1ce47Es8GpmRH/cYFuaJi53s0IomcIh1c2vfDQdrGcqqUqdRzGHPmzWVcO2t0dNWX16q6Pm7Vb8nYfk0wNbrZAaz8xjHaryGmuo9+qG3UayrvLlzGNy+2plwez6XzgZw89isrj1whRamNhUNDtO54LU9t9bvjnItLpaC8Af4Te+BgZlgleFONT+0qtk+dGqStZd+Gp3vZV0zzuMG6CyNaN8HCoIC44OMUF1azhRvroidFl5rKXKLTcqWAXN3/DLxo6miJnnTAUqmGfe9oBIlSYK/bpDP97fNRym72ibRST4Y/9xovjemAjbYeLUa+xFfff8c7Q+woTIsg5Oxpju/ZwLfnY8guN8HGRQqI1Z3ZpacXTtJAWhAfxJniAmr0zPlGPZj27iJ++GourcoVxF8KJuDUUX5deZwrKUq0rRrQUMqztnUHBk2axayRbaX6qzqKCcKtaitWeDAZe9m4ryfNprWl04y3+NjlNCcCgknTdaZ5m57069UCi3g5e/U0736pJFFOQXEZeg39mdgnkmhjEwo37eTAtp841dmDod4DmfW2MY2PnObsVSXWLj6069KD9o2MkJ1dw9qzcnLUt6EdyZAzVxpAbD1mMqr7WRQW2kRtPU14nLTz82yMz/S5TLTey9lr+jRq04W+g1phZ6yDRg1P49+/KI7HpDDQ1xvPca/xnK50VHu1lMbenRk03B0rA6k577iF7tHQMvVk9EvvYdb0OMfOp6HbqDnteg+gg5MR2cGbWC0d/coSH0H73U3GcZbtP0fzRp1pPfZlPrRsQVBQABl6rrh7d6BXL09sy67y28LfiM9SXbB5EOUYuo3i5ffM8T1xjKB0XZr4tKXnwPY0MpYRuGUNZxU5FFyIJ62fB419ZjF3Qj32nI/HwKEtXfoNorUUVOho1GQ4DyRE6ke9/7F+lMmeLXvp5Tudth1n8PaHLpw6FcC562Uc0JMWJrHI96mezVb5jer7/24O32c61YvHyMmXdj3scDM3xm7XfoKTpDDBqyO+DU3RzY8kvqy0+rc2SOPEsSsT6Ni4Cd1GNGPt1Wxysq93/DB2RSUw2M8Lr/oGZJ/8jYtF6mfWXdvCxfih+LVwxlpfTtCxEBT5yoq+eHnjz5xo68IQt5G89Ik1bU5JfTeykPreLejSvw+dGhVx7OJKdDSrCWirjFvtp73LN76BXIxMp9y0IR6tOtCsnn6Ngp67S0SeJwVp9k60GdePiFgDTJSb2V9sh2ebzjTvZI+eyQ72n4omQ9+J9h1csJL2+1nJlygtvn1AqK1+J/WvTVK/8Jb6RY+ZvK3pwO4/TxNdYEbTtr0Z1N+XBtL4pFGT8UnPnt5T30Lb6RDHTlyh0MabFl360bdpfTRjf2f9rjhkudVs4cekYG2sPw2cOvPa9Dj2nYgk38yTDr0G08vVEoMbsWQN+97lTWw/2RaXgW6MeuljrNqc4fSpcJTX89OpMcrjIazQgThDZ5q1746dpzkm9Xex90ICWHjRyccBU518Iq+WUVpRr20Y3M4Va0MFlw/sJz03r2azODKLsXNvRefmHbHXM+LngyeJyjKksX9HmljpQ3YSl0pLaDXuGWaNao6tRhTmmS+x7ESqdFCjTkMQqni8gj/VpN4tn/Kl6eu8MLQt3Ye50rzzAAq1TLC0sUYr5SSbFv/G5ey8u1/W27eHkwP9cGzhxeiZL5KnJ+Pkb/s5mnCYZe9YUv7GJAa07MHIJi3prihF39QSa5Mi4k+s5fMlOziXLKWt3mklbzxBcEcPejsPZOKcjtJGGs3GXYfYtXg9bg1eYJBPPyY0aMGAfC2MrcwpvhxMrFlbXKXBoHYoObl8Cwec5zKkWQ+GT25Gx7xyTEwNyLtwjhh96ei6lqZ9pAbvJ61+a/qM86XtgEI0jS2xlfYwORd3sfDrHQRX1Jv84dvvruRE/fQln+kW88q4bnQdZEfLjr2ktE0xs7BCV36RX79awIpTV6TB7sFCP2kvTsixdOq16s1TzfzpV6iJqaUt1npyLv62kK9/PkeytBMu3r+Ydc0a8OIAH/qPt6PFwDy0DethXhTKuXgz2rnUpANIO0upH/n+g/0o/dyPfPKtKf97YSRtuw/DtUVnBhSoy6iVyonN3/HbZRlSESvcrf8H32c61ctk79INuNvOYmir/jzduBWD8qX9voUt9Y1yOLNhEb/nZN3lDG46+7eeYIT/U3j3GceIn86xTp6OtDlLVO9xvkx8v6ZY22YTI+2c5eoAT7XT33M5juHNbTHOvsqfxxXkqZ+xoYw/wNIF1mi+OJkBHfri4NOGbjmlGFhaU884j/DfV7DueAo5hdVFtJXj1geaL/Ly6B506NOI5h0LKdfSoyjjHDsuFDPO30m97oM4wJ7TQ2jh5EfTMdOZm69H9uld7FuyiR+2NeK1iR3pPnImvt0UFGqbYGtrQWnUXpatPU+2/PY9f+31u/SzUr9YacvbUwbSutcYHJv3QFGii7m1OUUXg4jS96dJDdIuiD5OiKYnnYY4SUGWnFJ9C6zqmVGUcIK1H63m0BU5t91PUkkK1pb+4srb49vTfcR0fLooKNE1x1I3g6NX0rBsbq9esYZ9r7CIA999i7Xmy0zt3ZH+o31o2y2nMj9WZuRH7GLFuuOkypXk7fuOdR71mD2oJf0nOtEyJw+k365fzxjZ6Q0s3JVDlrTIavBQunlYo5N2nB8PXZP6Zg3HqtzzbFqxnUbzn6ZTj1HMatYNhVIbE5v6WJRFs+eH9QTL5DQxNcXa2loK/jIxytBEo0Y3kwh10aN5w0d9D1o1sUG/IJGg0HgKb3m+gHR02tIZG4N8rgVJg7Jq4q/6E2iMr789FmQREBJJQWHl3sLI3h13Rw/8Wrvi7uWJYU48cdFnOHvhKpeDY+796i9McfR2p50UGLTxsESWdJ4/lv/CBVmuFHCY4+jpjINHc1q6uuPtrEPStViiAs5LR9MRXLiajrK4asp2uPq1oFOn9vg0gbTI0/yy/k8i5bo4eLvRrE0bmvl4Y6OMJ/rSGQKDE8gztcFU62ZZHX39sTeXjsIDQ4gouPPhwvdfP+Y4Sb/t37E9nh6eWBXGSb99moBz18hX/bZ2DX77Hu3lfPt3VO9KbiAtkF2j0MAWr1ZtaebrjbE8hqiLpzl7MYoLYYnIi27erVvT9rvjtyq/fk969Zrg0diOpi1a4+buIZU/kfiYAM6FXpPqIYJr0s7uxh2l1/OeHUhIZAHSWH5X19/EcmziO2wrr4dLu+Y09zImJzaKi6fOcSnyApcTVW+MqUzcvJE3bs3b4N/cG2/rQuKjQzkjlSMhzxgbU23yE4IITShE6XivPFS25UP1o/tpS9VCowa4uzfC068lrq7eeBpnEx8fzemgS1wNCyYmrfKVc5Xu1v/zKalpOvdsA2l79HKRgoSWtHZzx6eBhlSPlyvSiLt8jqhb8nIbfUdGfbWMt3s5kXdwITPf2UxopvqMr7603Ug7egv9UrKuBBOeprojuuJb6Ent5tfQEv1SGWHBV0iXMnTjzIu+FU6uTaTAr4WUH7fK/MRfJfJMMJcjLhB6o/2rH7cq+qaTHeYN3fFtpEtmaCTx6QlkDf2YNaNaUHy0O2PejCUx4/7HRFNHbzzad6BXG3escpII3rWSnRdlFJu74uHsRas217c1abu8FEBwaBTnLyXcsl3eVPN+V3KP9rPzbImzjQEF1/u6qhDmjng2caB5G/9bxolq065M5qYbfTlNOgyzwL15Kyl/zWlIApFXThEQHMeVkKrj/511pWfnjpdTc/zbS9uvqx7JV8M4JbVflOpOb0tDSrKul6OmfU8PKyc3XOyb4tfWHQ8vKYCU9hmxEYGcvRzJBWncuV7H5o5euDb0peWN9aK4fPIsl+JCORst7VvMejFv8VtMamVI1Io5vPB9APHy219WcNMd26++La7uzjRtKW1zbpXbXHTUJalurxAVcpH4nCIMnXzp2KUV1tJvnj51npjq6lkQJI8m+KsVephammBmbo52cR658jSypEP7qnds3YuRuS1WZtKRd34O6VkKSqt+Ud8USxMzLEw1yc9VkJMho0D6vPqKUOXDWlpXOiJVyMjMzpfyULmmnqklFhYW0o4kF4Uso+IVR+qPap2RuRWmZubo/cO/rfpdC0sLdIoVyLPv9bsP135/52b588lTPHzat76GL5sSa0uszHVQ5srJTs8mv7r+oepHUvurgoxceTYZVfrG/fg3+pHqN01NLTDXUZIrlTFNdam82gq8e/9XqXk692BkjpWpGdK+mVzpN9Iyb9te78LcZQbffD+HznYZ/P7xeD78JYmsB5vseauq+fnb8aGSfcdxPNPTgfAtK9hzrRR9A00Ks+XS95yZ8MMq5vew5drG3kxZEE/yzXcy3h8pX7bWZugV5ZOTloWiVOonFR9U3db+bru8qTb7Xc3HiburzJ8lxuSRI7ufbdwQc9X2a6ZF/t/1pxr3PVWaZlIdSyvm5Urbu1Sm/OrKVHU9ObIq7dRz7hrendoJ49iVvDxvKScipYOJux3c3EPVbU5ezbijZ2qKTm4u+WV3uctcECSPcfAnCP+cv38Hs/D4scF9wss831bBXz8sZW+YjGrfkV/rLOn/3jLeHuKG8tJutm/dwrpD4SisWjB82DNMf7onnjpXWDR9JiuCU1CIUzF1kn2n6bw8sSXx679hTUA08geeniIID08Ef4IgEcHff5S5I84WRaRfSye3WPXUvH+DHnaeo3n1k+cZ6GWAIjmO6KQcivWtcXJqRAPddE5ufIcPlp0kOqfoAW9GEv7zVNMKHMzJi48nq+heU5cEofY9mnf7CsJ/nKauHikxFwk4cZbwQmWN5h8Kj4HCHLJluRVvOfn3lJKbEU9EaACROVoYWDegiX0DbHQKSAg9zOYF37N5/xmisqvMRxXqnpICZFl3mUIiCP8wceZPECSqOUqGeqDMkJF7Yy6VINwfIxsH6tezwsJAF81SJQpFFslxyciLRZ8SBOHxIYI/QRAEQRCEOuTxesOHIAiCIAiCUKtE8CcIgiAIglCHiOBPEARBEAShDhHBnyAIgiAIQh0igj9BEARBEIQ6RAR/giAIgiAIdYgI/gRBEARBEOoQEfwJgiAIgiDUISL4EwRBEARBqENE8CcIgiAIglCHiOBPEARBEAShDhHBnyAIgiAIQh0igj9BEARBEIQ6RAR/giAIgiAIdYgI/gRBEARBEOoQEfwJgiAIgiDUISL4EwRBEARBqENE8CcIgiAIglCHiOBPEARBEAShDhHBnyAIgiAIQh0igj9BEARBEIQ6RAR/giAIgiAIdYgI/gRBEARBEOoQEfwJgiAIgiDUISL4EwRBEARBqENE8CcIgiAIglCHiOBPEARBEAShDhHBnyAIgiAIQh0igj9BEARBEIQ6RAR/giAIgiAIdYgI/gRBEARBEOoQEfwJgiAIgiDUISL4EwRBEARBqENE8CcIgiAIglCHiOBPEARBEAShDhHBnyAIgiAIQh0igj9BEARBEIQ6RAR/giAIgiAIdYgI/gRBEJ4gVn7j+N/XX/PWSBssDNULBeG/yG0U87/4itdGu2NupKVeKDwKGvYODcvV/y0IQq1oQ7+nfHA01eWew1dJFrGhwRwOjiFfWaJeKAj3wWsUb78+lY5ah/jyix84FprDrV3Jkg4DB+BlZ4xONYf++SkB/HzwIoq8oop/+/cbh4+DGbpV1y1K5Mz2g1xU5FO51r/lSSrLbRykMaN7e9r5uNDAzAAtDdXCEjKvnmHftp84dlWBUaeZvNqlnG+XbCUtU17xtSeOWWO6zXybeV11OLfpY77+JZLsvFL1h48rS1y6dqd3m5Z4NbbGUFsTVfMVF6YR9udmVu8PIyffldHzJ+AUtYAVe9PJzq/85j9JBH+CUOtm8M3WUbRxMMJAV+fG+fYSaa9cXl518yujMDeTlIRoAnYtY9X+GHIKHveBTnh8tGHagveY6pvC9+9+yvYzMeQV3d5/uvPa0hfp19QGfT0ddFRHI9KeqbIvFhO3/3+8sCiAVFmx9IEf8777gCEt6mMgdVsV1XrFKcf44rnP2J+SRWHl4n/Jk1QWNWs/Bo0dRt/2LWnayAbDEmk8iIngbEwqSqNGNGvqiKUsgE17C2g7ahCtin5ixJzVJKT+V4M/S/wGj2VMHy/y/nyfJdUEQnp2Hkz/cAHjHeP4+ZM3WX4yA/ljFanfZN9xHM8M6UOrZs40MtYkJyuOyNAw4nO0sHRvRtN6JYTv38oVq8GM6NOAsOcm8d65RDL/hWN9EfwJQq1zwrtVAywMtOn+3EeMbd0Ik9Jofv3fQnalZZOnXgsNK1qOm8mkzo6UZ1xg9w/v8dV/4kj3nzN87qf45H7Lkh/TyFSoFwoVPCd+y6K57Sj88RXmfB9AnLyYOwd3W1ybOWFr0pYZH0yjQxMz9DIC+OjDtYRnylCkXORirBxlseqbVrSd9RmfPd8VG3kIh3/5nV1n41HIU4m8EEm6slg6XPk3PUllkXgN4+VZ4xnY3pP6JREc2LxayuM1UjNkpMsLKNU2pl69Tsx6+2m8rCxxtDck4ZcxjP8ohKSs/9AY4daF4e188XSpj61NY5p4uOHSUJ+w7/sz64d4UqqJY23av8HiL0bQMHI1z85fT2i6gserxJZ0nfIcTw/vTevGZqSf28XmTQe4mJxCZraM3CIN9C3q4TniFeb1ssO0XiOsC4P5cPActiak3twH/IOqOVkuCMKjFculoJMcO3aU8NRcisuknVFpDtcCT3NCWnb0+t/RP1j/5ef8GVWAUUN/hk2dzTAzc4zUqQiWeLbqSFtfA/T11IuEStZ9GTm0LQ0Lwtj0RwSpedUFfipSsBNyhuPHlajOh2n8v73zgK+qSPvwk957D4GQ3hspJCT03ntHlKIodnft7q6r2/SzixULFhSlKEUUQXoLSQgkpIdU0nvv8M1NLhBCAgEBC/P89mzk3nPnTHnfd/4zZ84cFSjL2MGuI3vYe+Ag0WlVSrFkSsCMJSwc1ZeyfW/yxDMv8sqnG9m5Zy8HoxIp+j2IpT9TWTxn88Tj97JwrC9WpXt57e//5a21O9hzJJa4lEwKhIgozk3nVMx3vLYrCzVTPbTUSkjZVERzzS2UQTMe59UX7sXKzFD5wXVg50f4yOEM9nPB+JweZtZGaGuqonIFNVJy/HN+TijDIHAqdwwxwEhH+cXvAiH87n2WR5bMZqizGgnfPMs//+8dvv1lP8dOJpGeU0BhYT5ZSSfY/fF7xFQaYygCWENONJEtDTQoU7nVSPEnkfxuaKLs9GHi88ppalPF0HEoYybroqev/Pq2ZwS2FgZoaihW0Eg6YzZxAkOcjCg+sYZjBZU0Xk0PjHPB1kQTdZUGCpKPUNfU0EksejD5/md48s5BaMW8xevvfMXOg/FkltTSqhi4/N74o5fFfCj33r+UOYNcMSk5wOsvvc+mvcfJKGsWeVSec4FKMjYkcqaiidaKM0Rlt9KgUL63ChdfBgZ7oKOtvHd+PcRt5ZPX/83f/vEv/vvqSXIreyG+G8+wdV8qhfRh5ORxIib+fobEHnNXcu/CMfj2ayN17Yu8+fnPHE7Io7ql7bIBWFNBDEczi2lobabw9C7Km+t+s4GHFH8Sye+KJhqaRTBUrAVUM8LGWxV1OcvVjscdo/Cy1ut2cf/tjSkTwjyx1ikncV061d3e7r2U8EH9sdDRRLUpn9Rt5TTXKrsgu5Es/+fTLBmqR8rGN3nni1+ITBHfX65Crsqw5Y/z3JIIzAyuYsCK251/e4QpZsZcz8PJf+yymDL57uUsGOKCpUYhhz5czY7IZCqaW3tuw8JCKutaqcz6DWaOFL73a8depZkkxMYQFRtHUnodTb0UryU/x5FVehYD76GM0NLtva24zubB5x5luptokys+cae4dfsUTy0NxNSgl+I2eBkr7prCgL6GNCX9yCsbjhKT24TQfT3QxN6yKuqb8279rG0X1AwNjZ5X/rdEIrnJeI9fyGAXC3TOFhL15TaiqkTwU353nkEzlhPmaIq2eh1ZP3/JlmNV1CpOsgtnxsL5LJi7gIWzZjJp1GBCvC1RLcqkoLqZ1vO9hWJNzaTRDAsdxrhpkxjupkaeWSCzZ8xj5sgAbNQLySioEZ2g+IF5AONnzGXBnHnMmzubqWMHMyjICb2KVHIrRBC70E86M2zGFMYMDmPY2GlMHuaK6qlUVLyHM3XufGZPnsDIMA9sNErIbE/blvBpC1gwfwaTRZqB/Q2oSj8jRrrdjPJFuebcuZg7Ft3BvMkjGTTAAd1O1zdz9mHI5BWsWDIKH2sDztU0o27kja9fMF525zh9pozmztH2KukpnvocPzyCwaMnMXVCAOYnRemmzWDO3IkMdtOnIlXks/1WYB9x7hwWLr6DhfNE3YwKw8euPwNnj8P9ZCLp9Q2/kydEJ3L3A+Pw0Mzim/d/4ERFXftt0J5xZsGSOwhxMEKrLJZVH+0gqbIeq4jFPPbQHUQYprD54y/5ft9x0ku7m33qHU3241m0aApBJsLWE/JpaOqmo2u/3bmUEcYpfL/7BPl1zdc4E/IHL8uQu3nu3gl4W+rRkLqJf7y7lZTS+qusZxvItCWBaCS9wbq9uVQ3XE3q30AGz2Bp/wY2bdlHZc2NkJ0RzFjqTz9jKDr2JduilbGuO+rz8RgzDT8nc1STN7Ivs4b63jwo0apD0Ky7WDDMkZaUE5wub6R9NcAlKG/dzvSkav92DqeW0XghoPaEM3MefZwFYf0wVi/gyKv/x+dHc6hpvvLv3MfMZ5ptFZs/2t4LX715SPEnkdxCrir+zKdzx9KxeFjpopKzhzfe/omTefVC2I3k3n8+xJJJAzArO0XymSJq9V2IGDaMiEFeGBZHkVjQQHufFLqIR++cxvjBIQT4++JsaYN/WDDONm4MDAtkQIA97DhKSq0ts594lnvmDMPpbAqJWQUUtVoTPHQkQ8MDsT+byonMShrbI+VA7nh0KdPGRBAywA8fZ23OGYcwfow/fQz00TW1JzBiUPstIaMidSKWLmFCcF+01DUwdwkV6YUS4qFPwbFEChqaLnRuZsNW8IxId2aoFc3ZqWQ1mhMwZPgl1w+Y/xfumzmOgP5m6GqooqVrR38hCH19/XA0KOSng0nU1nfIsN6kN3Lpc8ybMILQYD98vftg3XegyLcF9gGibIGBeBkXsC9Ok4kP/JWVM71RL0ki5qdYCjT64DdyNCMiHGj7dhsHqmp+s/U6lxCxkHtn+GJZGc3rG/eSLzrlK3c/07nr/iE4W+hQlbCWVduycJ3xMI+tmMvYQB3SP3iNT/ckcKau9VfdkqotzKJcy5exU0bhb1RwuWhSiqXhmgd4+/2NRGUKEd92tQ63K3/kspgy4/4nmRVkh4FmBSc+fYkvDudQ3XS135WSmXyQvQfjyS5upu3XFOxa+S3FH7VYRMxgiGtfNGvEoDiyiprePKLdVM6Z0zVYDZ7K5MH2NCV3FYDnhZ8zOd+s4rOdp8iv7YW9BN/JE8uG42auDVk7+ds7W0gTwv1qv2s5k07U3n1EZp6hqvXyW8O3Cin+JJJbyEXxV0ZyUh6N5uZY9+tL335+DBk3mYWLFzLczwbNoiOs+edbbIjJoUoxXRVxF08vH4aXjTH1Kf/itTX7OXgkhtM2YUyOCMHPToP4PfHk1wlhVV1MbvxRTlkFM8TZCjNTU9riP+b1vD6Ee/anr6UGeV9u4XDVKJY/O4UgJ1M0Cvfzv/c3cOBwJDHnvBgzKowgd3Mqt0eSKoJ8CzUU5cZztNCOoFAHrE3NsDCo5MBHn7H+513sO3wIVa9RhPp44+XpjrVKFKs/Xc+OXfs5fMgAv3Eh+Ps5oHNmC4dEIK5XDHc9F/D048uYMUCDhA9e4f2NP7MvMpqos8rrO+qR+1MUp3JyiDu2B32PwfQ316cy/h/85+3NbN6+iz2HY8nMK6dV0QP2Mr2o1GSOHjqL82Bv+lmYYmFYytY3RP79BuDa3waThhi+qQji3uUTcK76hFfe28reY3Ekpidzqs2LkaEmlK3bzN5KUY6OZu2WyQ++yMNLFjF72lSmTbnWYyLBFpGcSKun4WrTi1MWcV+YA3rFR1i9JZLKnnvPDsYtYuVkT6z1WsnctYfW4LksGD+cQA8bDLS0aS7aw6aoM6JjvfL801VprKQgM4UCVW/GTO4imi6Ipf28teor9sScofGybWl6wR+6LBO599GJ+NjoolGRwJpXvyYmv4arTBwJqijOy6WgvFUIP+HT08bhrppLYWVzp5n6m8RvKv6gJGQys336ol8Tz7qdWVT3auqvjdrSXNJTyrFQCMCIzgKwk/D7+k0+3HyI5PKmi3dRrkDAogdZPKg/JlrnyNn7Ih/uyKSy/uoN0FBWQG5eMXW/ofBTIFfPSCS/BTqODL/3IR5/8lmeaz8eYfmsMYT1ayBp2ys88vR/WL0vntIm5fqttBOcSswgJzOeqF/yycspJv90AnvWJXOmVg2zwKGM1FGugylK4cTRQ2zPKRUB5ixqFBC5Zi/R77/NO++8yxuvvsWXlZVCzp0gNiGF7OxkThzaTV5uLsW5qcSuO0J6SRs6DuEMH66DbkeipJw4wsEN6ZTWtHBWTYPqE5+wOfIQx5OSSU48wefphVS3qmNm10bcx1s5KoRZcmoqCbHKp0+1++AWpI6mGCgrmDxnGmN9+qCZH8nHu49zIiOfghzF9feTXtiKjnMEo8N0qc05wZHDB8itbGgPyg1lUURGdjwhfeRkluhoOzqA3qZXkh7FoYMiT7WKtZVa1GevZUvMBl599y1Wvfcqr7y1h0pjCyEKNTE0ccHsXD2N4qgsziRhSyzpZ0TdCbF5tTB/MjWFJCEYU06nXsdxiviYZpquouPa0ddATVWFqrJfONt29U0jLqyRO9uESdACpru1svutbcRm1QrhoYvTsKkM1tPnRjxQ2VR2mkPfvsbbm/LpN+5B/n53OGahizrEknYUa1etY//1Cj/BH7osQwLob6ndvoa1oSCRQ2VN9EI7XMrsu7nvvvt55tHlmBj/iidw/yCUldXQJESTtp4DqqrX8tBJPXlJO/nov+9xiGDufOoxYStOTHigQ/jlf/8mq7f2XvgpCHW1xlBLHRVKyfg2l+bq32CzvvO4DmX8GF/09TSVH1wduc+fRHILmffmdp6Z4ImpdilHHv03nxWVcX5bq7OtTbQ0NVApRqkZ+VW0XLJAyZh+bvZY6LVRdroUbQdX3LxdsTYdxLy7I3A0LmL74Hn8LStPhCIlT3/BwcWD6F+9l9kznyLqTDW6pgZoCiFTUdVA21lNrJyc6WOsTl1eMk0Wnrh7BtDPyJ1xSybhbwvx74xjxfud9956ki8P3El4/2r2zp7FE9FnKDkf8y67XgkdX9nwj282siDEjpKfhzD32SzySofyn+9eYVaAFWdTNvPZjlSq6s4nZEX4/NkM7K/N6c9HcNdr2RRUiit/uZ+7RGdftvN8GsrT27nW9Obx5o9PMdFTh/Q1k1jyejoFLUaY6anRUlZJrcdjfPHhXQyyaCY7OYXc/EKKCgtIiT7OyfJyKmJOkdUo2kt5hW7RMxbpaSrfznCttNFYKvLR1nb120/Kemf/yG7qpSvOPPn5Z9wVYYeBagVpv3zLq59+z5FjlQz674e8ONkLc/UK9vxnCo99Ldr2Bm1ApmXmRPidT/DohD7UNRtiVrWXz97+nO3RmVQIsXR9ndAfvCwPf8K+e4bgKAYZBb/MYcbj0Zy54Ew9YYqzny1tKWnkCvtrHfsEq+8fT7+Cr1ny3Ffkl9Qqz7tervzWFAbO4D63CtZ9f4SK6u7uuVaTtXMLe7NrqO+VBj4fTyBulYg173W/z98FFrzJz0+Nxy7zY8ateI+cK57cHbr08ZjFQ39bxADNOjQtFVuzvMEHGw+RUCzqs9fieygvb3mVab6W6DbH8/GoZbyeU4gIU1fGzgMf/UpSM4ppus4BT7dMfZ73hubwwn/XU1DSuw1Q5cyfRPKb0EBp9DGOdtrn7+CRSCKPx5GSU9FF+CmoJKdOH/cRi3jy1dd56cW/smTmeIZ4mqB7ta1PWpooOHdWCLEmqstLKa2oF8JP0UU1UVSlSZ+gKax84X1e/dfz3D9vGqPCxIhWR63job4ek26hsfAc57rrqy5c7zwFNLa0cunOGn7YmOigLiJQqwjIzk4ueHp4KA9T6jNPEH34MLEZjV1eT9YT15teG031TZxTZK6ukrJiIcYVgiv9Gz7cHMnpBn0c/AYxdMxEps5awD1/fYiVU0Ow0dW8evBsT6+Y4qLrOZT5UCZ1JcxUNVC2Vi8YirOtGACoq1AWv5aXPviSnZEplDXns+/bGNIqG2nVMCV43Czs9A2u/DrCa0Axa5YsOrwWQ2dCPWzRqc0mJbWA6usWfgr+4GXRFu2motLecs1NhZzr1pm64DqV5Y/ezWQTw45Z/qNf8cpzf+WJ1zZTVnkjbsNqYdXPBXf3877T5TDURVNDB2fnzv7V+XCmr6H6dQ54eoFixv36DUagmAFMI6daA1vvAJxM2ihKTSBLMePXa+GnwBwtNXVUFeVsa6ZRtHxvfj5q4UM8sjAUE/3ez9D1hoG+brham6B+DRUvxZ9E8kdAsa7o749z36KJhFgXsnv1Kl797/94ZVUy+VXXuZhdsb/YU0/x8LI5jHRTI3XrB7zxf//mpTeiyCm/1qcurx3FpryKnq+26Cs+/+I93n3/4vH6S//ihRf+xfvby6nusU9TvDN5OiONOm7r/fr0OtGYw9HPX+LxFc/x3zVb2Xsig+JGLSzsfRk+ZSnLFjlgaHAVOSFG+QGhoYRFhF3HITombS3UlUldidpzCpHYyx5xnCd2ZlpoqNSQe+hHTiSfoUn5pHT1yU85lFJKfbMK+j7jmeGjj8EN6qPMAoRwnhOKfvqXPPb+borsp7BsyTCcjLSvX5T90cuSX02DUBzXomUGTh5OmK0q2arnaFbY/4SxDAsLYdTQcHR0tHEeNp0ly1aw8oG7mGrkzvDxC3jwyWf46z0LGOGoj/ZVM1jOoW2fs3r1pf5z4UgrpKqmkLVrP+/++/fXsv10LTftrZQ6Gu0DvN5LnK70YdS9i5noUsPu117gq1PaRNz1ANN8TNC7pq0LD1JeLQbR11JO8+mMG+KJcV0WKkIwnscsYBzL/vJP/vOff/HcvdMJdhQCW9FOil0b7lzOfSse5OFFwzE26NS+K5Yzb4Qh+nbODJz1GA+MdMfa0o07Ft7FyiVTCDQQaXQk3yNS/Ekkv3tMmbNoITMH+2Fbf5x3Xv2Yr37azaFjUcSeqqTuwgpxZ4bOmMuEQAN0e9HRDVNshTI6EFedHL757ypWr9/J3iORxJwsoabp4izGwAkLmDHcCP0buqv+KQrLxGhbBE9dbTsyMrNJTE665ChqVUVLRPqeg1QQ4+fMYJihQvzdiPQ6EbGMv9w3DvO0A3z//iv867kneHjlcv77XSzlKmaEjp6CzlV23568aCVPPn5+Tee1Hw/dYYJxLzb4bmoTAkI0lqHJUFTVrrz72bCI/lgqZi2bCknfWU5zXSeJ35jF+l0J5NUL4a/ryPCpEegZ/PpGV4ilBx+7kzD28PrbX7D905f557pMzEffw6PLB2FieH0bWf7hy/JzHNmlje0PePSm7RQPNM0fZk3Bjq85UVNFE5bY+Q5hxqLFLJoyCAM9LYxsnAkcP5c7Fi9gyT8eY/ZAK1EX2vhNWcJjjy3C2eRqM6BNFOWkk9zFdy4cQvA0t9STfjqt+++T08mtaen1urlrxkxfCCNVWptqhM1f6/BUIfye5KGZtqSvVdzq3cDbL77O3rYgFj32GNNcTa6yD2BnivjhdD41La1CkBpiaaGG+hV/ayri7Sz8Wo7x7Y/ZVNZ2qEaPuY/z4iOz8FLPYFdUMrVOU/jLM48zw03kxdQG5+CxzL3zDuaO9RXxV+Ni+y5dxAQfEeftPfD3FsLPWBcNLSOcnV3xdOmHuab6VeOcFH8Sye+eIIK8+2Gio0bZ6Y/ZdyqF0mblbN8QEwxFxOpwZA9GzJjHpGBDRD9wVfz8nLDU16ApP5YtJ1PJrmqhfXcKc0sM9ZW3NARB42czY6QYZd5Q8RfNptjTlDe0Yug4nBEaeh23sS4Qwrz7nuSe8aYY9nhdA0zNzTFSU5T/RqTXCVsvBo2dxLRhKrRWZJKacJLoyIN888ZJMiuaUNM2QOVK76MSnNy6hrdee5mXXr6e4w2+2FcpRLgysSuhnEHS0XdEVfVKqj+Awc626GmKfBensrGwia57zOZt30JcVo0QlFr0CZvEOB39X/V6wQtiSW0fb7y9tuNJ2OJ04ja9yQsK0TT2Af6meHDimgXgn6AsRVvYHp9NrRhoGblNZZ63AYY9NZ/nZB586A7cK3/mvW2nKGh/fV8kP63ZS26TLoaGuu0P/aTt3cB7mdWoG9lja5fEd9u3svHbTzhWokb/4HDCdXRuyMMvvxUBJvpCoKlSVRzJ2dZruc19XvjZk3Xhqd5qchP38cl/OwTg4icVD4H0XgDGbzlGqhDvLap2DFwwEh2jnsS7KeF3PMb943WJX/c1B9KqO97A075B9Gw8zu5h49YfOPDzNr75KI5m+7EsWzEN4+JoNryXQZW6oWhfbeHbyvY9fIYWfcUr4kTcy4lmx9oTZJc101idzpdfruHdNVuIUYj0jov3iBR/EslNpw8egSGERoRha6zfvs5HDBcxiggkcHAYwd62aLXP8/dEPKVVte3r9IytInBWV07pmwewcJY/ffUU68900PW0wNLODCNDV/yCBzLSzBRdhYLTMiQ8KIjwLrcSz1TU0yLUnqaZHf5WGmi1Z0EEyUUhuBlro6Gijq6BB9bWtphoWeDmF8TAURaY6qqicj7/Yd70cfYjKDT0susNFOVy8g8iZNBIrERgVCxH0dUdRKDIm7ddE0lrV7EpJp8GwwEsfnQ2w10NlLelFNsv3M1UTzUy48/SpFxXnl5aQ3PbWaz6TMdS3QDLSX2wbCoirq2FBqo5+Vnv0jN3DBB5shXlUKyUE2U0G0DgwC7tINpIXduWsLmLGeRgdOF2mZqDljinjcLTB2ltuXLnk5MQw+FDBy6+u/majoNEpzb27u0HP2dRXN2MqqEtLqrql9/uMXfGJ2QgYaPG493fEE3REDXF+Zj6++J/ie2Z4mzbSHltM63CLjTMg5mxbBJDR4aK9tLquBV1LXjOZuWjiy8VS+cXuVdmKkVTDn2EaGp/crY3ounPVBYK2P32l+xOLKNZ34v5D/yFRSOcMbjk3qwpAVNW8sLTdzNSce1V64nMrBN+oPiuhNyULWSXKt4X3n4y1QWZJJQLwXu2hfKUnZxKzSC/IIuS6kbOaupiKuz6t+/0L8bDsInCD/Uu9cOwiOAe28jf3ET4YhWFJ4pp7fX2PQr/f5yHpncWfk3K2ckmCpI6BOB+Mche3P4UcO8EYFPcV7y3OZqcajWsxy7jH/dPxM9Y99KlGnbhLHz6Bf4614Uz697kk50JFIsBquLSAcNHMNBej7rMY5zOK6OlrpKClHWcLhc/GzKBmS01lCSUiwHgxaUB7e0rzq0/v1ygqoCstHLqhEGcba4m/XQqiak5lCrWWLf/omfkPn8SyU1nJo/9dzlzJ40m0KWfEB2KWTVNjJw9CAgfwsB+DfxyNJXaHl/SWUtuuRF93Zxx6u+Jt7cPvqHDmTprIiEaSRwo1MPeyhwbLzt064+yJs2BGbNnMsnfGVsDLdS0jXHx8CdisAf6Ow5wsqYOhZ4qzgALV0ccHB3xUqQ5IJwJ06cwxLmGyJPNQkiaY9nXC7NzuWxZVY334qXMnRzQvsheS00bY0X+A22pMwlj6dzJjPVzxKbT9YLs6jAadBfzJ43Fz0mx75oa2sbOePgHYlf7CwePpZMQV8xZCw8GhAcTGDKIYaMmMWXaZMYP0CVu7dt8deA0JcrgV1xtiXeAOw72nnj4hDJquBsqJz7j4z2JFImA2lpVSEbS1dMbuvJfLJ8zGM/+QqxqqKNn6Yp3kGiHvp3awXsci8L6oKnlgE9QMEEhEQwbO53500OwrjrEu2+tJzar8ubvq9Yb6rQJmTQC976qlH61jVgxUOg8YTjnr//j/oXTGDciANc+xuioqaKqa4G7XyhDXdT5+VAiNfXiFxF38/xf5jPUy77DRtU0MXFwwTswDBf1nRxKqEFxWm8ZtfxRJuof590Pvmbv8W62QGmspCgzheQ2Z8YNcaJxdxRZtYo9JXvmz1QWBY3lZ0hLqEbfUfiFry9evsGEhYYxKGIYI0eOZ+a8uUwOt+dswmY++XIzB+LyL6xr7KCBsGl34W9QzNpNezr23lPsxednSc2xNWyNqmzfN699f1H7Vk6t+6Hbtwr1mhuyz9/FeDhyqAcOVop4ooau0g+HDgmlX90vHE2t7fLe4qHMWT4FH4M8dry1mcP5ws7Pq6IrETiPlQt8qfj+XT7ecrib7VwU+wCeIT25ANOQ0ULApXMwoYg6EXeuSGs1RRlJ5LRZ4Orpg7+XNwMGhhIRFsHQ4SMZNXkGi2aOJcgwn58/+Yxvdx0jrfLim5jCZy5llLsxFVGfsy3q/P6GtYROuxN/Zz2qv9jEgUprwucPxK4lnq+3RVPV3pgiNg3uT2v8On5o3xfRm/GLInBWyeCrrZHinN7sfC3Gt3KrF4nkZuOA78A+mOgo9oS6nLbqHKIScmi80mOt2lY4u/XHKzAYV3MtWlubaShIICHxNBlNZviLDsNBNZ3E+DRiinVxtVMsYO46fG2gJPIkqQ2Nyk7JmH4ejtgFBAvhY4CKGC02lcdzKjGX9GItbEPCGGhaTeqpBOJFcDL17ouZvsaF28HttFaRU66GjakuGoqV2J1QlKtMzQYzHcU+dMoP22mlOjuahFzFk7e6WDm50t9GCMmQPhgKgdhWlU1cfAppcQmc6fzaOm0b3Dz6MyA0lD6GqjTkxBIVHcOJzOqOV9W1c/X0+vkMpI+xTpc8dWkH70ksClInu30Y7oqPhSifxllq4pNJKzpNXFIu1Vd6/+otxZBxL6/lf1P7kv7aZO5fm0tRpx0/HH27L287dQVExmXQoJhitHInyNkC/cvsRnFaJHEZDb2biVTSRwwALNsKScws6SJYumDcH28HfaqTUslvFO2t/Lg7/kxluchFP5wQLsSpnTXmmg2U5mVzOjmB/VEnyUxPJqOwpn2mvivtWyD1OSUEwN/IyitTbv3jS9mayRe2TmnfYmpIA19PXck7OUUXtpe6ZhRpDy1n0bIXOq51XVw5Hl4aH5QfKQh8lm/eWYhn2dfctfwtThZU9a5+zZ3w7qtDbUbqpfHkMrSwcXXHkjySM8tFO/duZKdl6YS7gxdBwwYT5tkfWxsTxRQduZmnSIqLJiZODHKT8qg8v1RHyeB/beTN2S7krpnEinfOb3HjzD/Xfck83zLWjVNsHzOMf/74FEMbv2bKfcqtbe5axa6/DKL2y2nc296+HdtWjdfex5iFL9B/ylICCz7hk51lVFxhF3op/iSSPxBahqYYaougqXKOltpyqurb2rc+UHyue66K6ro2xW4I10an/ejaGsraFyO3pyE+N9VopqpasSfgzQ4Tuhib67XfxjvXXEt5+z6E3V9Tz9gMXS1VWjuV/3J6n163aBtirNVCTU0jbTqK/f8U9XMNe+/dYgwH/pOP356Ne+6HLF75MXFFNRdeoSf5gyD8rY+lJUaK1yWqn6WpvobK8lIKymo63mDTA7dU/P1VpD1ciL97fo34uz4GPrWWN+90Je/dFaxcc5Kiros8f1O0MBRtZ2lsiL6BDqqtDdRVlVJaWkqFiMndhR7DgQ+z6uWluGS+yr2Pb+BUST1tng+w5oPluOWv4aGHPia2aCKvdhF/w4RofHW2J0Vfj2PZG4o9S2fy5g9/Y6LBYUbN/xsjnn2D8ONP8cy6vEsGgV2Rt30lkj8QbU0N1NfVUVdX3/7O3fMxRfF5Y7P49zXomwu0NNLQnmYdDU2d0lB83thyfWleMy001te356H+KtdsaVTUwaXlv5zep9ctrU3tM4Dtv7tQPw00iQ9uSXVcI01lWRj6DyXM1xGNUz8SnVvbsahc8sdB2FlNZRklRQXkFxRSXFohBnNNQjj0ZHHTeezfDzA5wgdzU0vc7Y3o7zmRxSMH4m1liImFBw4W5nhPWsKEMH/szEyxdHfEikhOZiv8R5nMtZB/moTIY2RkFVxRkN5wzMdx78qZ+LfF8M6q74kvqLvCDN5vQRtNddWUl5VQWJBPQVEJZZUinipisvKMrjSV5ZDcbIp/6EjC/f0JGzycyVOG41hzmNVvreVARilNbaVYBw0jyMMeK11x7rCpDBNt2M/ODFNrTxxMz3I0LhbcQwlx74u9hRvB9m3sWfsLx/Prr/iqQDnzJ5FIJH8CLFwf4bX3F+OS8zErHv+cUyVy9u/PTX+8gxQPTCiWYqhwtqmSijpNDA200VC8nuPsWZqqiqnXMsVAW7E/njinrYnq3FgSzzSifCviH4KB963m5aUOpL31LM9vPE5eveJp5z8Bxv3wcrbD0d2TfqYqVCekk1GYwam0vAvLSiyc/XEOHIC3oQrNVamk1fbF19OM5vgk0grTiUo6g7adJ+4hwfgbnqU04TiHohMpamq54h0KKf4kEonkT4ENHoue5KUV3hRs+R/PfnCA0urrXtovkfwuMBu2gpefWYxd0jv8/eXv22e0Wv5kqqVjOY8KTYpXS3a3rES5NIfGMipb9TDSU6elvIq6zucqztFRoaGiioa2q28eLm/7SiQSyZ+CWkpzUijEjRHjB+HYsI8Tp+uu7/aeRPJ7wHU2f31kLvY5X/DGRz8QlV1D8y2823yr6FjOc4VlJcqlJ+3LclqaaKhvoLnruYpz6huFMO6dMpYzfxKJRPInQsvMCXdnc1SKT5LU9YlJieSPhJEDvm6WqJQmk5TT+al+ya9Fij+JRCKRSCSS24judkuSSCQSiUQikfxJkeJPIpFIJBKJ5DZCij+JRCKRSCSS2wgp/iQSiUQikUhuI6T4k0gkEolEIrmNkOJPIpFIJBKJ5DZCij+JRCKRSCSS2wgp/iQSiUQikUhuI6T4k0gkEolEIrmNkOJPIpFIJBKJ5DZCij+JRCKRSCSS2wgp/iQSiUQikUhuI6T4k0gkEolEIrmNkOJPIpFIJBKJ5DZCij+JRCKRSCSS2wgp/iQSiUQikUhuI6T4k0gkEolEIrmNkOJPIpFIJBKJ5DZCij+JRCKRSCSS2wgp/iQSiUQikUhuI6T4k0gkEolEIrmNkOJPIpFIJBKJ5DZCij+JRCKRSCSS2wgp/iQSiUQikUhuI6T4k0gkEolEIrmNkOJPIpFIJBKJ5DZCij+JRCKRSCSS2wgp/iQSiUQikUhuI6T4k0gkEolEIrmNkOJPIpFIJBKJ5DZCij+JRCKRSCSS2wgp/iQSiUQikUhuI6T4k0gkEolEIrmNkOJPIpFIJBKJ5DZCij+JRCKRSCSS2wiVPnZ9zyn/WyKRSCQSiQIbP4aGhzLIz4U+xrpoqKqID9uozI1lz5bvOZhWhnrgAu4drMs36zaTmVvS8TuJ5A+AmqGh0fPK/75mjEPnsGhsf1TyiyivaxJuIZFIJBLJHxgTL0bOW8J9SxYye1wEfg4maDVXkFVQSEmbEY5+IQwN7o+63gCmz5/NqP4l7NoXS1F5nTIBya/GJpCZ88bhWlRIUU0tjcqPJTeOXyH+BrLwoZUsnh6CZfUhTmSWU9Ok/Opq2Djj5e5EH71qquuaablpqtGY/h7uOPc3Q7WqloaWVs4qv+kOY3s33N3sMVerpqa+hdYrnSy5OQinHzt+HKMHhxDoakltQTHVDU1XbLebxu/UThXnB42by7RRLmjn5lNa10iL8hvJVfg92dctwNrZC1eXPuhVV1PX3HJrBuhCPA0dO4YxQyMI9u2HVl4hZfXXZqO/Sb4VOI9h2f33sXTmGIKt6zm1/RM+/Wojm3/aw77DkcTEHOdEbA124aMZMSScEA8L6k59yPd7kimt/q2syBivIWMZO2oYEUF+9NM5Q+E5D4bOmMpoVx3O5JdS29jy29XpdTBw3iOsXDSNQbb1HEzMoLRWyr8bzXWLP//ZD3DvnHDsmxP54vvd9B37AHffdSdzZkxh6tQejrG+6CWmkRs+j0eXzmeYTRQxCaVU1ioTveGEMP/Re1k81Qu1YydJL6+mQfGxCE6jFt7DA8sXMdI5keSMCqrrhcEteJT77piCl0oUJ9PLqZL2dksxDl3AA/cv544pIwgfGESglznVe6NILa3saLdbzcTlPP1b2mmPTGD5k0uYOSEIq+r9xGSUUdXbgddtzO/Ovm4B4+9+imXzh2ETdZzE0gpumgmfx3kCKx66lyWzxjI0VNRxoD0auw9zsricGuUpveGW51uBIu8P3sOd4wOwrTrGJ299wJebd3EsIYvcIuFj1TXUVpZRlJdFmok/Y8Ld6GtQyfG31rIzvpCqVmU6txQnJt79EPcuncm4IaEEBw7AXms3h+ymsHzmTCYGWVGzP4aM0iqG/xZ1ep2c1XIlOHwgfgP6o1NwgITMMmqblV9KbgjX98CHw0QmzwzD2ayCmG/WEXmiGC1zJ9w9ffD26jiCBw1n5CgRZAMC8FN+5u3uhKWOFmpW/XD28MbdQQfxz5uIKX0c3PHydKaPrhYa4hNjr7Hc+8QTPLp8HlMnjGPwACMMdDvONunjiIenFy59dNBSnCzpgYEs/MtLvLP6JR507IuF8tNfhzEjxk1m2nB/LGpj+fHbdaz/5TiFtQ03eVbmCmX5De30ytTQ0KaGuso5GmrP0XarhvCTVvDsG+/x7t/n09/WSPnhH4Xfyr5+W6z6OuHp5Y6DrjY31YSVDBw7numjQ3FVz2Hvd1+ybsdhkmrq6b7fFmLrmdd5/52/scDBVrTQRW51vjERcWDJXSwc6Ytt7XE+XrWar7cfIrmwnqbL/KuSzG3J5IrvmqsKOJHVRM1vNVEQMobxM0YT5qxOzv6NfLH+Rw4lVVNfKoYzKuqotDZQfa4NhS7ttk4n3aP06QU42HZugd+WgthNrNkVQz52TJgxi2BLC3SU30luDNcl/vxHj2aQiw2tp7ez9mA8hdVN7P7iTf725GM8+ljH8ePJLGpbK0h88xX+pfzsUeHo3+cWUa1M51bjNWEFTz75MEunDsROVw3Vc3/msH8zscEjcAgjRg8mwNjgBjmlL14OfTBRyyfyo69Zt+ZzPv10A3uLy2/yCPVmlOVmE8X6Vc/x6CPP8d7uPErrlR/fbBx9GDhsJCND3THSuyVd8g3kt7Kv2wtvZxss9RtI/+YLvv3iC9Z8sJYfCkuoUn5/KQ74hAxl1MiBeBjq3RqR1y3GjJy/iIVjfOmnW0HM2s/5cW8shXVXWA5QWExVTTNVOXEcb6z5zfo0fF2wtdSnIW0dn337BV+sWc2XPxRRsnM9bz33Fx5+7n12nymlxxDh6EvIeZ/W/x35dGMhx7/ZRGRiJepuY5kQbo65gfI7yQ3hOm77DmT+inkMcTtH8qfvse7waUobz1JTXkT+mVxyczsO9+Ez8HPUJvMdMYI6dpxTis/ziqhsbuXswAnMD3BCr3ADW/aeo0/AGEYPiyDU3wmzs4UUVzbQfNloywrnQSMYN3wwYcFBeNmpUVdUIUZcV1of5c6ImRF4WjeQuPEnkvuOZPJYd9qiP+ftM9o421iinr9e5KGQEhGd3EfMZLCHFQ2JG/kpSvEQizKZLhjb+xMxahTDBg0kONCLPmp1FFXU0NjtIkFj+gdEiAA3lPCBwXj306atsIyqxsvXXFi7hDNizAgGh4bg52yORmMxFbXNl689NLHHf/AoRg8JJzTIDydzdRpKKqht6lwXor583HDqb4pqZZd1ZOL3bp4uOFnrUFVdR3OLwSVrzrRsAxkxbiRDwkLw7lLPHesivRk0OhAnK1VKE9Ip1tXH0FhFBMN6WhSZtXEmfPhYRoWHEaJoU/UGiitqae5hEaW1i2ItShCDxwbjbFxD4tEkilQ0UGvNo6i68cLIu3P9BHnaoyVspayq8dK1eJ3X6Rl6inyMYkR4IA46eRSW1SOq/QJXLUvguN/ETtO0+xGgtC9/F3PaCkRH09DcyV4a0TYyQlvE6saCMqqbLtrSJXXk23M+L7Fhrx7q8gJKWwoczkRPOwzrM0k8U4uusSE6VZ3XD11q6wobvjzvndc3qmEZOJSxw4cwyNO6ff2djp0zzsp1SRo2XoS15zEQF7NWCkoqaVAURNhv6MjxjIpQ2lePbdHBjbSvjrQ68qfvPqj97kZEoAPaV1vXZuMkbHFch08EKWJGvYgZ1d3EDCuchP2MV9qPb3sdCvHU0P0DddbOXWJGUwkVNU0XYkbIhHkMcNajcMMW9mLbPnAfecGuek73MpT5H6nMv71Om/AnkX9l5bT7kqsTocMnihinQd6BGDJaFLPTdRRUXh4bO9afBTN8gid9DevJTMmlWs8IQ52q9vW1AWOvI99d8thzHXchZD6P3DON0P4mtGb+yP+t/p7jORW0XHEfjADGzQ3GIH8Nm/YmU3yr1/udj+HBI5nk1ReNvP1EZzejqqFKXUEltZVq6JnqoKnSQEFpNU2inS6xhQJVzIVPOyt82kP4dEMmSbk13fu0f3gXn+5a/wqfFmn1N0e1Wh3LAZ19uqR9Ta2hvZ+IN6MZFqaMN+eKrhBvOmirFrHDMYhwkc++mtn8dCxD9NNyfcuN4tq3evF5mA9eXcIo02QeX/E0P8Zm0tCN3T/4zvcsG2PJ8bnLef54IjnKz9t5aBVblo7BIukTDpf1x97JnT4mOqjTRHVBEkc2vcu7WxPIr+xYRKG4VTtv1nSGhrhhLwxa8ch9a0MJBekJ7P7mbdYdOtPD7Mcknv/kCWb4lLF+yV9ZU6aBlaMZ54pTSJr6AusWjcLixFyW/SOWxGyY/PdPeHK6N2WblvKX90+RftmT+8aEzr6TOROH4ONojaGWOqrCBepK80mJ3cm3727gSH7ZhVFWR76nMDjAhX6WBmirqdLaWEZxZhIHN3zKZ4qgUSvKaBPO3PmTGDvQF8c+pugKBz7XXE1pQTox2z/l/c0nyK/ouHHiPEJcf/pIQtztsTLQFsH1LE01pRSlx7FzwzusP5wvOiHFmbN58vVphPUr4cenXmV9Wi7l7SkIhtzLv5eOwO9cHH994SOSM125799LGOlaRXx8K3bOrjg7mKOnqUabqOfc2F/4+NUvOXCmhOD7/sWSkWH4evbDTB+qMnIoamikOnUzT72ynnMuU5gzazThHv0x19EQ9SPatDRPdLhbWf3RDyQVVl3WQc4R+ZsWGig6jz6Y6bRQnJVHeWMz+Uf/wgsfJJPZFMisO2YwfpA/TnYd9aPS1kBpSRZph7fx0ZqfSSqq7kh37hO8Ni0Uk4Joqk28cXWwx1RHlby9y3nizQTS89sv2c7Qq5QlbfqLt8hOp/Gvr55kpl8ZO9enoWXfD0enDvtC2EFRhrjW1tV88rMQLdUd1+qoMxOSn3qRD5MzKcSZsUvnMXNUKK79zDrq6JzIZ1EGiaKOVl+oI2OCZtzJ/MlD8FVeQ1VRl0XpxO9ax1vfHObMZZlU2lKoN55WRmg1FZGRXyGEWD5HH1Vev92GZzIxwgsHa8N2Wz+rzHvUT6tZ/WMShe31NERpa3WkpavT191ZnK+PZn0Ca+5/kdZpDzJUlCvrYDFmns44OtuIPKrSUl1E6tENfBipySAhjIb5O2Opp4maoi3yYvnxo1f4bF8uJd3U7420r/P1XhhdLdpbdL79xPlq+exa/iRvn0qnk3kpMcZr7FxmTRvCQOGzZgqfUGmjXsSM9Pg9fL3qGw6fn5lxGcuyedMZFXrRfjrqMLm9/T/9OZFCZfu3x4x5Exkb6ndpzCgUMeOHNcqY0cQDq75n+VhLkj4+QpmwK2cPW0x0lHaVdIT1773P1lP5VPaoWoW9TF/M9ImDGOBkJ3ypI/8N5cVCsB3lh0/XsCOxEP/lLwpf8sPdxRUrYzVqMi/60tOvbiA150L0aWf2k68yPSwMHzHYNtJqoijzYpu8+GEyE569lnxfQx1fhjFjn32XZ+eH4mBUy8n3HuXRDw+QVnq1BWb98A62R68+joTTVdzy5xFEDP+XiOH+bm64Cp9Uq8kku1gMbqvT2Pz0a6xPDWH5a9MZJPrpp19YTVJG4QVbiJ0n+uQYT+Yqvg+76NOZwqfrFT792L/4MCmjw6fnzWDiYO8uPp1M1I7VfLQ9UQj78z59l/DpeqVPO4nzDdp9+rMH3ibFfQjjpgy9JN6UiXgT12O8uYiW/xO8/9pCBulG8+KyF/g+IVvO1N8grn3mb9wclgzzxLRwN6u3iIbrUBqXMXCiGGU46VHQPsroMu2vnPmzt3LE3lKN7Oj97DpyihIte7x9/fB2MaF63wlOixFLo8lIlj26gkVTBmBVn87xffs4eCqHJhN3/AN98XE2oSYpgcySWhovE6FVFGTHcnDvXo6mZJJXVtA+K1lQXk9L0PhOszodM39VBVnEHtrH3qMpZBRf/nSn3ZilPLRiISPcdClOPMjubXs5UQZ9PIIY4OtFP+10jiadoaJOOMSFfIugolZIwtFjRJ/KoFyzH16B/mIEZUx14klxHSem3v8gy+eOwtukltTYo0TFJVDYYo6r7wD8PO1QOxNDyplKNAMX8ND9S5ke4YRuQSIHo2KISyqizcqFgAAfvJ1NqU0+XxcjWLByLIM8NMjevIuYonIuTGT6T+HuaUMJMq9j0/aDFJQ4Mm35NIYGe+Dq2E+M/OLZ98Nujuc1Y+YWgK+PGEVrpnJElE1HjMS8bM0xtTBDX/sslfnFVNY2CJGRwJ5jdky7dzFzhzvSnLibbZ//SEyhCrZ+IQT5u2JSuZ+TpxUzVcp8KHETI0VHc2MMzU3RVxedbkEZNXWNlGbv4tBJUyIWPsA9C8cxwKpJ1M8RUT+nyKzQxdFH1I+Ph8hbHsdT8qiqFz3ByPncPyaMQFdXnCy1KE8/QVxOPbXFuzkcW37JQxu2PqFXKEsKFZ4jbpGdKmf++lph4+iIjXYpCQd38EtsLk3GrvgN8MXbvQ/q+bHCDqpQFHPE/JWMDbOnYfOPHBD+5TDrQR5cNotgm0bSTuzjp+3HyKo1wDEgqL2OzOv2Eauoe5fZPPjAYib56VMYtYtNa/dzqkYfj+CBBPr0QTUpkuT8SuqVGqMDNwIHO2BlaY61kS7q9cUUlVRTX19Gzq7DnCh3YNJDChsejKtWMYkHd7MvJoUSVdFBhgR02LAQaB15D7hgay4ufTFqPkNSZKoQChXkHjiGzdiFDA4bgJuLPeYt2RzcJWy3UAN7b3/8vd3w8AohzFWXirjd7D2WSZ2xC17eXnjaqpN2NIncirr29U2duZH21VHvIn9uTtholpMWF0dWXS0luw8TW155WcdkPGopj927kCkDrGk4fZw9ew8Sl9uEsas/QX4+uJnWkpSQSXGNOzPuf4Dls4KxbVTYzw62RWVRY+BIQJAfPm5m1B042WFr+DFX1PcyRcwQv08TMSNaETOazXFR5Nmzj6jvaFJyK/EerZjt6YeVUz+s1bM5dmAXRxJK0eznhZ+fN24mNew9cZrS6u7Vi9Oku3nwnoVMEPlvSo/hcEwsp7Iq0LX3IVDk36OvOnnHUzlr54OLjSkGZkLM6Z6j6oIvJYp2SqaiS/pugYo2scDc2ghd1QZKCkqpFgqqLOcXDoqg6ja09/k2HrXkkjre22MdN3Yz+z6Cu1ZMJtjJBK3qVL5971sOi1F/dxMal1JFcX4OeSVNNHc1uFuBrReh7kKMG5piJXzyXLXow8rraBB/E/YeI7kiiOn3jWGQfROb22N8VZeZPxOcBju2+7SNwqfFILVQ6dO5vxwiVgx2Jz30gLAxhU+XkHiow6eLFT4dLPov4dPt8ShX4dP+TF02jWFBwqddFT6dR9IxpU9X2DNqwVRGKuJN9C6++3I/8SLeuAeHiHhjh2qyyGueEJ091GFbpQkhowbi7mxI46YdIhaUXtODQ5KeuWbxpxhhzQhwRCX7fTbtSqaksnsv6Y3466dbycFX3+LDb7exO+o4J46nY+YehLsYOeic+ZFDp4vpP/UB7hUdo3nxFl558xPW/7CPSBGAjkcno9Z/gBAmflidPcKB+HzK67rmpY6ywlyycvIp6/po+yW3njvEX11ZETnZwqHLut/W42xrA2f1VCjb/S1fb/yBnYdiiI07KYSVGZ4DPPHuq0r8L8fJLq0haOHD3DMjHOuy3fzfGx/ytRBgh6OiiI6KpNBECBPjZnJiDpHrP5uVi0bhpZbI6lff4fONP7L/aLQ4L5pEFVtc7bQoE5159Gl7Jt5zP3OG2lN/9CNee/9Lvvv5EMeixbnHEmm29cXfL4D+eoXsO5lJWY0/E+cPwNm8hvgNPxHVWfy5D2dWhCd9OcM3W/aJwGDTIT7sTag9vpo3PljL5p1HOR4vynbOngBvVzzNG9my+wSpiUkkHj9H3yAxGrRqJPmlN/hg42Z+PBZPrt1Yls4Nw0MtjZdf/4DvdhzgRNIpYivrqBJOfvCI+H1hw2V1W5qfzcmoNuwUaRqXCZtYxaebtrL7eDb1AxbxyJ0T8NPL4vtX3+bj9dvYI+onRtTP0WI9nH19CfCyoC0mkpQCIVqClbalU8a+j97k/bXf89P+I0SfzCW/pIXWTteuLsrtuSyFlbQGddz2vfl2qhR/9hao5n7Pq29/zPqtezgac5KTMceotRAdno8v7kaV7DyWJmy18TL/Km9RRVe7hlPfruObrT+xL1LkMz6WKNX+BPt44mlcyQ8HUykeOIeV4/yxrTjE/729hq27jxCfFEdGbTVlcXs4FJVMVnkzrZfcDygjL/skUaYeDHLpg0HxAV5++1M2iTzGCN9qGb6IR+8ajRdxrH79Pb74focYmIiyH4+mxNyTAT7+uOqXsisqXeTdQVlWc86lbeSVtz/h222/iOvGknCmEOcxs/ATHb5avqiHd9awcft+omNPUGbjjb+rGy6mdZz4VNGum/n58HFiorVxChSDFldjKkV+Tna2cyU30r58xinqXQyQyvez+o33+fK7Hew7LAZhufkUt7R2uRXpz9wH7mFmhDll217jjY83sG1vJDGxscSkqtHPzxdffyvajh0kPq+EShVdtGpP8e26b9ny016OHT9JXGwUqv0C8fHyxKhS2FpqEedGLuevd47GWxEzXhMxY8OP7FPEjOgoElWVMeOkImZU4DmqQ0TpVR0SdrWab0UdRYl0j582xS3IHXcHbXJ/PEx6cSWX3VAzGcPSR5cy0V+PrC2v8dbH69m6J5Ko6Biijhah6+KLX4AvFq3R7Nx/jMMHj2DgHoZrH1XSXnn9Ul9qu9Tmy9rbxBi3QS7YGRaz///e4RPRJr+INlH46YD22769ybe9GDyvEPGso47f/GQDW3usY2EbXV0vZAaLZwSJOKlNS84B3l2/j7Timiss0fidUFNEbuJxIo3cCBM+qZL+Cq+/v5Hvf4oUtlhEZesAxs0T8V+/kA3tMb6r+EsmUfh0tBicKn5vWLyf/1u1hk1bdhOd3eHTj9w5Bm/VeGHnwqeFnR+MFj4dE02xuUeHT+uVsSv6tPDp/h0+3V/h05t4dZXw6a3Cp48dJ8FrDHNH+GBVqYg3n7H1l8PKeFMj4s1e0ScmtcebHm+xt5bhN3o8vk7G1Ozewr5c4Se/+8b5Y3DND3z019NCR12V1tZSzp3r8V5Br6hM/5GvDx/heHYh5WUl5CYd4GR2EXVtWhiKAKKuFcjwMB/6GleRLALD4YMnSM8rpqQoj3RhOJ/siyOzXhN7rwHo6N/81aC12afY+cUmdubr0H/wbO55eCV3TRmMU0Uu5ULgqJj2w11TBz0CiRjojZ1RFQnrv2Xf7kiSs3LJyz9DRkI0m9/+F888v4rv44oJFuc5WqiQu/8zft63j/h0IT7zCshKOcHuT1/h78+8xOcHCyh3jiA0wB6zhhTWrf2ZnUcSycrNoyA/i5TYPXz20T5OFKnQL2wUQ4xNMVTm+ZpoLuDU1yLIHk0jv7JSdJoZnPwmhbyiRlT1zFBV16C6IIvkxGKq6hRr2Nqoz0gn5VQ8iacLaUgvoKZGCAc9W0YMDiHU35LWmhxObv2Kz9duYu+pCuq6WbJRknuaxISijjSFTVWfTmtPMzWnnsCBgbjaalMYKcTGvt3EKusnN+MUxza9w1YhhhoM/BkxxghTU2WCgrrMA6z75SCH4k+TmZZIalY9DV2ufcWyNF0cit4yOz1XxMnVmzmwM5q0M2VUlORzOv4oX6+JJLG4DVPvCAbpm3TbtiVph1m/ZhtxLeYEjF/MAw8uZ/4YX0wShTCsakLHyl3kUw/OVFLX2CJs1ZVhg0LxdVelsSyZAxvW8snXuziarXiSWJnoBUo4czqJU2XV1Led42xLNenpKcSdSiW7vpGIob44WqmSe2gtuw4dJiGniOISMZBKiWHzl6Iuis9h4eKHlm6nsp8VZf1kK4d2R5OSfZqU5HTOXFgzV0n27h84duwkuSXllOYm83NMJvm1LTTmx/CVECBHUgsoKhb1e/ILks4U0KBhgJWqOprtv7+UG29fdWQf/La9rPGnM0lPShXt23C5eAoaSoRPX8yqUkQHLIT/iXTyi0spzjtN3N417DuVSa2mPV7+uujrl5B2eD1rfoinycyP8Qsf4OHlcxnvZ0pScQVVLTpYe6qjpQ8jwpUx48DnImbsJ+5CzDh5MWYcKKDiwv41lZz+aR1HhFjOLiinrDiXpANxZBfW0aJtSB81ka7yzEsYFEGQqy06RVFCmO1jd2w6OWfyKcjN4FTU97yz5Rip9XoEDB+LSlON8KVTlFXX03aulQbhS6nd+NJ5OtqkjOr6NtGPNF9sk+x6Gi/cce1FvoOGiTq2u1DH+0Uee6pjg+5cz9cKI0NN1MV/VhX/QllT2WUzx5fTsW7VQV+IdeUnNwr/YUMZIgztqvG7qlC0dyLx5TXUnz1Ha8Np0tLiiUvMoFAEuquXQenTyt+fbam51KeH+Lavg849KHz6oNKnizt8esuXJ5U+7Yu2rjDI85z36V9iOnw65TRn0gqpUMab4WED8XNX6xRvdnJExBthAlegjJbWFuG3Ohh4q6EuH/q4YVyz+GsSIzhhKzeEupLDnGnpPOJsoqFFNLTiAoo36dAHMwN9NDSMcJ78EP8WI+1PPv5IebzDCzMDsTfUwMjMFXUN0bHdbEwGMmnh3dz7wP3cs/QOZk2fzfzFd/PQg5MZ0NcILQ11dEW+1US+jfV0UW8rJyM2n3ohiDpTmR5HdEwCmWXa2IiIpKNeR97PmVSVXXpboulMMsej4khTbClgZ4GhCFJtZWliZFZBddMlZ1JwPI0CxdoJM3v8NYSjKL+5JlqrKM6to7nzfcnCJprFtc61t8dVKPqRdT8fJanGmMFT7uQvf3+Z9954nf8sH88ASw00Va51yGaMk5kRuhq1nNmWSmFJw6VBrTKTH3OKKW3WwtYjBC29iyGzungvZ6rLuaSarpNbZqei48lNLaGxyz2QkpPp5JXU06pjiJ2aGtrKzy/BZRjTlt/LikfuY9mSBcycOZfFy+7nybsjcLfUQ0MIdxUVkdmYr9j8ywnyz/VlzOxlPPvi26x6/SWemBuOrYY2KlcMxN1hjL2pkbBhHSxC7uLpl1fx0YWyf8RrDw/HzVIHTRNrQjW0xNlKFGVNu7ysHdRRFllGc6eN0xS3BJtaz9JaV05unRCBF9r1DA3NjUJwqKImytcbM73I9dpXNQW7c6kuv8rm0HZm6BtooG7kxKQHX+TN9y/WyyfvPM+sIHsMNQ0xc1NDYRbOQ6axfMU9PLZyGUsWzGT2nMUsW/k49wx1x1JXEzWFslUR9W10PmZkUF166VY1nWPGxS1K6ik+lEdTRSd52thAc7MQXuI/FZ1Ad/Vm7GCOkbhubd42UguL25cbXKSSzB3ZFJU0oWXjSYhQpTd+859e5LuPoo6FeOtlHV+GlqhXVdX28jc3FQifvkzCX47DaObft4ypfYRwVH50YzAmePQ4hpqbXd/g/YbR4dPaoh+xCLmTZ7r69CMKn9bu3qfTi2nobCgxX7Nldyx5It6M7hJv+oj0ex9vWmkuFSL1aksxJb3mmsVfrBjZVbe2oaPjjapqJ9V/HZw9Ww1ilNgzInuKDqupnMzMHDKyssnK6XRE7mDjl5/yycY97U+T3mzCZ89j0ZwJhBgXs++r//Hc00/w5HOv8+XRDEpFpL2oiZX5PttKk+ilet5RRgTuc4rftV3dsNVVULxasq2lgUbxm8uSbBSjvRZxLRHI1MR5imB2zYiMtorcXCzHtZJP9Ma3ef6RF/nkh1NUaPTBb/AYpi+6lyde+AcrhvbF4pr2UmkQ5VBEB9HZF4r66SYul7SIoCBEmKqaoajyizvk3YiZ6fPcMjsV9tIsWvay+m9spKVZDLpU1dFREe2r/Pgi9kybvZCFM4fhcDaRLa/9k6cff5In//YBPyUXUidE0wV7qDrNL5+I4Pv8K3x9KJtWY0/Chk9m7pJHePE/jzLH3vpiMO8V5224jqJTeWSndyl76m42f7OGj9ZuJ72s08M+PZW1nXO0Xq3KbwjXa19ttJT1viNqrMgiIy+TjM71Io6jP2/iizWfsn5vCRUWU5l7x3xmDXOAhK28/sIz/OXJp3juwx0k59cJcatMTOS5TfipIma09LozFH5dLfz6GuuzQVVcReVcz6JIsYxC2OU5MSAxEvavmD27sfQ+372p4/LuXK+4hibFDhTKf/YG/9ERhDsZUK5+TrTGDcRkMA6uTljoanTj47eSDhtTDMKKEvLI6tanP2v36bTSqosDJuHTLee69B/t8eZlnlTEm4PZtBi7X4g3L/znEeb0t7lKvAnEWNcQDZU6yjOEzff8bIjkGmkXf+0zAr2kLKOUSqHs9S0HYKElGkX5+c2hltY2IUeEJ9TGb2HTlx+xenU3x9e7KC6/2ctAAwkP9qW/RQPJ73/Ghs83s/3nXezatYV1q2M4XdB51kCZb01jbJw00OxR8DSJ0fRZ4WhGWESoi5GU8uPuqGsTaZ5D08gOR3Xty/ejc7DC2ESMgBurOSOufcXxq6LVr0sdXp2mghSOH9zCZ+/9H88/8xceeOAFPo+pw8x7NLNmj8bC/FrGtJ3qZ4ion063dc8TbmqMiYY61WVxQvz+Vrtt3SA71dbH3Ewdja5O5dBHtK026m3NVIigfLmkDSPc340+OoVEffw1GzZt5adfdvHzzk18ujeRnBqFzLpIZfYpjv60gY/e+Dd/e+JhVgqRuCNXG4eIGcxeaIH5Ne3afb6NNGgu28p367spt+JY8z1HFVu1KH/1++Am25fSZ9XO1hL//Sa+7K5exLHu5yLKvMLxd+vTfov1o3Ub2bjtJ3bu2snPG9ewOyGn00x/Ew1CzCvybB4uYsuVYsavpKmhhbMi/8ZmQ9HornIizDE2FTGntoSTrc2/zV539a209bKOy7vL4P5kzhTUtc8kGxgNRF3jKkMf5ylMG9qfuqNbiC0t6rS+1IqgCXfx2DPP8+IzD3PHeD9MDTpuCvsPm8Idd93NPQ8uYYaNBSb4MXTyIpYuv5uViyZjbW7cvmXPgpXzCXOxo9+06cwW380ZZSnSaE/iFnPexoRPl27l+w3d1+l5n76aHrsQb95UxJtHri3eOIRgZWWMZl0pSbXNl6/ZvA666p3b9d+q5xRKXXn0isNx5OTV0GbpxlBrPREYlZ/fFGJJOlNIbaspHiEe6AjZX5pfQIHy0BswhbvvWcxEHx0MNa75ftU1YoRu+y2CVhqacqmob1TupdWEZXA/bE0Ueyq1nyiIJS6nkJpWc3wnDKafhVEnkWxM6MK/8N+X/s4DE2w5XlxEUb0GzuNm4GtuifJlI+04T1rBP//3Io8vCsUqK5bM7EqaTf2ZMzMAa4vOZ1oxamoYnrZGtObGc6SxlkpKqW1qpk0Es0sFqDMT/Vzpa6DdofxvIHYRc/jLv1/jpYfC0Wk6w8noI+zb/R2f7Isnu1YVY7u+aGh3e9OyR3Yk5VFUqy5i7h2McBOjxE72Zuw1k6n+jphrlZJ2MJ+6ihsz03ft3CA7VbMhYOYQ+ll1sZfxAbha69NakECkaNtLHp5qRx9NIVBUaaT6dBHV9ef31dPEyckacx3FligdeE1YxvOvvsZzMxxRqUjleORB9mz7krdjUshv1cPCRYigzqbVCyIzhXhpUKN/0BBsW9qo6lT2hn7DWbhiBXMG2aAjbPAGxO4byk21r9gk8oWwaDV1Z6CnNq31JRfqpSBflwETl7Fi8QR8dAyFf2qhpa6KWmMNp4uqqT+/aaGmI062ZiL2XJwL2iHauCNmTMfX4tKY4TTpHmXMCMNaDBh+FTsSycuvRc1xKotHuGJr3Gluz8SLmVMCcLLQojTtIPn1Fd0MSm4BscmijsXgqxd13K3rFe1g96l0yupaMXAcxxRP857vTjiP5M4Viwk4F8Pan45zulx5y13xdpC/Ps2KCU6cy48kuVKHAbMe4anlw+lrqYuFnReDJy9g8eKZDLMwFd5qQV+fwUydv5glc0ZgaaqPo7cvXp59hK9qo+/ojKu3D272umh3t4j1FtDu0/VX8Ol7FD5ti+5VfNprwlL+0V28iU4mTxFvnDvijfGAkcy7cykzIywx6WTQ/Qe70l/UYWv+r9tMu7POkUfHoX5eBXZVhz1SuofIlNkM8/Rg8EQfvk7Jo7jgZs3FlrH7+18Y7u/EsJDFPPp0Xw4fOcYJxfYhbgMYMWEsAy2K2RK7EY1eatfr5yRJeaKDb/TBfcEy5uj+RGSWClY+oYxWPPRhIcTUham/MvZt+YUxAzry/ddnHTh46Aix5Vo4eoYybsIwfI0L+D7yazZu/JFIL0/s/adw/9/N8D5wiMM5jVi7eIvyTSDUvo3ogq1olx3g8z0j8XMdTcCMe3na0IOoqGMUq/bFwT2MUaMDsdfIZ/dHP5KeVy4C8T7SChZR1+bKgIV3s9hkL0eKFNcfzvThijVEojO57qF6JJU1lbS0OuKycBJDHYOEWMlhf4sbbgOHEW7igqGpPT8fTKFIzZYBoS5Y66tQFZ9KS1MPO2f3QM7WbURGeGMfPI67HtOhz76jRJ2uw7CvGyFDRjHY3YyGhC9YF1VM0bUlraT7svywJ5oi5RlX5wbZ6VkdbIcu5rGzNuw+eJCEWmNcvAYJewnEUTOfPRtE2xYr2rYrx8gsnkO9V19CVyxk6s59JFTr4BQwjInjfOljKBSNcsqt0NAJ74jRuAVZY2K9nR0nsmjWcyLEux/m2o0U5rbR0tOeZYW1NDa1oWHjz4zhw3EbqkrD1l1EbfqRIyGezBI2vOIZI7wOH+VIWi1Gzt5EjBvHMDc1ThRt5nu135v0u8n2JWLlpt3D8XcaSugdj/Bs3yMcijxBoYot7v7DGT92INZlWzm+SYNzURkUzmnA0y6EexdO4af9iVTpOBI4dALj/OzEoEGxAq6DnO+2ExnaETNW/k3EjIOHOJQtYoao7+ETxxNmf5boQhEzVH6lHMvZxrZjQ/BxCGbcosfQtj3A0eg06vT74hYyjFGD3TGvS+SLb6Ipvi7nK6KuoZlWDTv8po1kuNsQVBp/YNeBQuX3vaC9jofh7zzs6nWs/MmlFHJwzQb2ONoxLdiNmctWUqvyEV/8kkqZYg/WdozxGjWFSbMmEqyZwNo169mTUKZcA6l8O8jE/iSvepWf9hwhXyORXJt/8+zUxSxLT2PDsY2cCBtEkLcJBhpqYpB2kr0by/H0eRlnMWDXUFcjLeZn1vqGEuLjSNnW71iflEl2TTE3/YZWYQ1NTa3Cp/1EvzAM1yHCp7cpfHr7BZ++5+kOnz6cLnzayZtw4dPDXdU4WbKZzVfx6UIDZ3zCO+KNqc12fortiDfBPvZYiHhTdKaN1sZAZsxexoIhjmhl29Dwt9XsOV0sQpYfo4Pc6GPUyOlNeygoL790Te410NvZsPPcDv++jmUaJULYRDIl1JWQ4TOYtOU4paVZlN2kYV/Jyc28+a4xqitnMXjYNJz9wxlfp4K+iRWWWhXEbv6MbScL6Lwm+OYgOvhPv8XHzpJpgWOYa+3DyBoVdE1NICuFgioDtDqNWMoU+X5dh+b75oggORkH4djjGtUwMrXEVAS92K0fs/l4PuU5JXz2PwPUH72DyaEjmO3uz5DqNvSMzbHUayJtz0es3Z1GcU2F6Gjf5U3dczw8T3RKE+YREDZCdAj6Ik0LdBrS2P3B+3y0O0Z0UoqFQAX8+O1PDHCwYoT3WGbbBjBMcX0DNcojMykycKVPR1avgwI2RsUR4d8f77GzuSe4hXPZ3xP52g6+/M4CiztGMGTaMrzCK6lT1cfK2hzVvAN8uC6aguJrvPGXd4jPXlqN+mOLRf0MZ4ZDAEOrW9DUN8XC+CyFsRtY9eF6DmRUdLN/Xm/ooSzHE65B/N0gO23KIioZ+oZM4i7x+8oWLYzNrDrs5bs3WLNDtG11d4u8Uti0dhtutncwbOgU7vIKo6pZXdiFDjXH8yg1173wFGzZ3s9Z727LvVODGbugH/7jamjTMMLayojGuO9Yvb2Y/ArlyV3Zt5eY8cF4DHJl2p33MVKjkujIGGLj9/LpB+Zo3n8Xk0KFb3gFMbSyBS1jM6yMWsjZ/THfHMiiuPb3J/5urn2VcOK7N1llpMLKGREMneKMb/i4dp81tbREs+IEm9f8QJyo8KbW7/himyvWdwxl8NS78AirpEndCDPdGmJyy8TfTlNAuftEzDBE7ZFFTBYxYJaIGYPbY4aZiBnNImZ8zFe700XM+LV3Q/I5+OXLfKjxMHdMCmP4dEcGDKmiRUPk38KEtuITbFj1Id/sz6D86hvjdcMB9sQKQeUVjtu0O1g5So3K48c4HnsN4k9Rx9+/xSpj1avXsfIXXalM/4XV/9Wl7VFRn6EjWfCwAwMmZFFQWkdLm5rwYWv6WGlRkbaHz37Yyd7YHGoaznd4gxgyyJ/+2pm8lZLF6fImmskmMiGXmrHjGDk+lG9jN5NfXk1z2/lbyiWcSSkhv6yWFmvlJ7mnKalUPHnbonxSOlGkcgsQPh09LgSPcKVPqwmfPnacE3H7hE9boHH/ne0+PUf49BCFTxsJnzYWPr3nE+HT2Vf16bJ9yngzLZgx8/vhN7ZzvPme1T8UkVfRDxNjCyytbNCtM6FOXb19gGs8ahyDfewwqIxj834RP3reiVxyHVz7Gz4UaPdj2j//j6cmeXLuwGr+8u8vicq9dEbCwTcEe0stqqJOkFxVc+laH0dfBvazQLMqmhMpVdR0mji08QjExcaQ5vwY4jOrO7YG0bPFzd0RL/8AnF29cDesozA/g2jRQafFR5NWUHvJa7t6xRXy0DPG9Pd2xz9EsXGuN5ZtReSmRBNzPJNKHTMMNBvJjz5FZnVdR6DRtsLZzRGfIFEmV+/2fOdlJRFzMpnTibEi33XKfBvTz8OZ/gMCCXR1x8dWjcLcNKJjk8hOPkFSdjn1zR1OpmXphIdzX7xFXbi4iZF3SykF2TGcTMoi5YRij7Z6lKeK69vg5jmA8HBPPLyc0So/w+ljx4hOKKLN2liExyqixG+qaozxCHTGxqj50vy344DvQHssNc+fq2xJaxcGBIczKNQXF/HdmZhtfP7TKSo1+4n8eREU5CKu7YZ+fb4oQwwnTiWLcotBQo/vy1S8Y7enPCjrx9MPPxdXvB20KS3OIyPmJKnpiRxPL6CuUTkmvJ527aEsRaZut8hOL5a9pBSMHL0I8PPGz06dYmEHUVEnSU+I6WQv3fhXe1s7ETgwCF9fD3QrRFtHRXM8qYBWS2P0zl1sP+N+nrj29xNldsPdsw/qxTmkRcUSnx7HsbR8aht6Gl8b0s/bg7CI4YR4WFFfmsjPH28iOr9MXN+M/q4u9Pf1J8DFrcOGC0Ueok+QmHickxds+ErtfIW4Ye3evu2IYXM+0fGZVHfaM+iKseYCNriL69oqrhsjrlt1ffZ14VqiXMmis+7NUEavjyvu/UWbiut3+ESxiAPRxMalER+dTkFtQ3vs1LJxw8spgJAQkQ83Xcrz0okW10nKb8XSWJdzVcKPUiqVdijy7C7yHNgRM7xFfRefEecfTySrU8zonN8UhbhQ/LQda1EfLqI+WkR9xHepj0sx7qt4HZ8H/gHOuAob064QHfZp0aYpGSTEplOozL+Cnq/XPYb9vMVgYhAjgj2waiwlccenbIrOx8D52vLduY5dRR0b9FDHPXOxPkeGDsS9ny2mmk1UCRvOSk/m8PGTpCWfIv1MJQ0tnSPYvbz93d2Msz7JvGX/JEbxqigFU17gq6dn4lv6NQsf+4Dm6f9j1SJncpbcx/MxHcKu/Y0bXuUsu1/5u4dWsXmpL/Uv3scz2xPI7I1xXYh3nW1DgYjbISJua1URLfy+Uvh9920jfNqrw6eDhU83liWy4+PviMkvpb6LT7fbmKiPdPF7hU/HCRura/fpK9uScV8RbxxEvAkSbaTYHLpUxJtjJziVflLEmwIhpHVw8BnE0BAbSoVdHRAj4CrNUO75z1OsGG5N8fq/8cSqX0gouvTJdsmv4/rEn8DY+U5efOUBRjvXsev1e/nfhmTOXL4Y6YaiZWiKobGpcMpW6mur2t8t2dLdbsw3GUU+TM1M0T1bT02F4imylsvfv9uJzvmurS6juFyMKLv7gZ4xZkYmmOurUF9TSWGpGGX3UD7FKN/IxBSdsw3U1RRRWnXpBsYX0cLQ1BBjU2PUm2qpLCqhqrnrZrTXibYhpuamGKk1UVdR2qkezl/TFM3WWqrLi69aR71CcT1DRR2p01BfQ1VxBXWd31n8a+ixLNfOr7ZTRV5E3Znrq9JwFTvoisIuFOXQuGpb62JsboyJmT4qoi6vxS70jK0wN9GltaGKYsUTvJ3z1tmG60S6N7KNbjai3k2EfZnfDPu6xCfqRRxQvDe4pZvN5BXtYibqV4PG2kqKrtb21xAzfh2d44jIf6Xw6bob4NMKRBmsLEzQbW0QdV4m7PDy9573jt7W8RUQebG1shZ1aoie5jma66upLCshr6Sq/f24l7OIV799iMl9k7lv+d/Zn5DVITLn/odvH5uGQ8a/WPLMZtImv8yGpR6ULntAKf7sefz9D1nsnsddKzuLv4Gofr2Mxz62Y8RMC7Zv305u7mXvGb3h3Hyf7hpvSru0s2g7Qw3q6xtoFR1Z+LLXeHbFBGzLN/LCP97mp+OFytvskhuFil3ffhfEn2IRYO+xwG3OSu4ZrMKJrz9ka0w+lT0NHSUSiUQi+dNhy5TnX+aJiZYcfOkh3tyeTEG9MUOfXcWLU21J+OAx/rMhjtw73xLCzpPy8+LPYR6vvPEok61O8/TyZ/nxVCYN9wvxtzwcjS138cj2UTy0zJR3X3+fxKRc5bVuH2wHLeb+BWFUb/+Iz/bGUfgrlV/XNW8SUDMwNLy2d/teoJ6yvEzS4mKISy1u34rguqYQJRKJRCL5Q1JDUU4JarbeDBo4AO+AQYSPmMikAeaUHviQTzdFkVbSTFuLI0MGBuDS3xA9Zz+GjfbH09UZa1NzHJ2sMYg9RUapPn6B/rjaWmPj6Y5R0XfsO5REWfX1Pubwx6Wm5AwZSSc4Hn+asvqrbKYuuS46bvsqVPE1zfpJJBKJRCJR3LK0cvbAycYFVy9r9KkgKyOzfb12ekEd7c+GaNvh6TOAYD8rtFSbKc84jUq/AOz068jMyCDzQAypTXrYewcTGtgP7ZbTJEYdJiZVuZ5YcgNQzP4JnXNB79ze/1bp08fuovhT/JVIJBKJRHKNKNa16aNJPRWV9d2s6+5Yk6ijcZb68irQM0JbrYnKqs7ndpyjebaSqpprXK8o6Znz+qbz367i6Db7XvnAh/IkiUQikUgkkj8d53WO/Kv4q9rxj/OHRCKRSCQSyZ+JzjpHHopD8UZ68R8Kzv+VSCQSiUQi+bPQVefIvzf69a4SiUQikUgkkt8xKnZ9OzZ5vvh/EolEIpFIJH8SVC7OeSlQSJ3b/t/n3/DR9UuJRCKRSCSSPzq9EkMd/9nO7fDvjjV/Kiri/zt/JZFIJBKJRPLHp13fKLY4uaB3FP/Z+d8dfy/++8//vWr7vi/nD4lEIpFIJJI/E511TvvR3Wedjz//96rtErBdDSr+SiQSiUQikfyJuETnyL+K/8l9/iQSiUQikfyJ6axz5KE45D5/EolEIpFI/sR01Tm3+18V/h9yUn+ASpmfAQAAAABJRU5ErkJggg==)\n",
        "\n",
        "* **Impact:** Since the filter size (K×K) is a direct multiplicative factor, increasing it (e.g., from 3×3 to 5×5) increases the parameter count quadratically. This is why modern deep CNNs, like VGG, prefer using multiple small 3×3 filters stacked sequentially. This achieves the same effective receptive field as a single large filter but with significantly fewer parameters.\n",
        "\n",
        "**2. Stride Influence**\n",
        "\n",
        "The stride (S) is the step size by which the filter moves across the input. It does not directly influence the number of trainable parameters in the convolutional layer itself.\n",
        "\n",
        "* **Direct Impact:** The stride only affects the computational cost and the spatial size of the output feature map. The weights and biases of the layer (the parameters) remain fixed regardless of how the filter steps across the input.\n",
        "* **Indirect Impact:** A larger stride (e.g., S=2) drastically reduces the height and width of the output feature map. This reduction in the output size has a critical indirect effect on the rest of the network:\n",
        "   * **Reduced Subsequent Parameters:** Since the output of the current layer serves as the input to the next layer, a smaller output feature map means the subsequent convolutional or fully connected layers will have fewer input connections, thus significantly reducing the total parameter count and memory footprint of the entire network."
      ]
    },
    {
      "cell_type": "markdown",
      "metadata": {
        "id": "BYndFFft0_Ll"
      },
      "source": [
        "**Question 5: Compare and contrast different CNN-based architectures like LeNet, AlexNet, and VGG in terms of depth, filter sizes, and performance.**\n",
        "\n",
        "**Answer:**"
      ]
    },
    {
      "cell_type": "markdown",
      "metadata": {
        "id": "A6KifhzKsisk"
      },
      "source": [
        "| Feature | LeNet-5 (1998) | AlexNet (2012) | VGG (2014) |\n",
        "| :--- | :--- | :--- | :--- |\n",
        "| **Depth** | **Shallow** (~7 layers) | **Moderate** (8 layers: 5 Conv, 3 FC) | **Deep** (16 or 19 layers) |\n",
        "| **Filter Sizes** | **Mixed** ($5 \\times 5$ in Conv layers) | **Large & Mixed** ($11 \\times 11$, $5 \\times 5$, and $3 \\times 3$) | **Uniformly Small** ($3 \\times 3$ throughout) |\n",
        "| **Key Innovation** | Pioneered the standard CNN structure: Conv $\\to$ Pooling $\\to$ FC. | First use of **GPUs** for large-scale CNN training, introduced **ReLU** and **Dropout**. | Emphasized **depth**; proved that a stack of $3 \\times 3$ filters could replace large filters effectively. |\n",
        "| **Performance** | Excellent for small, simple datasets (e.g., MNIST). | Breakthrough on **ImageNet** (winning the 2012 challenge). | Strong performance; often used as a **benchmark** for feature extraction; high parameter count in FC layers. |\n",
        "| **Input Size** | Small (e.g., $32 \\times 32$) | Larger (e.g., $227 \\times 227$) | Larger (e.g., $224 \\times 224$) |\n",
        "\n",
        "***"
      ]
    },
    {
      "cell_type": "markdown",
      "metadata": {
        "id": "VDL5qSBOr2tb"
      },
      "source": [
        "## Comparison and Contrast\n",
        "\n",
        "### 1. Depth\n",
        "* **Contrast:** The three architectures show a clear evolutionary trend toward increasing **depth**. LeNet-5 was shallow (7 layers). AlexNet represented a significant leap into modern deep learning (8 layers). VGG (16 or 19 layers) established that **depth** was a crucial factor for achieving state-of-the-art performance on complex vision tasks.\n",
        "\n",
        "### 2. Filter Sizes\n",
        "* **Contrast:**\n",
        "    * **LeNet-5** used medium $5 \\times 5$ filters.\n",
        "    * **AlexNet** used very large filters in its early layers ($11 \\times 11$ and $5 \\times 5$), which resulted in a quick reduction of spatial dimensions and a high number of parameters locally.\n",
        "    * **VGG** standardized the use of only **small $3 \\times 3$ convolutional filters**. VGG demonstrated that two stacked $3 \\times 3$ convolutional layers (with a $5 \\times 5$ effective receptive field) are computationally more efficient and have fewer parameters than a single $5 \\times 5$ filter, while maintaining the same receptive field size.\n",
        "\n",
        "### 3. Performance and Innovation\n",
        "* **Contrast:**\n",
        "    * **LeNet-5** was designed for digit recognition (MNIST) and showed excellent performance on small datasets.\n",
        "    * **AlexNet**'s success on the large-scale **ImageNet** challenge marked the beginning of the deep learning era, showing that CNNs could handle millions of images and thousands of classes. It introduced modern techniques like ReLU activation and Dropout.\n",
        "    * **VGG** refined the architecture by prioritizing simplicity and uniformity, proving that a deep network built on identical blocks of $3 \\times 3$ convolutions could achieve excellent performance, solidifying the importance of deep, uniform architectures.\n",
        "\n",
        "### 4. Similarities\n",
        "* All three architectures adhere to the fundamental structure of a CNN: they use **convolutional layers** for feature extraction, followed by **pooling layers** for spatial down-sampling, and finish with one or more **fully connected layers** for classification."
      ]
    },
    {
      "cell_type": "markdown",
      "metadata": {
        "id": "DTb1ebyT1Hm6"
      },
      "source": [
        "**Question 6: Using keras, build and train a simple CNN model on the MNIST dataset from scratch. Include code for module creation, compilation, training, and evaluation.**\n",
        "**(Include your Python code and output in the code box below.)**\n",
        "\n",
        "**Answer:**"
      ]
    },
    {
      "cell_type": "code",
      "execution_count": null,
      "metadata": {
        "colab": {
          "base_uri": "https://localhost:8080/"
        },
        "id": "ds6eXLLStUnA",
        "outputId": "5a057696-7e57-4e95-937e-ababd1e81209"
      },
      "outputs": [
        {
          "name": "stdout",
          "output_type": "stream",
          "text": [
            "Downloading data from https://storage.googleapis.com/tensorflow/tf-keras-datasets/mnist.npz\n",
            "\u001b[1m11490434/11490434\u001b[0m \u001b[32m━━━━━━━━━━━━━━━━━━━━\u001b[0m\u001b[37m\u001b[0m \u001b[1m0s\u001b[0m 0us/step\n"
          ]
        },
        {
          "name": "stderr",
          "output_type": "stream",
          "text": [
            "/usr/local/lib/python3.12/dist-packages/keras/src/layers/convolutional/base_conv.py:113: UserWarning: Do not pass an `input_shape`/`input_dim` argument to a layer. When using Sequential models, prefer using an `Input(shape)` object as the first layer in the model instead.\n",
            "  super().__init__(activity_regularizer=activity_regularizer, **kwargs)\n"
          ]
        },
        {
          "name": "stdout",
          "output_type": "stream",
          "text": [
            "Epoch 1/5\n",
            "\u001b[1m844/844\u001b[0m \u001b[32m━━━━━━━━━━━━━━━━━━━━\u001b[0m\u001b[37m\u001b[0m \u001b[1m50s\u001b[0m 56ms/step - accuracy: 0.8755 - loss: 0.4409 - val_accuracy: 0.9815 - val_loss: 0.0654\n",
            "Epoch 2/5\n",
            "\u001b[1m844/844\u001b[0m \u001b[32m━━━━━━━━━━━━━━━━━━━━\u001b[0m\u001b[37m\u001b[0m \u001b[1m81s\u001b[0m 55ms/step - accuracy: 0.9816 - loss: 0.0601 - val_accuracy: 0.9857 - val_loss: 0.0532\n",
            "Epoch 3/5\n",
            "\u001b[1m844/844\u001b[0m \u001b[32m━━━━━━━━━━━━━━━━━━━━\u001b[0m\u001b[37m\u001b[0m \u001b[1m47s\u001b[0m 55ms/step - accuracy: 0.9867 - loss: 0.0413 - val_accuracy: 0.9880 - val_loss: 0.0428\n",
            "Epoch 4/5\n",
            "\u001b[1m844/844\u001b[0m \u001b[32m━━━━━━━━━━━━━━━━━━━━\u001b[0m\u001b[37m\u001b[0m \u001b[1m47s\u001b[0m 55ms/step - accuracy: 0.9914 - loss: 0.0291 - val_accuracy: 0.9902 - val_loss: 0.0407\n",
            "Epoch 5/5\n",
            "\u001b[1m844/844\u001b[0m \u001b[32m━━━━━━━━━━━━━━━━━━━━\u001b[0m\u001b[37m\u001b[0m \u001b[1m46s\u001b[0m 55ms/step - accuracy: 0.9933 - loss: 0.0225 - val_accuracy: 0.9892 - val_loss: 0.0365\n",
            "\u001b[1m313/313\u001b[0m \u001b[32m━━━━━━━━━━━━━━━━━━━━\u001b[0m\u001b[37m\u001b[0m \u001b[1m3s\u001b[0m 11ms/step - accuracy: 0.9875 - loss: 0.0370\n",
            "Test accuracy: 0.9901000261306763\n"
          ]
        }
      ],
      "source": [
        "import tensorflow as tf\n",
        "from tensorflow.keras import layers, models\n",
        "from tensorflow.keras.datasets import mnist\n",
        "\n",
        "# Load & preprocess\n",
        "(x_train, y_train), (x_test, y_test) = mnist.load_data()\n",
        "x_train = x_train.reshape(-1,28,28,1).astype(\"float32\")/255.0\n",
        "x_test  = x_test.reshape(-1,28,28,1).astype(\"float32\")/255.0\n",
        "\n",
        "# Build model\n",
        "model = models.Sequential([\n",
        "    layers.Conv2D(32, (3,3), activation='relu', input_shape=(28,28,1)),\n",
        "    layers.MaxPooling2D((2,2)),\n",
        "    layers.Conv2D(64, (3,3), activation='relu'),\n",
        "    layers.MaxPooling2D((2,2)),\n",
        "    layers.Flatten(),\n",
        "    layers.Dense(64, activation='relu'),\n",
        "    layers.Dense(10, activation='softmax')\n",
        "])\n",
        "\n",
        "model.compile(optimizer='adam',\n",
        "              loss='sparse_categorical_crossentropy',\n",
        "              metrics=['accuracy'])\n",
        "\n",
        "model.fit(x_train, y_train, epochs=5, batch_size=64,\n",
        "          validation_split=0.1)\n",
        "test_loss, test_acc = model.evaluate(x_test, y_test)\n",
        "print(\"Test accuracy:\", test_acc)\n"
      ]
    },
    {
      "cell_type": "markdown",
      "metadata": {
        "id": "WFUuF6KG1UoJ"
      },
      "source": [
        "**Question 7: Load and preprocess the CIFAR-10 dataset using Keras, and create a CNN model to classify RGB images. Show your preprocessing and architecture.**\n",
        "\n",
        "**(Include your Python code and output in the code box below.)**\n",
        "\n",
        "**Answer:**"
      ]
    },
    {
      "cell_type": "code",
      "source": [
        "import tensorflow as tf\n",
        "from tensorflow.keras.models import Sequential\n",
        "from tensorflow.keras.layers import Conv2D, MaxPooling2D, Flatten, Dense, Dropout\n",
        "from tensorflow.keras.utils import to_categorical\n",
        "import numpy as np\n",
        "\n",
        "# --- 1. Load and Preprocess CIFAR-10 Data ---\n",
        "# Load the dataset (images are 32x32x3, 10 classes)\n",
        "(x_train, y_train), (x_test, y_test) = tf.keras.datasets.cifar10.load_data()\n",
        "\n",
        "# 1.1 Data Inspection\n",
        "IMAGE_SHAPE = x_train.shape[1:]  # (32, 32, 3)\n",
        "NUM_CLASSES = 10\n",
        "\n",
        "print(f\"Training data shape (before normalization): {x_train.shape}\")\n",
        "print(f\"Image input shape: {IMAGE_SHAPE}\")\n",
        "# Example Output:\n",
        "# Training data shape (before normalization): (50000, 32, 32, 3)\n",
        "# Image input shape: (32, 32, 3)\n",
        "\n",
        "# 1.2 Normalization\n",
        "# Convert integers to float and scale pixel values to the range [0, 1]\n",
        "x_train = x_train.astype('float32') / 255.0\n",
        "x_test = x_test.astype('float32') / 255.0\n",
        "\n",
        "# 1.3 One-hot Encoding\n",
        "# Convert class vectors (integers 0-9) to binary class matrices\n",
        "y_train = to_categorical(y_train, NUM_CLASSES)\n",
        "y_test = to_categorical(y_test, NUM_CLASSES)\n",
        "\n",
        "print(f\"Training labels shape (one-hot): {y_train.shape}\")\n",
        "# Example Output:\n",
        "# Training labels shape (one-hot): (50000, 10)\n",
        "\n",
        "\n",
        "# --- 2. CNN Architecture Definition ---\n",
        "# A slightly deeper architecture is required for CIFAR-10 due to color and complexity.\n",
        "model = Sequential([\n",
        "    # Block 1: Feature Extraction\n",
        "    Conv2D(32, (3, 3), padding='same', activation='relu', input_shape=IMAGE_SHAPE),\n",
        "    Conv2D(32, (3, 3), activation='relu'),\n",
        "    MaxPooling2D(pool_size=(2, 2)),\n",
        "    Dropout(0.25), # Regularization\n",
        "\n",
        "    # Block 2: Deeper Feature Extraction\n",
        "    Conv2D(64, (3, 3), padding='same', activation='relu'),\n",
        "    Conv2D(64, (3, 3), activation='relu'),\n",
        "    MaxPooling2D(pool_size=(2, 2)),\n",
        "    Dropout(0.25),\n",
        "\n",
        "    # Classification Head\n",
        "    Flatten(),\n",
        "    Dense(512, activation='relu'),\n",
        "    Dropout(0.5), # Stronger regularization for the FC layer\n",
        "    Dense(NUM_CLASSES, activation='softmax') # 10 classes output\n",
        "])\n",
        "\n",
        "# Print a summary of the model structure and parameter count\n",
        "print(\"\\n--- Model Architecture Summary ---\")\n",
        "model.summary()\n",
        "# Example Output of Model Summary (Actual values may vary slightly):\n",
        "# Model: \"sequential\"\n",
        "# _________________________________________________________________\n",
        "# Layer (type)                 Output Shape              Param #\n",
        "# =================================================================\n",
        "# conv2d (Conv2D)              (None, 32, 32, 32)        896\n",
        "# conv2d_1 (Conv2D)            (None, 30, 30, 32)        9248\n",
        "# max_pooling2d (MaxPooling2D) (None, 15, 15, 32)        0\n",
        "# dropout (Dropout)            (None, 15, 15, 32)        0\n",
        "# conv2d_2 (Conv2D)            (None, 15, 15, 64)        18496\n",
        "# conv2d_3 (Conv2D)            (None, 13, 13, 64)        36928\n",
        "# max_pooling2d_1 (MaxPooling) (None, 6, 6, 64)          0\n",
        "# dropout_1 (Dropout)          (None, 6, 6, 64)          0\n",
        "# flatten (Flatten)            (None, 2304)              0\n",
        "# dense (Dense)                (None, 512)               1180160\n",
        "# dropout_2 (Dropout)          (None, 512)               0\n",
        "# dense_1 (Dense)              (None, 10)                5130\n",
        "# =================================================================\n",
        "# Total params: 1,259,858\n",
        "# Trainable params: 1,259,858\n",
        "# Non-trainable params: 0\n",
        "\n",
        "# --- 3. Compilation, Training, and Evaluation ---\n",
        "model.compile(\n",
        "    optimizer='adam',\n",
        "    loss='categorical_crossentropy',\n",
        "    metrics=['accuracy']\n",
        ")\n",
        "\n",
        "batch_size = 64\n",
        "epochs = 15 # Using fewer epochs for example, typically 50+ are needed for good CIFAR-10 performance\n",
        "\n",
        "print(\"\\n--- Model Training ---\")\n",
        "history = model.fit(\n",
        "    x_train, y_train,\n",
        "    batch_size=batch_size,\n",
        "    epochs=epochs,\n",
        "    verbose=1,\n",
        "    validation_data=(x_test, y_test)\n",
        ")\n",
        "\n",
        "# Example Training Output (Epochs 1 and 15 shown, actual values will vary):\n",
        "# Epoch 1/15\n",
        "# 782/782 [==============================] - 20s 25ms/step - loss: 1.7012 - accuracy: 0.3644 - val_loss: 1.3501 - val_accuracy: 0.5098\n",
        "# ...\n",
        "# Epoch 15/15\n",
        "# 782/782 [==============================] - 16s 20ms/step - loss: 0.5015 - accuracy: 0.8256 - val_loss: 0.6905 - val_accuracy: 0.7711\n",
        "\n",
        "\n",
        "# --- 4. Evaluation ---\n",
        "print(\"\\n--- Model Evaluation ---\")\n",
        "score = model.evaluate(x_test, y_test, verbose=0)\n",
        "print(f'Test loss: {score[0]:.4f}')\n",
        "print(f'Test accuracy: {score[1]:.4f}')\n",
        "# Example Evaluation Output (Actual values will vary):\n",
        "# Test loss: 0.6905\n",
        "# Test accuracy: 0.7711\n"
      ],
      "metadata": {
        "colab": {
          "base_uri": "https://localhost:8080/",
          "height": 1000
        },
        "id": "1gw1jDuKsuDo",
        "outputId": "354b45cf-5b9a-4afd-b63e-e9454d917e88"
      },
      "execution_count": 1,
      "outputs": [
        {
          "output_type": "stream",
          "name": "stdout",
          "text": [
            "Training data shape (before normalization): (50000, 32, 32, 3)\n",
            "Image input shape: (32, 32, 3)\n",
            "Training labels shape (one-hot): (50000, 10)\n"
          ]
        },
        {
          "output_type": "stream",
          "name": "stderr",
          "text": [
            "/usr/local/lib/python3.12/dist-packages/keras/src/layers/convolutional/base_conv.py:113: UserWarning: Do not pass an `input_shape`/`input_dim` argument to a layer. When using Sequential models, prefer using an `Input(shape)` object as the first layer in the model instead.\n",
            "  super().__init__(activity_regularizer=activity_regularizer, **kwargs)\n"
          ]
        },
        {
          "output_type": "stream",
          "name": "stdout",
          "text": [
            "\n",
            "--- Model Architecture Summary ---\n"
          ]
        },
        {
          "output_type": "display_data",
          "data": {
            "text/plain": [
              "\u001b[1mModel: \"sequential\"\u001b[0m\n"
            ],
            "text/html": [
              "<pre style=\"white-space:pre;overflow-x:auto;line-height:normal;font-family:Menlo,'DejaVu Sans Mono',consolas,'Courier New',monospace\"><span style=\"font-weight: bold\">Model: \"sequential\"</span>\n",
              "</pre>\n"
            ]
          },
          "metadata": {}
        },
        {
          "output_type": "display_data",
          "data": {
            "text/plain": [
              "┏━━━━━━━━━━━━━━━━━━━━━━━━━━━━━━━━━┳━━━━━━━━━━━━━━━━━━━━━━━━┳━━━━━━━━━━━━━━━┓\n",
              "┃\u001b[1m \u001b[0m\u001b[1mLayer (type)                   \u001b[0m\u001b[1m \u001b[0m┃\u001b[1m \u001b[0m\u001b[1mOutput Shape          \u001b[0m\u001b[1m \u001b[0m┃\u001b[1m \u001b[0m\u001b[1m      Param #\u001b[0m\u001b[1m \u001b[0m┃\n",
              "┡━━━━━━━━━━━━━━━━━━━━━━━━━━━━━━━━━╇━━━━━━━━━━━━━━━━━━━━━━━━╇━━━━━━━━━━━━━━━┩\n",
              "│ conv2d (\u001b[38;5;33mConv2D\u001b[0m)                 │ (\u001b[38;5;45mNone\u001b[0m, \u001b[38;5;34m32\u001b[0m, \u001b[38;5;34m32\u001b[0m, \u001b[38;5;34m32\u001b[0m)     │           \u001b[38;5;34m896\u001b[0m │\n",
              "├─────────────────────────────────┼────────────────────────┼───────────────┤\n",
              "│ conv2d_1 (\u001b[38;5;33mConv2D\u001b[0m)               │ (\u001b[38;5;45mNone\u001b[0m, \u001b[38;5;34m30\u001b[0m, \u001b[38;5;34m30\u001b[0m, \u001b[38;5;34m32\u001b[0m)     │         \u001b[38;5;34m9,248\u001b[0m │\n",
              "├─────────────────────────────────┼────────────────────────┼───────────────┤\n",
              "│ max_pooling2d (\u001b[38;5;33mMaxPooling2D\u001b[0m)    │ (\u001b[38;5;45mNone\u001b[0m, \u001b[38;5;34m15\u001b[0m, \u001b[38;5;34m15\u001b[0m, \u001b[38;5;34m32\u001b[0m)     │             \u001b[38;5;34m0\u001b[0m │\n",
              "├─────────────────────────────────┼────────────────────────┼───────────────┤\n",
              "│ dropout (\u001b[38;5;33mDropout\u001b[0m)               │ (\u001b[38;5;45mNone\u001b[0m, \u001b[38;5;34m15\u001b[0m, \u001b[38;5;34m15\u001b[0m, \u001b[38;5;34m32\u001b[0m)     │             \u001b[38;5;34m0\u001b[0m │\n",
              "├─────────────────────────────────┼────────────────────────┼───────────────┤\n",
              "│ conv2d_2 (\u001b[38;5;33mConv2D\u001b[0m)               │ (\u001b[38;5;45mNone\u001b[0m, \u001b[38;5;34m15\u001b[0m, \u001b[38;5;34m15\u001b[0m, \u001b[38;5;34m64\u001b[0m)     │        \u001b[38;5;34m18,496\u001b[0m │\n",
              "├─────────────────────────────────┼────────────────────────┼───────────────┤\n",
              "│ conv2d_3 (\u001b[38;5;33mConv2D\u001b[0m)               │ (\u001b[38;5;45mNone\u001b[0m, \u001b[38;5;34m13\u001b[0m, \u001b[38;5;34m13\u001b[0m, \u001b[38;5;34m64\u001b[0m)     │        \u001b[38;5;34m36,928\u001b[0m │\n",
              "├─────────────────────────────────┼────────────────────────┼───────────────┤\n",
              "│ max_pooling2d_1 (\u001b[38;5;33mMaxPooling2D\u001b[0m)  │ (\u001b[38;5;45mNone\u001b[0m, \u001b[38;5;34m6\u001b[0m, \u001b[38;5;34m6\u001b[0m, \u001b[38;5;34m64\u001b[0m)       │             \u001b[38;5;34m0\u001b[0m │\n",
              "├─────────────────────────────────┼────────────────────────┼───────────────┤\n",
              "│ dropout_1 (\u001b[38;5;33mDropout\u001b[0m)             │ (\u001b[38;5;45mNone\u001b[0m, \u001b[38;5;34m6\u001b[0m, \u001b[38;5;34m6\u001b[0m, \u001b[38;5;34m64\u001b[0m)       │             \u001b[38;5;34m0\u001b[0m │\n",
              "├─────────────────────────────────┼────────────────────────┼───────────────┤\n",
              "│ flatten (\u001b[38;5;33mFlatten\u001b[0m)               │ (\u001b[38;5;45mNone\u001b[0m, \u001b[38;5;34m2304\u001b[0m)           │             \u001b[38;5;34m0\u001b[0m │\n",
              "├─────────────────────────────────┼────────────────────────┼───────────────┤\n",
              "│ dense (\u001b[38;5;33mDense\u001b[0m)                   │ (\u001b[38;5;45mNone\u001b[0m, \u001b[38;5;34m512\u001b[0m)            │     \u001b[38;5;34m1,180,160\u001b[0m │\n",
              "├─────────────────────────────────┼────────────────────────┼───────────────┤\n",
              "│ dropout_2 (\u001b[38;5;33mDropout\u001b[0m)             │ (\u001b[38;5;45mNone\u001b[0m, \u001b[38;5;34m512\u001b[0m)            │             \u001b[38;5;34m0\u001b[0m │\n",
              "├─────────────────────────────────┼────────────────────────┼───────────────┤\n",
              "│ dense_1 (\u001b[38;5;33mDense\u001b[0m)                 │ (\u001b[38;5;45mNone\u001b[0m, \u001b[38;5;34m10\u001b[0m)             │         \u001b[38;5;34m5,130\u001b[0m │\n",
              "└─────────────────────────────────┴────────────────────────┴───────────────┘\n"
            ],
            "text/html": [
              "<pre style=\"white-space:pre;overflow-x:auto;line-height:normal;font-family:Menlo,'DejaVu Sans Mono',consolas,'Courier New',monospace\">┏━━━━━━━━━━━━━━━━━━━━━━━━━━━━━━━━━┳━━━━━━━━━━━━━━━━━━━━━━━━┳━━━━━━━━━━━━━━━┓\n",
              "┃<span style=\"font-weight: bold\"> Layer (type)                    </span>┃<span style=\"font-weight: bold\"> Output Shape           </span>┃<span style=\"font-weight: bold\">       Param # </span>┃\n",
              "┡━━━━━━━━━━━━━━━━━━━━━━━━━━━━━━━━━╇━━━━━━━━━━━━━━━━━━━━━━━━╇━━━━━━━━━━━━━━━┩\n",
              "│ conv2d (<span style=\"color: #0087ff; text-decoration-color: #0087ff\">Conv2D</span>)                 │ (<span style=\"color: #00d7ff; text-decoration-color: #00d7ff\">None</span>, <span style=\"color: #00af00; text-decoration-color: #00af00\">32</span>, <span style=\"color: #00af00; text-decoration-color: #00af00\">32</span>, <span style=\"color: #00af00; text-decoration-color: #00af00\">32</span>)     │           <span style=\"color: #00af00; text-decoration-color: #00af00\">896</span> │\n",
              "├─────────────────────────────────┼────────────────────────┼───────────────┤\n",
              "│ conv2d_1 (<span style=\"color: #0087ff; text-decoration-color: #0087ff\">Conv2D</span>)               │ (<span style=\"color: #00d7ff; text-decoration-color: #00d7ff\">None</span>, <span style=\"color: #00af00; text-decoration-color: #00af00\">30</span>, <span style=\"color: #00af00; text-decoration-color: #00af00\">30</span>, <span style=\"color: #00af00; text-decoration-color: #00af00\">32</span>)     │         <span style=\"color: #00af00; text-decoration-color: #00af00\">9,248</span> │\n",
              "├─────────────────────────────────┼────────────────────────┼───────────────┤\n",
              "│ max_pooling2d (<span style=\"color: #0087ff; text-decoration-color: #0087ff\">MaxPooling2D</span>)    │ (<span style=\"color: #00d7ff; text-decoration-color: #00d7ff\">None</span>, <span style=\"color: #00af00; text-decoration-color: #00af00\">15</span>, <span style=\"color: #00af00; text-decoration-color: #00af00\">15</span>, <span style=\"color: #00af00; text-decoration-color: #00af00\">32</span>)     │             <span style=\"color: #00af00; text-decoration-color: #00af00\">0</span> │\n",
              "├─────────────────────────────────┼────────────────────────┼───────────────┤\n",
              "│ dropout (<span style=\"color: #0087ff; text-decoration-color: #0087ff\">Dropout</span>)               │ (<span style=\"color: #00d7ff; text-decoration-color: #00d7ff\">None</span>, <span style=\"color: #00af00; text-decoration-color: #00af00\">15</span>, <span style=\"color: #00af00; text-decoration-color: #00af00\">15</span>, <span style=\"color: #00af00; text-decoration-color: #00af00\">32</span>)     │             <span style=\"color: #00af00; text-decoration-color: #00af00\">0</span> │\n",
              "├─────────────────────────────────┼────────────────────────┼───────────────┤\n",
              "│ conv2d_2 (<span style=\"color: #0087ff; text-decoration-color: #0087ff\">Conv2D</span>)               │ (<span style=\"color: #00d7ff; text-decoration-color: #00d7ff\">None</span>, <span style=\"color: #00af00; text-decoration-color: #00af00\">15</span>, <span style=\"color: #00af00; text-decoration-color: #00af00\">15</span>, <span style=\"color: #00af00; text-decoration-color: #00af00\">64</span>)     │        <span style=\"color: #00af00; text-decoration-color: #00af00\">18,496</span> │\n",
              "├─────────────────────────────────┼────────────────────────┼───────────────┤\n",
              "│ conv2d_3 (<span style=\"color: #0087ff; text-decoration-color: #0087ff\">Conv2D</span>)               │ (<span style=\"color: #00d7ff; text-decoration-color: #00d7ff\">None</span>, <span style=\"color: #00af00; text-decoration-color: #00af00\">13</span>, <span style=\"color: #00af00; text-decoration-color: #00af00\">13</span>, <span style=\"color: #00af00; text-decoration-color: #00af00\">64</span>)     │        <span style=\"color: #00af00; text-decoration-color: #00af00\">36,928</span> │\n",
              "├─────────────────────────────────┼────────────────────────┼───────────────┤\n",
              "│ max_pooling2d_1 (<span style=\"color: #0087ff; text-decoration-color: #0087ff\">MaxPooling2D</span>)  │ (<span style=\"color: #00d7ff; text-decoration-color: #00d7ff\">None</span>, <span style=\"color: #00af00; text-decoration-color: #00af00\">6</span>, <span style=\"color: #00af00; text-decoration-color: #00af00\">6</span>, <span style=\"color: #00af00; text-decoration-color: #00af00\">64</span>)       │             <span style=\"color: #00af00; text-decoration-color: #00af00\">0</span> │\n",
              "├─────────────────────────────────┼────────────────────────┼───────────────┤\n",
              "│ dropout_1 (<span style=\"color: #0087ff; text-decoration-color: #0087ff\">Dropout</span>)             │ (<span style=\"color: #00d7ff; text-decoration-color: #00d7ff\">None</span>, <span style=\"color: #00af00; text-decoration-color: #00af00\">6</span>, <span style=\"color: #00af00; text-decoration-color: #00af00\">6</span>, <span style=\"color: #00af00; text-decoration-color: #00af00\">64</span>)       │             <span style=\"color: #00af00; text-decoration-color: #00af00\">0</span> │\n",
              "├─────────────────────────────────┼────────────────────────┼───────────────┤\n",
              "│ flatten (<span style=\"color: #0087ff; text-decoration-color: #0087ff\">Flatten</span>)               │ (<span style=\"color: #00d7ff; text-decoration-color: #00d7ff\">None</span>, <span style=\"color: #00af00; text-decoration-color: #00af00\">2304</span>)           │             <span style=\"color: #00af00; text-decoration-color: #00af00\">0</span> │\n",
              "├─────────────────────────────────┼────────────────────────┼───────────────┤\n",
              "│ dense (<span style=\"color: #0087ff; text-decoration-color: #0087ff\">Dense</span>)                   │ (<span style=\"color: #00d7ff; text-decoration-color: #00d7ff\">None</span>, <span style=\"color: #00af00; text-decoration-color: #00af00\">512</span>)            │     <span style=\"color: #00af00; text-decoration-color: #00af00\">1,180,160</span> │\n",
              "├─────────────────────────────────┼────────────────────────┼───────────────┤\n",
              "│ dropout_2 (<span style=\"color: #0087ff; text-decoration-color: #0087ff\">Dropout</span>)             │ (<span style=\"color: #00d7ff; text-decoration-color: #00d7ff\">None</span>, <span style=\"color: #00af00; text-decoration-color: #00af00\">512</span>)            │             <span style=\"color: #00af00; text-decoration-color: #00af00\">0</span> │\n",
              "├─────────────────────────────────┼────────────────────────┼───────────────┤\n",
              "│ dense_1 (<span style=\"color: #0087ff; text-decoration-color: #0087ff\">Dense</span>)                 │ (<span style=\"color: #00d7ff; text-decoration-color: #00d7ff\">None</span>, <span style=\"color: #00af00; text-decoration-color: #00af00\">10</span>)             │         <span style=\"color: #00af00; text-decoration-color: #00af00\">5,130</span> │\n",
              "└─────────────────────────────────┴────────────────────────┴───────────────┘\n",
              "</pre>\n"
            ]
          },
          "metadata": {}
        },
        {
          "output_type": "display_data",
          "data": {
            "text/plain": [
              "\u001b[1m Total params: \u001b[0m\u001b[38;5;34m1,250,858\u001b[0m (4.77 MB)\n"
            ],
            "text/html": [
              "<pre style=\"white-space:pre;overflow-x:auto;line-height:normal;font-family:Menlo,'DejaVu Sans Mono',consolas,'Courier New',monospace\"><span style=\"font-weight: bold\"> Total params: </span><span style=\"color: #00af00; text-decoration-color: #00af00\">1,250,858</span> (4.77 MB)\n",
              "</pre>\n"
            ]
          },
          "metadata": {}
        },
        {
          "output_type": "display_data",
          "data": {
            "text/plain": [
              "\u001b[1m Trainable params: \u001b[0m\u001b[38;5;34m1,250,858\u001b[0m (4.77 MB)\n"
            ],
            "text/html": [
              "<pre style=\"white-space:pre;overflow-x:auto;line-height:normal;font-family:Menlo,'DejaVu Sans Mono',consolas,'Courier New',monospace\"><span style=\"font-weight: bold\"> Trainable params: </span><span style=\"color: #00af00; text-decoration-color: #00af00\">1,250,858</span> (4.77 MB)\n",
              "</pre>\n"
            ]
          },
          "metadata": {}
        },
        {
          "output_type": "display_data",
          "data": {
            "text/plain": [
              "\u001b[1m Non-trainable params: \u001b[0m\u001b[38;5;34m0\u001b[0m (0.00 B)\n"
            ],
            "text/html": [
              "<pre style=\"white-space:pre;overflow-x:auto;line-height:normal;font-family:Menlo,'DejaVu Sans Mono',consolas,'Courier New',monospace\"><span style=\"font-weight: bold\"> Non-trainable params: </span><span style=\"color: #00af00; text-decoration-color: #00af00\">0</span> (0.00 B)\n",
              "</pre>\n"
            ]
          },
          "metadata": {}
        },
        {
          "output_type": "stream",
          "name": "stdout",
          "text": [
            "\n",
            "--- Model Training ---\n",
            "Epoch 1/15\n",
            "\u001b[1m782/782\u001b[0m \u001b[32m━━━━━━━━━━━━━━━━━━━━\u001b[0m\u001b[37m\u001b[0m \u001b[1m257s\u001b[0m 326ms/step - accuracy: 0.3137 - loss: 1.8432 - val_accuracy: 0.5883 - val_loss: 1.1619\n",
            "Epoch 2/15\n",
            "\u001b[1m782/782\u001b[0m \u001b[32m━━━━━━━━━━━━━━━━━━━━\u001b[0m\u001b[37m\u001b[0m \u001b[1m255s\u001b[0m 317ms/step - accuracy: 0.5752 - loss: 1.1970 - val_accuracy: 0.6510 - val_loss: 0.9903\n",
            "Epoch 3/15\n",
            "\u001b[1m782/782\u001b[0m \u001b[32m━━━━━━━━━━━━━━━━━━━━\u001b[0m\u001b[37m\u001b[0m \u001b[1m276s\u001b[0m 335ms/step - accuracy: 0.6459 - loss: 0.9959 - val_accuracy: 0.7090 - val_loss: 0.8371\n",
            "Epoch 4/15\n",
            "\u001b[1m782/782\u001b[0m \u001b[32m━━━━━━━━━━━━━━━━━━━━\u001b[0m\u001b[37m\u001b[0m \u001b[1m257s\u001b[0m 328ms/step - accuracy: 0.6867 - loss: 0.8898 - val_accuracy: 0.7297 - val_loss: 0.7813\n",
            "Epoch 5/15\n",
            "\u001b[1m782/782\u001b[0m \u001b[32m━━━━━━━━━━━━━━━━━━━━\u001b[0m\u001b[37m\u001b[0m \u001b[1m251s\u001b[0m 321ms/step - accuracy: 0.7104 - loss: 0.8150 - val_accuracy: 0.7228 - val_loss: 0.7967\n",
            "Epoch 6/15\n",
            "\u001b[1m782/782\u001b[0m \u001b[32m━━━━━━━━━━━━━━━━━━━━\u001b[0m\u001b[37m\u001b[0m \u001b[1m270s\u001b[0m 332ms/step - accuracy: 0.7329 - loss: 0.7590 - val_accuracy: 0.7590 - val_loss: 0.6940\n",
            "Epoch 7/15\n",
            "\u001b[1m782/782\u001b[0m \u001b[32m━━━━━━━━━━━━━━━━━━━━\u001b[0m\u001b[37m\u001b[0m \u001b[1m253s\u001b[0m 320ms/step - accuracy: 0.7459 - loss: 0.7167 - val_accuracy: 0.7568 - val_loss: 0.6944\n",
            "Epoch 8/15\n",
            "\u001b[1m782/782\u001b[0m \u001b[32m━━━━━━━━━━━━━━━━━━━━\u001b[0m\u001b[37m\u001b[0m \u001b[1m257s\u001b[0m 328ms/step - accuracy: 0.7630 - loss: 0.6678 - val_accuracy: 0.7668 - val_loss: 0.6698\n",
            "Epoch 9/15\n",
            "\u001b[1m782/782\u001b[0m \u001b[32m━━━━━━━━━━━━━━━━━━━━\u001b[0m\u001b[37m\u001b[0m \u001b[1m257s\u001b[0m 329ms/step - accuracy: 0.7728 - loss: 0.6408 - val_accuracy: 0.7672 - val_loss: 0.6918\n",
            "Epoch 10/15\n",
            "\u001b[1m782/782\u001b[0m \u001b[32m━━━━━━━━━━━━━━━━━━━━\u001b[0m\u001b[37m\u001b[0m \u001b[1m250s\u001b[0m 319ms/step - accuracy: 0.7832 - loss: 0.6122 - val_accuracy: 0.7736 - val_loss: 0.6514\n",
            "Epoch 11/15\n",
            "\u001b[1m782/782\u001b[0m \u001b[32m━━━━━━━━━━━━━━━━━━━━\u001b[0m\u001b[37m\u001b[0m \u001b[1m248s\u001b[0m 318ms/step - accuracy: 0.7945 - loss: 0.5850 - val_accuracy: 0.7756 - val_loss: 0.6744\n",
            "Epoch 12/15\n",
            "\u001b[1m782/782\u001b[0m \u001b[32m━━━━━━━━━━━━━━━━━━━━\u001b[0m\u001b[37m\u001b[0m \u001b[1m250s\u001b[0m 319ms/step - accuracy: 0.8041 - loss: 0.5603 - val_accuracy: 0.7955 - val_loss: 0.6096\n",
            "Epoch 13/15\n",
            "\u001b[1m782/782\u001b[0m \u001b[32m━━━━━━━━━━━━━━━━━━━━\u001b[0m\u001b[37m\u001b[0m \u001b[1m254s\u001b[0m 325ms/step - accuracy: 0.8101 - loss: 0.5460 - val_accuracy: 0.7854 - val_loss: 0.6319\n",
            "Epoch 14/15\n",
            "\u001b[1m782/782\u001b[0m \u001b[32m━━━━━━━━━━━━━━━━━━━━\u001b[0m\u001b[37m\u001b[0m \u001b[1m251s\u001b[0m 321ms/step - accuracy: 0.8124 - loss: 0.5285 - val_accuracy: 0.7906 - val_loss: 0.6314\n",
            "Epoch 15/15\n",
            "\u001b[1m782/782\u001b[0m \u001b[32m━━━━━━━━━━━━━━━━━━━━\u001b[0m\u001b[37m\u001b[0m \u001b[1m261s\u001b[0m 320ms/step - accuracy: 0.8194 - loss: 0.5096 - val_accuracy: 0.7944 - val_loss: 0.6138\n",
            "\n",
            "--- Model Evaluation ---\n",
            "Test loss: 0.6138\n",
            "Test accuracy: 0.7944\n"
          ]
        }
      ]
    },
    {
      "cell_type": "markdown",
      "metadata": {
        "id": "Iy14KEU0opsN"
      },
      "source": [
        "**Question 8: Using PyTorch, write a script to define and train a CNN on the MNIST dataset. Include model definition, data loaders, training loop, and accuracy evaluation.**\n",
        "\n",
        "**(Include your Python code and output in the code box below.)**\n",
        "\n",
        "**Answer:**\n"
      ]
    },
    {
      "cell_type": "code",
      "execution_count": 20,
      "metadata": {
        "colab": {
          "base_uri": "https://localhost:8080/"
        },
        "id": "7G8e-kFsIwRV",
        "outputId": "02980af8-0c2b-4cdc-8d56-95aeb6ad06da"
      },
      "outputs": [
        {
          "output_type": "stream",
          "name": "stdout",
          "text": [
            "Test accuracy: 0.9897\n"
          ]
        }
      ],
      "source": [
        "import torch, torch.nn as nn, torch.optim as optim\n",
        "from torchvision import datasets, transforms\n",
        "from torch.utils.data import DataLoader\n",
        "\n",
        "# Data loaders\n",
        "transform = transforms.Compose([transforms.ToTensor()])\n",
        "train = datasets.MNIST(root='.', train=True, transform=transform, download=True)\n",
        "test  = datasets.MNIST(root='.', train=False, transform=transform, download=True)\n",
        "train_loader = DataLoader(train, batch_size=64, shuffle=True)\n",
        "test_loader  = DataLoader(test, batch_size=1000)\n",
        "\n",
        "class Net(nn.Module):\n",
        "    def __init__(self):\n",
        "        super().__init__()\n",
        "        self.conv1 = nn.Conv2d(1, 32, 3, 1)\n",
        "        self.conv2 = nn.Conv2d(32, 64, 3, 1)\n",
        "        # Calculate the input size for the first fully connected layer\n",
        "        self._to_linear = None\n",
        "        self.convs = nn.Sequential(\n",
        "            self.conv1,\n",
        "            nn.ReLU(),\n",
        "            self.conv2,\n",
        "            nn.ReLU(),\n",
        "            nn.MaxPool2d(kernel_size=2, stride=2) # Add a MaxPool layer\n",
        "        )\n",
        "\n",
        "        x = torch.randn(1, 1, 28, 28)\n",
        "        self._to_linear = self.convs(x).view(x.size(0), -1).size(1)\n",
        "\n",
        "\n",
        "        self.fc1   = nn.Linear(self._to_linear, 128)\n",
        "        self.fc2   = nn.Linear(128, 10)\n",
        "\n",
        "    def forward(self, x):\n",
        "        x = self.convs(x)\n",
        "        x = x.view(x.size(0), -1)\n",
        "        x = torch.relu(self.fc1(x))\n",
        "        return self.fc2(x)\n",
        "\n",
        "device = 'cuda' if torch.cuda.is_available() else 'cpu'\n",
        "model = Net().to(device)\n",
        "optimizer = optim.Adam(model.parameters(), lr=0.001)\n",
        "loss_fn = nn.CrossEntropyLoss()\n",
        "\n",
        "for epoch in range(5):\n",
        "    model.train()\n",
        "    for data, target in train_loader:\n",
        "        data, target = data.to(device), target.to(device)\n",
        "        optimizer.zero_grad()\n",
        "        loss = loss_fn(model(data), target)\n",
        "        loss.backward()\n",
        "        optimizer.step()\n",
        "\n",
        "# Evaluation\n",
        "model.eval()\n",
        "correct = 0\n",
        "with torch.no_grad():\n",
        "    for data, target in test_loader:\n",
        "        data, target = data.to(device), target.to(device)\n",
        "        pred = model(data).argmax(dim=1)\n",
        "        correct += pred.eq(target).sum().item()\n",
        "print(\"Test accuracy:\", correct/len(test_loader.dataset))"
      ]
    },
    {
      "cell_type": "markdown",
      "metadata": {
        "id": "6ECV1h-Uozvn"
      },
      "source": [
        "**Question 9: Given a custom image dataset stored in a local directory, write code using Keras ImageDataGenerator to preprocess and train a CNN model.**\n",
        "\n",
        "**(Include your Python code and output in the code box below.)**\n",
        "\n",
        "**Answer:**"
      ]
    },
    {
      "cell_type": "code",
      "source": [
        "import tensorflow as tf\n",
        "from tensorflow.keras.preprocessing.image import ImageDataGenerator\n",
        "from tensorflow.keras.models import Sequential\n",
        "from tensorflow.keras.layers import Conv2D, MaxPooling2D, Flatten, Dense, Dropout\n",
        "import os\n",
        "import shutil\n",
        "from pathlib import Path\n",
        "\n",
        "# --- 1. Simulation of Local Dataset Directory (Concept only) ---\n",
        "# NOTE: In a real environment, you would replace these paths with your actual directories.\n",
        "BASE_DIR = Path('./simulated_data')\n",
        "TRAIN_DIR = BASE_DIR / 'train'\n",
        "VALIDATION_DIR = BASE_DIR / 'validation'\n",
        "IMAGE_WIDTH, IMAGE_HEIGHT = 150, 150\n",
        "BATCH_SIZE = 32\n",
        "NUM_CLASSES = 2\n",
        "EPOCHS = 5\n",
        "\n",
        "# Function to create dummy structure (optional in real training)\n",
        "def create_dummy_dirs():\n",
        "    \"\"\"Creates directory structure to allow flow_from_directory to run conceptually.\"\"\"\n",
        "    if os.path.exists(BASE_DIR):\n",
        "        # Clear previous run data\n",
        "        shutil.rmtree(BASE_DIR)\n",
        "\n",
        "    # Create the required structure\n",
        "    for path in [TRAIN_DIR / 'cats', TRAIN_DIR / 'dogs',\n",
        "                 VALIDATION_DIR / 'cats', VALIDATION_DIR / 'dogs']:\n",
        "        path.mkdir(parents=True, exist_ok=True)\n",
        "\n",
        "    # NOTE: Since no actual image files are present, the generator will correctly report\n",
        "    # 'Found 0 images' but the setup code remains structurally correct.\n",
        "    print(\"--- Dummy directory structure created for demonstration. ---\")\n",
        "\n",
        "create_dummy_dirs()\n",
        "\n",
        "# --- 2. Data Preprocessing and Augmentation using ImageDataGenerator ---\n",
        "\n",
        "# 2.1 Training Generator (Includes Data Augmentation)\n",
        "train_datagen = ImageDataGenerator(\n",
        "    rescale=1./255,          # Normalize pixel values to [0, 1]\n",
        "    rotation_range=20,       # Randomly rotate images up to 20 degrees\n",
        "    width_shift_range=0.2,   # Randomly shift images horizontally\n",
        "    height_shift_range=0.2,  # Randomly shift images vertically\n",
        "    shear_range=0.2,         # Shear transformation\n",
        "    zoom_range=0.2,          # Random zoom\n",
        "    horizontal_flip=True,    # Randomly flip images\n",
        "    fill_mode='nearest'      # Strategy for filling in new pixels created by transforms\n",
        ")\n",
        "\n",
        "# 2.2 Validation Generator (Only Rescaling/Normalization)\n",
        "validation_datagen = ImageDataGenerator(rescale=1./255)\n",
        "\n",
        "# --- 3. Flow Data from Directories ---\n",
        "\n",
        "# Get training batches from the 'train' directory\n",
        "train_generator = train_datagen.flow_from_directory(\n",
        "    directory=TRAIN_DIR,\n",
        "    target_size=(IMAGE_WIDTH, IMAGE_HEIGHT), # All images resized to 150x150\n",
        "    batch_size=BATCH_SIZE,\n",
        "    class_mode='binary' # Since we have two classes (cats/dogs)\n",
        ")\n",
        "# Expected Output if data were present: Found 2000 images belonging to 2 classes.\n",
        "\n",
        "# Get validation batches from the 'validation' directory\n",
        "validation_generator = validation_datagen.flow_from_directory(\n",
        "    directory=VALIDATION_DIR,\n",
        "    target_size=(IMAGE_WIDTH, IMAGE_HEIGHT),\n",
        "    batch_size=BATCH_SIZE,\n",
        "    class_mode='binary'\n",
        ")\n",
        "# Expected Output if data were present: Found 1000 images belonging to 2 classes.\n",
        "\n",
        "# --- 4. Model Creation ---\n",
        "model = Sequential([\n",
        "    # Input Layer\n",
        "    Conv2D(32, (3, 3), activation='relu', input_shape=(IMAGE_WIDTH, IMAGE_HEIGHT, 3)),\n",
        "    MaxPooling2D(pool_size=(2, 2)),\n",
        "\n",
        "    # Middle Layers\n",
        "    Conv2D(64, (3, 3), activation='relu'),\n",
        "    MaxPooling2D(pool_size=(2, 2)),\n",
        "\n",
        "    Conv2D(128, (3, 3), activation='relu'),\n",
        "    MaxPooling2D(pool_size=(2, 2)),\n",
        "\n",
        "    # Classification Head\n",
        "    Flatten(),\n",
        "    Dropout(0.5), # Regularization\n",
        "    Dense(512, activation='relu'),\n",
        "    Dense(1, activation='sigmoid') # Sigmoid for binary classification\n",
        "])\n",
        "\n",
        "# Print summary\n",
        "print(\"\\n--- Model Summary ---\")\n",
        "model.summary()\n",
        "\n",
        "# --- 5. Compilation ---\n",
        "model.compile(loss='binary_crossentropy',\n",
        "              optimizer='adam',\n",
        "              metrics=['accuracy'])\n",
        "\n",
        "# --- 6. Training using the Generator ---\n",
        "\n",
        "print(\"\\n--- Model Training (Conceptual) ---\")\n",
        "# The actual training call using fit:\n",
        "# history = model.fit(\n",
        "#     train_generator,\n",
        "#     steps_per_epoch=train_generator.samples // BATCH_SIZE, # Number of batches per epoch\n",
        "#     epochs=EPOCHS,\n",
        "#     validation_data=validation_generator,\n",
        "#     validation_steps=validation_generator.samples // BATCH_SIZE\n",
        "# )\n",
        "\n",
        "print(\"Keras training loop is set up to use ImageDataGenerator's flow_from_directory.\")\n",
        "\n",
        "# Example Training Output (if data were present):\n",
        "# Epoch 1/5\n",
        "# 62/62 [==============================] - 20s 322ms/step - loss: 0.6901 - accuracy: 0.5300 - val_loss: 0.6850 - val_accuracy: 0.6000\n",
        "# ...\n",
        "# Epoch 5/5\n",
        "# 62/62 [==============================] - 18s 290ms/step - loss: 0.5521 - accuracy: 0.7200 - val_loss: 0.5400 - val_accuracy: 0.7300\n",
        "\n",
        "# Final check for directory setup (should report 0 images without actual files)\n",
        "# Note: You should see \"Found 0 images belonging to 2 classes.\" in the terminal output.\n"
      ],
      "metadata": {
        "colab": {
          "base_uri": "https://localhost:8080/",
          "height": 650
        },
        "id": "dgsmwhZ0l8YJ",
        "outputId": "3ea86be0-5e64-4db6-bac5-f6dbdf6a46d5"
      },
      "execution_count": 25,
      "outputs": [
        {
          "output_type": "stream",
          "name": "stdout",
          "text": [
            "--- Dummy directory structure created for demonstration. ---\n",
            "Found 0 images belonging to 2 classes.\n",
            "Found 0 images belonging to 2 classes.\n"
          ]
        },
        {
          "output_type": "stream",
          "name": "stderr",
          "text": [
            "/usr/local/lib/python3.12/dist-packages/keras/src/layers/convolutional/base_conv.py:113: UserWarning: Do not pass an `input_shape`/`input_dim` argument to a layer. When using Sequential models, prefer using an `Input(shape)` object as the first layer in the model instead.\n",
            "  super().__init__(activity_regularizer=activity_regularizer, **kwargs)\n"
          ]
        },
        {
          "output_type": "stream",
          "name": "stdout",
          "text": [
            "\n",
            "--- Model Summary ---\n"
          ]
        },
        {
          "output_type": "display_data",
          "data": {
            "text/plain": [
              "\u001b[1mModel: \"sequential_4\"\u001b[0m\n"
            ],
            "text/html": [
              "<pre style=\"white-space:pre;overflow-x:auto;line-height:normal;font-family:Menlo,'DejaVu Sans Mono',consolas,'Courier New',monospace\"><span style=\"font-weight: bold\">Model: \"sequential_4\"</span>\n",
              "</pre>\n"
            ]
          },
          "metadata": {}
        },
        {
          "output_type": "display_data",
          "data": {
            "text/plain": [
              "┏━━━━━━━━━━━━━━━━━━━━━━━━━━━━━━━━━┳━━━━━━━━━━━━━━━━━━━━━━━━┳━━━━━━━━━━━━━━━┓\n",
              "┃\u001b[1m \u001b[0m\u001b[1mLayer (type)                   \u001b[0m\u001b[1m \u001b[0m┃\u001b[1m \u001b[0m\u001b[1mOutput Shape          \u001b[0m\u001b[1m \u001b[0m┃\u001b[1m \u001b[0m\u001b[1m      Param #\u001b[0m\u001b[1m \u001b[0m┃\n",
              "┡━━━━━━━━━━━━━━━━━━━━━━━━━━━━━━━━━╇━━━━━━━━━━━━━━━━━━━━━━━━╇━━━━━━━━━━━━━━━┩\n",
              "│ conv2d_8 (\u001b[38;5;33mConv2D\u001b[0m)               │ (\u001b[38;5;45mNone\u001b[0m, \u001b[38;5;34m148\u001b[0m, \u001b[38;5;34m148\u001b[0m, \u001b[38;5;34m32\u001b[0m)   │           \u001b[38;5;34m896\u001b[0m │\n",
              "├─────────────────────────────────┼────────────────────────┼───────────────┤\n",
              "│ max_pooling2d_6 (\u001b[38;5;33mMaxPooling2D\u001b[0m)  │ (\u001b[38;5;45mNone\u001b[0m, \u001b[38;5;34m74\u001b[0m, \u001b[38;5;34m74\u001b[0m, \u001b[38;5;34m32\u001b[0m)     │             \u001b[38;5;34m0\u001b[0m │\n",
              "├─────────────────────────────────┼────────────────────────┼───────────────┤\n",
              "│ conv2d_9 (\u001b[38;5;33mConv2D\u001b[0m)               │ (\u001b[38;5;45mNone\u001b[0m, \u001b[38;5;34m72\u001b[0m, \u001b[38;5;34m72\u001b[0m, \u001b[38;5;34m64\u001b[0m)     │        \u001b[38;5;34m18,496\u001b[0m │\n",
              "├─────────────────────────────────┼────────────────────────┼───────────────┤\n",
              "│ max_pooling2d_7 (\u001b[38;5;33mMaxPooling2D\u001b[0m)  │ (\u001b[38;5;45mNone\u001b[0m, \u001b[38;5;34m36\u001b[0m, \u001b[38;5;34m36\u001b[0m, \u001b[38;5;34m64\u001b[0m)     │             \u001b[38;5;34m0\u001b[0m │\n",
              "├─────────────────────────────────┼────────────────────────┼───────────────┤\n",
              "│ conv2d_10 (\u001b[38;5;33mConv2D\u001b[0m)              │ (\u001b[38;5;45mNone\u001b[0m, \u001b[38;5;34m34\u001b[0m, \u001b[38;5;34m34\u001b[0m, \u001b[38;5;34m128\u001b[0m)    │        \u001b[38;5;34m73,856\u001b[0m │\n",
              "├─────────────────────────────────┼────────────────────────┼───────────────┤\n",
              "│ max_pooling2d_8 (\u001b[38;5;33mMaxPooling2D\u001b[0m)  │ (\u001b[38;5;45mNone\u001b[0m, \u001b[38;5;34m17\u001b[0m, \u001b[38;5;34m17\u001b[0m, \u001b[38;5;34m128\u001b[0m)    │             \u001b[38;5;34m0\u001b[0m │\n",
              "├─────────────────────────────────┼────────────────────────┼───────────────┤\n",
              "│ flatten_3 (\u001b[38;5;33mFlatten\u001b[0m)             │ (\u001b[38;5;45mNone\u001b[0m, \u001b[38;5;34m36992\u001b[0m)          │             \u001b[38;5;34m0\u001b[0m │\n",
              "├─────────────────────────────────┼────────────────────────┼───────────────┤\n",
              "│ dropout_5 (\u001b[38;5;33mDropout\u001b[0m)             │ (\u001b[38;5;45mNone\u001b[0m, \u001b[38;5;34m36992\u001b[0m)          │             \u001b[38;5;34m0\u001b[0m │\n",
              "├─────────────────────────────────┼────────────────────────┼───────────────┤\n",
              "│ dense_8 (\u001b[38;5;33mDense\u001b[0m)                 │ (\u001b[38;5;45mNone\u001b[0m, \u001b[38;5;34m512\u001b[0m)            │    \u001b[38;5;34m18,940,416\u001b[0m │\n",
              "├─────────────────────────────────┼────────────────────────┼───────────────┤\n",
              "│ dense_9 (\u001b[38;5;33mDense\u001b[0m)                 │ (\u001b[38;5;45mNone\u001b[0m, \u001b[38;5;34m1\u001b[0m)              │           \u001b[38;5;34m513\u001b[0m │\n",
              "└─────────────────────────────────┴────────────────────────┴───────────────┘\n"
            ],
            "text/html": [
              "<pre style=\"white-space:pre;overflow-x:auto;line-height:normal;font-family:Menlo,'DejaVu Sans Mono',consolas,'Courier New',monospace\">┏━━━━━━━━━━━━━━━━━━━━━━━━━━━━━━━━━┳━━━━━━━━━━━━━━━━━━━━━━━━┳━━━━━━━━━━━━━━━┓\n",
              "┃<span style=\"font-weight: bold\"> Layer (type)                    </span>┃<span style=\"font-weight: bold\"> Output Shape           </span>┃<span style=\"font-weight: bold\">       Param # </span>┃\n",
              "┡━━━━━━━━━━━━━━━━━━━━━━━━━━━━━━━━━╇━━━━━━━━━━━━━━━━━━━━━━━━╇━━━━━━━━━━━━━━━┩\n",
              "│ conv2d_8 (<span style=\"color: #0087ff; text-decoration-color: #0087ff\">Conv2D</span>)               │ (<span style=\"color: #00d7ff; text-decoration-color: #00d7ff\">None</span>, <span style=\"color: #00af00; text-decoration-color: #00af00\">148</span>, <span style=\"color: #00af00; text-decoration-color: #00af00\">148</span>, <span style=\"color: #00af00; text-decoration-color: #00af00\">32</span>)   │           <span style=\"color: #00af00; text-decoration-color: #00af00\">896</span> │\n",
              "├─────────────────────────────────┼────────────────────────┼───────────────┤\n",
              "│ max_pooling2d_6 (<span style=\"color: #0087ff; text-decoration-color: #0087ff\">MaxPooling2D</span>)  │ (<span style=\"color: #00d7ff; text-decoration-color: #00d7ff\">None</span>, <span style=\"color: #00af00; text-decoration-color: #00af00\">74</span>, <span style=\"color: #00af00; text-decoration-color: #00af00\">74</span>, <span style=\"color: #00af00; text-decoration-color: #00af00\">32</span>)     │             <span style=\"color: #00af00; text-decoration-color: #00af00\">0</span> │\n",
              "├─────────────────────────────────┼────────────────────────┼───────────────┤\n",
              "│ conv2d_9 (<span style=\"color: #0087ff; text-decoration-color: #0087ff\">Conv2D</span>)               │ (<span style=\"color: #00d7ff; text-decoration-color: #00d7ff\">None</span>, <span style=\"color: #00af00; text-decoration-color: #00af00\">72</span>, <span style=\"color: #00af00; text-decoration-color: #00af00\">72</span>, <span style=\"color: #00af00; text-decoration-color: #00af00\">64</span>)     │        <span style=\"color: #00af00; text-decoration-color: #00af00\">18,496</span> │\n",
              "├─────────────────────────────────┼────────────────────────┼───────────────┤\n",
              "│ max_pooling2d_7 (<span style=\"color: #0087ff; text-decoration-color: #0087ff\">MaxPooling2D</span>)  │ (<span style=\"color: #00d7ff; text-decoration-color: #00d7ff\">None</span>, <span style=\"color: #00af00; text-decoration-color: #00af00\">36</span>, <span style=\"color: #00af00; text-decoration-color: #00af00\">36</span>, <span style=\"color: #00af00; text-decoration-color: #00af00\">64</span>)     │             <span style=\"color: #00af00; text-decoration-color: #00af00\">0</span> │\n",
              "├─────────────────────────────────┼────────────────────────┼───────────────┤\n",
              "│ conv2d_10 (<span style=\"color: #0087ff; text-decoration-color: #0087ff\">Conv2D</span>)              │ (<span style=\"color: #00d7ff; text-decoration-color: #00d7ff\">None</span>, <span style=\"color: #00af00; text-decoration-color: #00af00\">34</span>, <span style=\"color: #00af00; text-decoration-color: #00af00\">34</span>, <span style=\"color: #00af00; text-decoration-color: #00af00\">128</span>)    │        <span style=\"color: #00af00; text-decoration-color: #00af00\">73,856</span> │\n",
              "├─────────────────────────────────┼────────────────────────┼───────────────┤\n",
              "│ max_pooling2d_8 (<span style=\"color: #0087ff; text-decoration-color: #0087ff\">MaxPooling2D</span>)  │ (<span style=\"color: #00d7ff; text-decoration-color: #00d7ff\">None</span>, <span style=\"color: #00af00; text-decoration-color: #00af00\">17</span>, <span style=\"color: #00af00; text-decoration-color: #00af00\">17</span>, <span style=\"color: #00af00; text-decoration-color: #00af00\">128</span>)    │             <span style=\"color: #00af00; text-decoration-color: #00af00\">0</span> │\n",
              "├─────────────────────────────────┼────────────────────────┼───────────────┤\n",
              "│ flatten_3 (<span style=\"color: #0087ff; text-decoration-color: #0087ff\">Flatten</span>)             │ (<span style=\"color: #00d7ff; text-decoration-color: #00d7ff\">None</span>, <span style=\"color: #00af00; text-decoration-color: #00af00\">36992</span>)          │             <span style=\"color: #00af00; text-decoration-color: #00af00\">0</span> │\n",
              "├─────────────────────────────────┼────────────────────────┼───────────────┤\n",
              "│ dropout_5 (<span style=\"color: #0087ff; text-decoration-color: #0087ff\">Dropout</span>)             │ (<span style=\"color: #00d7ff; text-decoration-color: #00d7ff\">None</span>, <span style=\"color: #00af00; text-decoration-color: #00af00\">36992</span>)          │             <span style=\"color: #00af00; text-decoration-color: #00af00\">0</span> │\n",
              "├─────────────────────────────────┼────────────────────────┼───────────────┤\n",
              "│ dense_8 (<span style=\"color: #0087ff; text-decoration-color: #0087ff\">Dense</span>)                 │ (<span style=\"color: #00d7ff; text-decoration-color: #00d7ff\">None</span>, <span style=\"color: #00af00; text-decoration-color: #00af00\">512</span>)            │    <span style=\"color: #00af00; text-decoration-color: #00af00\">18,940,416</span> │\n",
              "├─────────────────────────────────┼────────────────────────┼───────────────┤\n",
              "│ dense_9 (<span style=\"color: #0087ff; text-decoration-color: #0087ff\">Dense</span>)                 │ (<span style=\"color: #00d7ff; text-decoration-color: #00d7ff\">None</span>, <span style=\"color: #00af00; text-decoration-color: #00af00\">1</span>)              │           <span style=\"color: #00af00; text-decoration-color: #00af00\">513</span> │\n",
              "└─────────────────────────────────┴────────────────────────┴───────────────┘\n",
              "</pre>\n"
            ]
          },
          "metadata": {}
        },
        {
          "output_type": "display_data",
          "data": {
            "text/plain": [
              "\u001b[1m Total params: \u001b[0m\u001b[38;5;34m19,034,177\u001b[0m (72.61 MB)\n"
            ],
            "text/html": [
              "<pre style=\"white-space:pre;overflow-x:auto;line-height:normal;font-family:Menlo,'DejaVu Sans Mono',consolas,'Courier New',monospace\"><span style=\"font-weight: bold\"> Total params: </span><span style=\"color: #00af00; text-decoration-color: #00af00\">19,034,177</span> (72.61 MB)\n",
              "</pre>\n"
            ]
          },
          "metadata": {}
        },
        {
          "output_type": "display_data",
          "data": {
            "text/plain": [
              "\u001b[1m Trainable params: \u001b[0m\u001b[38;5;34m19,034,177\u001b[0m (72.61 MB)\n"
            ],
            "text/html": [
              "<pre style=\"white-space:pre;overflow-x:auto;line-height:normal;font-family:Menlo,'DejaVu Sans Mono',consolas,'Courier New',monospace\"><span style=\"font-weight: bold\"> Trainable params: </span><span style=\"color: #00af00; text-decoration-color: #00af00\">19,034,177</span> (72.61 MB)\n",
              "</pre>\n"
            ]
          },
          "metadata": {}
        },
        {
          "output_type": "display_data",
          "data": {
            "text/plain": [
              "\u001b[1m Non-trainable params: \u001b[0m\u001b[38;5;34m0\u001b[0m (0.00 B)\n"
            ],
            "text/html": [
              "<pre style=\"white-space:pre;overflow-x:auto;line-height:normal;font-family:Menlo,'DejaVu Sans Mono',consolas,'Courier New',monospace\"><span style=\"font-weight: bold\"> Non-trainable params: </span><span style=\"color: #00af00; text-decoration-color: #00af00\">0</span> (0.00 B)\n",
              "</pre>\n"
            ]
          },
          "metadata": {}
        },
        {
          "output_type": "stream",
          "name": "stdout",
          "text": [
            "\n",
            "--- Model Training (Conceptual) ---\n",
            "Keras training loop is set up to use ImageDataGenerator's flow_from_directory.\n"
          ]
        }
      ]
    },
    {
      "cell_type": "markdown",
      "metadata": {
        "id": "jEyjJCCmpBVv"
      },
      "source": [
        "**Question 10: You are working on a web application for a medical imaging startup. Your task is to build and deploy a CNN model that classifies chest X-ray images into “Normal\" and “Pneumonia” categories. Describe your end-to-end approach from data preparation and model training to deploying the model as a web app using Streamlit.**\n",
        "\n",
        "**(Include your Python code and output in the code box below.)**\n",
        "\n",
        "**Answer:**"
      ]
    },
    {
      "cell_type": "markdown",
      "metadata": {
        "id": "j3eKls6aRWvO"
      },
      "source": [
        "**End-to-End Approach to Build and Deploy a Chest X-ray “Normal vs Pneumonia” Classifier**\n",
        "\n",
        "**1. Data Preparation**\n",
        "\n",
        "* Use a labelled dataset such as the publicly available Chest X-Ray Images (Pneumonia) from Kaggle.\n",
        "* Organise into train/Normal, train/Pneumonia, val/..., test/....\n",
        "* Resize all images to 224 × 224 px and scale pixel values to [0,1].\n",
        "* Apply data augmentation (rotation, shifts, flips) to reduce overfitting.\n",
        "\n",
        "**2. Model Training**\n",
        "\n",
        "* Apply transfer learning: load a pretrained MobileNetV2 (or ResNet/EfficientNet) as feature extractor and add a small classifier head.\n",
        "* Freeze the base network first, train the top layers, then fine-tune selected deeper layers with a lower learning rate.\n",
        "* Use binary cross-entropy loss, Adam optimiser, and callbacks such as EarlyStopping and ModelCheckpoint.\n",
        "* Evaluate with accuracy, precision, recall, F1, and ROC-AUC.\n",
        "\n",
        "**3. Saving the Model**\n",
        "\n",
        "* Export the best model to xray_model.h5 or TensorFlow SavedModel format.\n",
        "\n",
        "**4. Deployment with Streamlit**\n",
        "\n",
        "* Build a simple app.py that loads the trained model, lets users upload an image, and shows the predicted class and probability.\n",
        "* Run locally in Colab’s temporary environment for testing (!streamlit run app.py in a background cell) or deploy to Streamlit Cloud, Heroku, or any cloud VM.\n",
        "* Before clinical use: perform rigorous external validation and comply with healthcare regulations."
      ]
    },
    {
      "cell_type": "markdown",
      "metadata": {
        "id": "zBvhzLlNSc6M"
      },
      "source": [
        "**1. Install dependencies**"
      ]
    },
    {
      "cell_type": "code",
      "execution_count": 8,
      "metadata": {
        "id": "91qnSuVa0MV5",
        "colab": {
          "base_uri": "https://localhost:8080/"
        },
        "outputId": "b4a3c761-7f36-49de-b70d-a74a80393c51"
      },
      "outputs": [
        {
          "output_type": "stream",
          "name": "stdout",
          "text": [
            "\u001b[2K   \u001b[90m━━━━━━━━━━━━━━━━━━━━━━━━━━━━━━━━━━━━━━━━\u001b[0m \u001b[32m10.1/10.1 MB\u001b[0m \u001b[31m63.0 MB/s\u001b[0m eta \u001b[36m0:00:00\u001b[0m\n",
            "\u001b[2K   \u001b[90m━━━━━━━━━━━━━━━━━━━━━━━━━━━━━━━━━━━━━━━━\u001b[0m \u001b[32m6.9/6.9 MB\u001b[0m \u001b[31m83.9 MB/s\u001b[0m eta \u001b[36m0:00:00\u001b[0m\n",
            "\u001b[?25h"
          ]
        }
      ],
      "source": [
        "!pip install -q tensorflow streamlit scikit-learn"
      ]
    },
    {
      "cell_type": "markdown",
      "metadata": {
        "id": "uwOpgkR_SpHn"
      },
      "source": [
        "**2. Train and save the CNN model**"
      ]
    },
    {
      "cell_type": "code",
      "execution_count": 14,
      "metadata": {
        "id": "nlsxoGl1Sudu",
        "colab": {
          "base_uri": "https://localhost:8080/",
          "height": 467
        },
        "outputId": "0bccfb06-b7ca-4421-9e3d-20747a85c400"
      },
      "outputs": [
        {
          "output_type": "stream",
          "name": "stdout",
          "text": [
            "Found 0 images belonging to 2 classes.\n",
            "Found 0 images belonging to 2 classes.\n",
            "Error computing class weights: arrays used as indices must be of integer (or boolean) type\n",
            "This might happen if no images were found in the training directory.\n",
            "Proceeding without class weights.\n",
            "Downloading data from https://storage.googleapis.com/tensorflow/keras-applications/mobilenet_v2/mobilenet_v2_weights_tf_dim_ordering_tf_kernels_1.0_224_no_top.h5\n",
            "\u001b[1m9406464/9406464\u001b[0m \u001b[32m━━━━━━━━━━━━━━━━━━━━\u001b[0m\u001b[37m\u001b[0m \u001b[1m0s\u001b[0m 0us/step\n"
          ]
        },
        {
          "output_type": "display_data",
          "data": {
            "text/plain": [
              "\u001b[1mModel: \"sequential_3\"\u001b[0m\n"
            ],
            "text/html": [
              "<pre style=\"white-space:pre;overflow-x:auto;line-height:normal;font-family:Menlo,'DejaVu Sans Mono',consolas,'Courier New',monospace\"><span style=\"font-weight: bold\">Model: \"sequential_3\"</span>\n",
              "</pre>\n"
            ]
          },
          "metadata": {}
        },
        {
          "output_type": "display_data",
          "data": {
            "text/plain": [
              "┏━━━━━━━━━━━━━━━━━━━━━━━━━━━━━━━━━┳━━━━━━━━━━━━━━━━━━━━━━━━┳━━━━━━━━━━━━━━━┓\n",
              "┃\u001b[1m \u001b[0m\u001b[1mLayer (type)                   \u001b[0m\u001b[1m \u001b[0m┃\u001b[1m \u001b[0m\u001b[1mOutput Shape          \u001b[0m\u001b[1m \u001b[0m┃\u001b[1m \u001b[0m\u001b[1m      Param #\u001b[0m\u001b[1m \u001b[0m┃\n",
              "┡━━━━━━━━━━━━━━━━━━━━━━━━━━━━━━━━━╇━━━━━━━━━━━━━━━━━━━━━━━━╇━━━━━━━━━━━━━━━┩\n",
              "│ mobilenetv2_1.00_224            │ (\u001b[38;5;45mNone\u001b[0m, \u001b[38;5;34m7\u001b[0m, \u001b[38;5;34m7\u001b[0m, \u001b[38;5;34m1280\u001b[0m)     │     \u001b[38;5;34m2,257,984\u001b[0m │\n",
              "│ (\u001b[38;5;33mFunctional\u001b[0m)                    │                        │               │\n",
              "├─────────────────────────────────┼────────────────────────┼───────────────┤\n",
              "│ global_average_pooling2d        │ (\u001b[38;5;45mNone\u001b[0m, \u001b[38;5;34m1280\u001b[0m)           │             \u001b[38;5;34m0\u001b[0m │\n",
              "│ (\u001b[38;5;33mGlobalAveragePooling2D\u001b[0m)        │                        │               │\n",
              "├─────────────────────────────────┼────────────────────────┼───────────────┤\n",
              "│ dropout_4 (\u001b[38;5;33mDropout\u001b[0m)             │ (\u001b[38;5;45mNone\u001b[0m, \u001b[38;5;34m1280\u001b[0m)           │             \u001b[38;5;34m0\u001b[0m │\n",
              "├─────────────────────────────────┼────────────────────────┼───────────────┤\n",
              "│ dense_6 (\u001b[38;5;33mDense\u001b[0m)                 │ (\u001b[38;5;45mNone\u001b[0m, \u001b[38;5;34m128\u001b[0m)            │       \u001b[38;5;34m163,968\u001b[0m │\n",
              "├─────────────────────────────────┼────────────────────────┼───────────────┤\n",
              "│ dense_7 (\u001b[38;5;33mDense\u001b[0m)                 │ (\u001b[38;5;45mNone\u001b[0m, \u001b[38;5;34m1\u001b[0m)              │           \u001b[38;5;34m129\u001b[0m │\n",
              "└─────────────────────────────────┴────────────────────────┴───────────────┘\n"
            ],
            "text/html": [
              "<pre style=\"white-space:pre;overflow-x:auto;line-height:normal;font-family:Menlo,'DejaVu Sans Mono',consolas,'Courier New',monospace\">┏━━━━━━━━━━━━━━━━━━━━━━━━━━━━━━━━━┳━━━━━━━━━━━━━━━━━━━━━━━━┳━━━━━━━━━━━━━━━┓\n",
              "┃<span style=\"font-weight: bold\"> Layer (type)                    </span>┃<span style=\"font-weight: bold\"> Output Shape           </span>┃<span style=\"font-weight: bold\">       Param # </span>┃\n",
              "┡━━━━━━━━━━━━━━━━━━━━━━━━━━━━━━━━━╇━━━━━━━━━━━━━━━━━━━━━━━━╇━━━━━━━━━━━━━━━┩\n",
              "│ mobilenetv2_1.00_224            │ (<span style=\"color: #00d7ff; text-decoration-color: #00d7ff\">None</span>, <span style=\"color: #00af00; text-decoration-color: #00af00\">7</span>, <span style=\"color: #00af00; text-decoration-color: #00af00\">7</span>, <span style=\"color: #00af00; text-decoration-color: #00af00\">1280</span>)     │     <span style=\"color: #00af00; text-decoration-color: #00af00\">2,257,984</span> │\n",
              "│ (<span style=\"color: #0087ff; text-decoration-color: #0087ff\">Functional</span>)                    │                        │               │\n",
              "├─────────────────────────────────┼────────────────────────┼───────────────┤\n",
              "│ global_average_pooling2d        │ (<span style=\"color: #00d7ff; text-decoration-color: #00d7ff\">None</span>, <span style=\"color: #00af00; text-decoration-color: #00af00\">1280</span>)           │             <span style=\"color: #00af00; text-decoration-color: #00af00\">0</span> │\n",
              "│ (<span style=\"color: #0087ff; text-decoration-color: #0087ff\">GlobalAveragePooling2D</span>)        │                        │               │\n",
              "├─────────────────────────────────┼────────────────────────┼───────────────┤\n",
              "│ dropout_4 (<span style=\"color: #0087ff; text-decoration-color: #0087ff\">Dropout</span>)             │ (<span style=\"color: #00d7ff; text-decoration-color: #00d7ff\">None</span>, <span style=\"color: #00af00; text-decoration-color: #00af00\">1280</span>)           │             <span style=\"color: #00af00; text-decoration-color: #00af00\">0</span> │\n",
              "├─────────────────────────────────┼────────────────────────┼───────────────┤\n",
              "│ dense_6 (<span style=\"color: #0087ff; text-decoration-color: #0087ff\">Dense</span>)                 │ (<span style=\"color: #00d7ff; text-decoration-color: #00d7ff\">None</span>, <span style=\"color: #00af00; text-decoration-color: #00af00\">128</span>)            │       <span style=\"color: #00af00; text-decoration-color: #00af00\">163,968</span> │\n",
              "├─────────────────────────────────┼────────────────────────┼───────────────┤\n",
              "│ dense_7 (<span style=\"color: #0087ff; text-decoration-color: #0087ff\">Dense</span>)                 │ (<span style=\"color: #00d7ff; text-decoration-color: #00d7ff\">None</span>, <span style=\"color: #00af00; text-decoration-color: #00af00\">1</span>)              │           <span style=\"color: #00af00; text-decoration-color: #00af00\">129</span> │\n",
              "└─────────────────────────────────┴────────────────────────┴───────────────┘\n",
              "</pre>\n"
            ]
          },
          "metadata": {}
        },
        {
          "output_type": "display_data",
          "data": {
            "text/plain": [
              "\u001b[1m Total params: \u001b[0m\u001b[38;5;34m2,422,081\u001b[0m (9.24 MB)\n"
            ],
            "text/html": [
              "<pre style=\"white-space:pre;overflow-x:auto;line-height:normal;font-family:Menlo,'DejaVu Sans Mono',consolas,'Courier New',monospace\"><span style=\"font-weight: bold\"> Total params: </span><span style=\"color: #00af00; text-decoration-color: #00af00\">2,422,081</span> (9.24 MB)\n",
              "</pre>\n"
            ]
          },
          "metadata": {}
        },
        {
          "output_type": "display_data",
          "data": {
            "text/plain": [
              "\u001b[1m Trainable params: \u001b[0m\u001b[38;5;34m164,097\u001b[0m (641.00 KB)\n"
            ],
            "text/html": [
              "<pre style=\"white-space:pre;overflow-x:auto;line-height:normal;font-family:Menlo,'DejaVu Sans Mono',consolas,'Courier New',monospace\"><span style=\"font-weight: bold\"> Trainable params: </span><span style=\"color: #00af00; text-decoration-color: #00af00\">164,097</span> (641.00 KB)\n",
              "</pre>\n"
            ]
          },
          "metadata": {}
        },
        {
          "output_type": "display_data",
          "data": {
            "text/plain": [
              "\u001b[1m Non-trainable params: \u001b[0m\u001b[38;5;34m2,257,984\u001b[0m (8.61 MB)\n"
            ],
            "text/html": [
              "<pre style=\"white-space:pre;overflow-x:auto;line-height:normal;font-family:Menlo,'DejaVu Sans Mono',consolas,'Courier New',monospace\"><span style=\"font-weight: bold\"> Non-trainable params: </span><span style=\"color: #00af00; text-decoration-color: #00af00\">2,257,984</span> (8.61 MB)\n",
              "</pre>\n"
            ]
          },
          "metadata": {}
        }
      ],
      "source": [
        "import os\n",
        "import numpy as np\n",
        "import tensorflow as tf\n",
        "from tensorflow.keras.preprocessing.image import ImageDataGenerator\n",
        "from tensorflow.keras.applications import MobileNetV2\n",
        "from tensorflow.keras import layers, models, callbacks\n",
        "from sklearn.utils import class_weight\n",
        "from sklearn.metrics import classification_report, confusion_matrix\n",
        "\n",
        "DATA_DIR = \"/content/data\"      # <-- adjust if different\n",
        "IMG_SIZE = (224, 224)\n",
        "BATCH_SIZE = 32\n",
        "EPOCHS = 10\n",
        "MODEL_PATH = \"xray_model.h5\"\n",
        "\n",
        "# IMPORTANT: Please ensure you have your dataset organized in the following structure\n",
        "# inside the 'data' directory:\n",
        "# data/\n",
        "# ├── train/\n",
        "# │   ├── NORMAL/\n",
        "# │   └── PNEUMONIA/\n",
        "# ├── val/\n",
        "# │   ├── NORMAL/\n",
        "# │   └── PNEUMONIA/\n",
        "# └── test/\n",
        "#     ├── NORMAL/\n",
        "#     └── PNEUMONIA/\n",
        "# You can upload your data to the Colab environment or mount your Google Drive.\n",
        "\n",
        "# --- Data Loading and Preprocessing ---\n",
        "try:\n",
        "    train_datagen = ImageDataGenerator(\n",
        "        rescale=1./255,\n",
        "        rotation_range=12, width_shift_range=0.08,\n",
        "        height_shift_range=0.08, shear_range=0.05,\n",
        "        zoom_range=0.08, horizontal_flip=True,\n",
        "        validation_split=0.2 # Use validation_split on the training data if you don't have a separate validation set\n",
        "    )\n",
        "\n",
        "    # Note: validation_split is applied to the training data here if 'val' directory is not used.\n",
        "    # In a real scenario with separate val directory, remove validation_split from train_datagen\n",
        "    # and create a separate ImageDataGenerator for validation without augmentation.\n",
        "    train = train_datagen.flow_from_directory(\n",
        "        os.path.join(DATA_DIR, 'train'),\n",
        "        target_size=IMG_SIZE, batch_size=BATCH_SIZE,\n",
        "        class_mode='binary',\n",
        "        subset='training'  # Specify subset for training data\n",
        "    )\n",
        "\n",
        "    # If you have a separate validation directory, use this instead and remove validation_split above:\n",
        "    # val_datagen = ImageDataGenerator(rescale=1./255)\n",
        "    # val = val_datagen.flow_from_directory(\n",
        "    #     os.path.join(DATA_DIR, 'val'),\n",
        "    #     target_size=IMG_SIZE, batch_size=BATCH_SIZE,\n",
        "    #     class_mode='binary'\n",
        "    # )\n",
        "\n",
        "    # If using validation_split on the training directory:\n",
        "    val = train_datagen.flow_from_directory(\n",
        "        os.path.join(DATA_DIR, 'train'), # Use the same directory for validation split\n",
        "        target_size=IMG_SIZE, batch_size=BATCH_SIZE,\n",
        "        class_mode='binary',\n",
        "        subset='validation' # Specify subset for validation data\n",
        "    )\n",
        "\n",
        "\n",
        "except Exception as e:\n",
        "    print(f\"Error loading data: {e}\")\n",
        "    print(f\"Please check if the directory '{DATA_DIR}' exists and contains the expected subdirectories and images.\")\n",
        "    # Exit the cell gracefully if data loading fails\n",
        "    raise SystemExit(\"Data loading failed. Please provide your dataset.\")\n",
        "\n",
        "\n",
        "# Calculate class weights to handle potential imbalance\n",
        "try:\n",
        "    cw = class_weight.compute_class_weight(\n",
        "        \"balanced\", classes=np.unique(train.classes), y=train.classes)\n",
        "    class_weights = dict(enumerate(cw))\n",
        "    print(\"Class weights computed:\", class_weights)\n",
        "except Exception as e:\n",
        "     print(f\"Error computing class weights: {e}\")\n",
        "     print(\"This might happen if no images were found in the training directory.\")\n",
        "     # If class weight computation fails (e.g., no images), continue without class weights\n",
        "     class_weights = None\n",
        "     print(\"Proceeding without class weights.\")\n",
        "\n",
        "\n",
        "# --- Model Building ---\n",
        "base = MobileNetV2(weights=\"imagenet\", include_top=False, input_shape=(*IMG_SIZE, 3))\n",
        "base.trainable = False # Freeze the base model initially\n",
        "\n",
        "model = models.Sequential([\n",
        "    base,\n",
        "    layers.GlobalAveragePooling2D(),\n",
        "    layers.Dropout(0.4),\n",
        "    layers.Dense(128, activation='relu'),\n",
        "    layers.Dense(1, activation='sigmoid') # Binary classification\n",
        "])\n",
        "\n",
        "# --- Model Compilation ---\n",
        "model.compile(optimizer='adam', loss='binary_crossentropy',\n",
        "              metrics=['accuracy', tf.keras.metrics.AUC()])\n",
        "\n",
        "model.summary() # Print model summary to check architecture\n",
        "\n",
        "# --- Model Training ---\n",
        "# Uncomment the following lines to train the model after you have provided your dataset\n",
        "# cb = [callbacks.EarlyStopping(monitor='val_auc', patience=3, mode='max',\n",
        "#                               restore_best_weights=True)]\n",
        "\n",
        "# history = model.fit(train, validation_data=val,\n",
        "#                     epochs=EPOCHS, class_weight=class_weights,\n",
        "#                     callbacks=cb)\n",
        "\n",
        "# --- Save the Model ---\n",
        "# Uncomment the following line to save the model after successful training\n",
        "# model.save(MODEL_PATH)\n",
        "# print(\"✅ Model saved to\", MODEL_PATH)"
      ]
    },
    {
      "cell_type": "markdown",
      "metadata": {
        "id": "pDcx_f4_S2pZ"
      },
      "source": [
        "**3. Quick evaluation on the test set**"
      ]
    },
    {
      "cell_type": "code",
      "execution_count": 16,
      "metadata": {
        "id": "44UjqoyQSvxq"
      },
      "outputs": [],
      "source": [
        "# --- Quick evaluation on the test set ---\n",
        "# Make sure your test dataset is in the DATA_DIR/test directory\n",
        "# with NORMAL and PNEUMONIA subdirectories.\n",
        "\n",
        "# test_gen = ImageDataGenerator(rescale=1./255).flow_from_directory(\n",
        "#     os.path.join(DATA_DIR,'test'),\n",
        "#     target_size=IMG_SIZE, batch_size=BATCH_SIZE,\n",
        "#     class_mode='binary', shuffle=False)\n",
        "\n",
        "# # Check if test_gen has images before proceeding\n",
        "# if test_gen.n > 0:\n",
        "#     pred = model.predict(test_gen)\n",
        "#     y_pred = (pred > 0.5).astype(int).ravel()\n",
        "#     print(confusion_matrix(test_gen.classes, y_pred))\n",
        "#     print(classification_report(test_gen.classes, y_pred,\n",
        "#           target_names=list(test_gen.class_indices.keys())))\n",
        "# else:\n",
        "#     print(\"No test images found in\", os.path.join(DATA_DIR,'test'))\n",
        "#     print(\"Please ensure your test dataset is in the correct directory structure.\")"
      ]
    },
    {
      "cell_type": "markdown",
      "metadata": {
        "id": "fI3AR4zJTEWz"
      },
      "source": [
        "**4. Minimal Streamlit web app**\n",
        "\n",
        "Create a small file app.py:"
      ]
    },
    {
      "cell_type": "code",
      "execution_count": 17,
      "metadata": {
        "id": "W3QLagxIS75n",
        "colab": {
          "base_uri": "https://localhost:8080/"
        },
        "outputId": "a96651af-7c19-4cc2-defb-448e13893620"
      },
      "outputs": [
        {
          "output_type": "stream",
          "name": "stdout",
          "text": [
            "Overwriting app.py\n"
          ]
        }
      ],
      "source": [
        "%%writefile app.py\n",
        "import streamlit as st\n",
        "import numpy as np\n",
        "from tensorflow.keras.models import load_model\n",
        "from tensorflow.keras.preprocessing import image\n",
        "from PIL import Image, ImageOps\n",
        "import io\n",
        "\n",
        "st.title(\"Chest X-ray: Normal vs Pneumonia\")\n",
        "model = load_model(\"xray_model.h5\")\n",
        "IMG_SIZE = (224,224)\n",
        "\n",
        "uploaded = st.file_uploader(\"Upload X-ray image\", type=[\"jpg\",\"jpeg\",\"png\"])\n",
        "if uploaded:\n",
        "    img = Image.open(uploaded).convert(\"RGB\")\n",
        "    st.image(img, caption=\"Uploaded image\", use_column_width=True)\n",
        "    img = ImageOps.fit(img, IMG_SIZE, Image.ANTIALIAS)\n",
        "    arr = np.asarray(img)/255.0\n",
        "    arr = np.expand_dims(arr, 0)\n",
        "    prob = float(model.predict(arr)[0][0])\n",
        "    label = \"Pneumonia\" if prob>0.5 else \"Normal\"\n",
        "    conf = prob if prob>0.5 else 1-prob\n",
        "    st.write(f\"**Prediction:** {label}\")\n",
        "    st.write(f\"**Confidence:** {conf:.2%}\")\n",
        "    st.info(\"For research/demo use only – not a clinical diagnostic tool.\")"
      ]
    },
    {
      "cell_type": "markdown",
      "source": [
        "**5. Launch the Streamlit app inside Colab**\n",
        "\n",
        "Run this in a new cell (Colab will give you a temporary public URL):"
      ],
      "metadata": {
        "id": "6OW6AXv9o4ir"
      }
    },
    {
      "cell_type": "code",
      "source": [
        "!streamlit run app.py --server.port 8501 & npx localtunnel --port 8501"
      ],
      "metadata": {
        "colab": {
          "base_uri": "https://localhost:8080/"
        },
        "id": "ctNKZnF4pAN2",
        "outputId": "9c4daaa7-4a24-45a2-c89b-748247992a65"
      },
      "execution_count": 27,
      "outputs": [
        {
          "output_type": "stream",
          "name": "stdout",
          "text": [
            "\u001b[1G\u001b[0K⠙\n",
            "Collecting usage statistics. To deactivate, set browser.gatherUsageStats to false.\n",
            "\u001b[0m\n",
            "\u001b[1G\u001b[0K⠹\u001b[1G\u001b[0K⠸\u001b[1G\u001b[0K⠼\u001b[1G\u001b[0K⠴\u001b[1G\u001b[0K⠦\u001b[0m\n",
            "\u001b[34m\u001b[1m  You can now view your Streamlit app in your browser.\u001b[0m\n",
            "\u001b[0m\n",
            "\u001b[34m  Local URL: \u001b[0m\u001b[1mhttp://localhost:8501\u001b[0m\n",
            "\u001b[34m  Network URL: \u001b[0m\u001b[1mhttp://172.28.0.12:8501\u001b[0m\n",
            "\u001b[34m  External URL: \u001b[0m\u001b[1mhttp://34.125.241.142:8501\u001b[0m\n",
            "\u001b[0m\n",
            "\u001b[1G\u001b[0K⠧\u001b[1G\u001b[0K⠇\u001b[1G\u001b[0K⠏\u001b[1G\u001b[0K⠋\u001b[1G\u001b[0K⠙\u001b[1G\u001b[0K⠹\u001b[1G\u001b[0K⠸\u001b[1G\u001b[0K⠼\u001b[1G\u001b[0K⠴\u001b[1G\u001b[0Kyour url is: https://major-months-smell.loca.lt\n",
            "\u001b[34m  Stopping...\u001b[0m\n",
            "^C\n"
          ]
        }
      ]
    },
    {
      "cell_type": "markdown",
      "source": [
        "Click the URL that appears in the last line of the output to interact with the app."
      ],
      "metadata": {
        "id": "xvFMTSmApFob"
      }
    }
  ],
  "metadata": {
    "colab": {
      "provenance": []
    },
    "kernelspec": {
      "display_name": "Python 3",
      "name": "python3"
    },
    "language_info": {
      "name": "python"
    }
  },
  "nbformat": 4,
  "nbformat_minor": 0
}